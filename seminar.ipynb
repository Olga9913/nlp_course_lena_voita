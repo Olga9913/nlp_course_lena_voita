{
 "cells": [
  {
   "cell_type": "markdown",
   "metadata": {},
   "source": [
    "## Seminar 1: Fun with Word Embeddings (3 points)\n",
    "\n",
    "Today we gonna play with word embeddings: train our own little embedding, load one from   gensim model zoo and use it to visualize text corpora.\n",
    "\n",
    "This whole thing is gonna happen on top of embedding dataset.\n",
    "\n",
    "__Requirements:__  `pip install --upgrade nltk gensim bokeh` , but only if you're running locally."
   ]
  },
  {
   "cell_type": "code",
   "execution_count": 1,
   "metadata": {
    "collapsed": true,
    "ExecuteTime": {
     "end_time": "2023-06-06T18:03:45.158419127Z",
     "start_time": "2023-06-06T18:03:36.886593857Z"
    }
   },
   "outputs": [
    {
     "name": "stdout",
     "output_type": "stream",
     "text": [
      "--2023-06-06 21:03:36--  https://www.dropbox.com/s/obaitrix9jyu84r/quora.txt?dl=1\r\n",
      "Resolving www.dropbox.com (www.dropbox.com)... 162.125.70.18, 2620:100:6026:18::a27d:4612\r\n",
      "Connecting to www.dropbox.com (www.dropbox.com)|162.125.70.18|:443... connected.\r\n",
      "HTTP request sent, awaiting response... 302 Found\r\n",
      "Location: /s/dl/obaitrix9jyu84r/quora.txt [following]\r\n",
      "--2023-06-06 21:03:37--  https://www.dropbox.com/s/dl/obaitrix9jyu84r/quora.txt\r\n",
      "Reusing existing connection to www.dropbox.com:443.\r\n",
      "HTTP request sent, awaiting response... 302 Found\r\n",
      "Location: https://uc3c3682a3040bbfc0e1da099654.dl.dropboxusercontent.com/cd/0/get/B9d0-CnCIXoNEyEoblXTP9_GgjKBpX4nxK577qScpwc21fmDBSszZZglQRe8haoyRWOV6yr2TVgeFjBdUmzHPoxDpRDcXhhZDhnwrFf2Nm7-TNmUaJmxe3Iqn0JtoTEJe-fOaZOC9_hMAO-baTru4kF-4VHXYFWDNrZiph4VEIbC6A/file?dl=1# [following]\r\n",
      "--2023-06-06 21:03:38--  https://uc3c3682a3040bbfc0e1da099654.dl.dropboxusercontent.com/cd/0/get/B9d0-CnCIXoNEyEoblXTP9_GgjKBpX4nxK577qScpwc21fmDBSszZZglQRe8haoyRWOV6yr2TVgeFjBdUmzHPoxDpRDcXhhZDhnwrFf2Nm7-TNmUaJmxe3Iqn0JtoTEJe-fOaZOC9_hMAO-baTru4kF-4VHXYFWDNrZiph4VEIbC6A/file?dl=1\r\n",
      "Resolving uc3c3682a3040bbfc0e1da099654.dl.dropboxusercontent.com (uc3c3682a3040bbfc0e1da099654.dl.dropboxusercontent.com)... 162.125.70.15, 2620:100:6026:15::a27d:460f\r\n",
      "Connecting to uc3c3682a3040bbfc0e1da099654.dl.dropboxusercontent.com (uc3c3682a3040bbfc0e1da099654.dl.dropboxusercontent.com)|162.125.70.15|:443... connected.\r\n",
      "HTTP request sent, awaiting response... 200 OK\r\n",
      "Length: 33813903 (32M) [application/binary]\r\n",
      "Saving to: ‘./quora.txt’\r\n",
      "\r\n",
      "./quora.txt         100%[===================>]  32.25M  6.52MB/s    in 6.1s    \r\n",
      "\r\n",
      "2023-06-06 21:03:45 (5.26 MB/s) - ‘./quora.txt’ saved [33813903/33813903]\r\n",
      "\r\n"
     ]
    }
   ],
   "source": [
    "# download the data:\n",
    "!wget https://www.dropbox.com/s/obaitrix9jyu84r/quora.txt?dl=1 -O ./quora.txt\n",
    "# alternative download link: https://yadi.sk/i/BPQrUu1NaTduEw"
   ]
  },
  {
   "cell_type": "code",
   "execution_count": 2,
   "metadata": {
    "scrolled": false,
    "ExecuteTime": {
     "end_time": "2023-06-06T18:21:22.899400680Z",
     "start_time": "2023-06-06T18:21:22.713799894Z"
    }
   },
   "outputs": [
    {
     "data": {
      "text/plain": "\"What TV shows or books help you read people's body language?\\n\""
     },
     "execution_count": 2,
     "metadata": {},
     "output_type": "execute_result"
    }
   ],
   "source": [
    "import numpy as np\n",
    "\n",
    "data = list(open(\"./quora.txt\", encoding=\"utf-8\"))\n",
    "data[50]"
   ]
  },
  {
   "cell_type": "markdown",
   "metadata": {},
   "source": [
    "__Tokenization:__ a typical first step for an nlp task is to split raw data into words.\n",
    "The text we're working with is in raw format: with all the punctuation and smiles attached to some words, so a simple str.split won't do.\n",
    "\n",
    "Let's use __`nltk`__ - a library that handles many nlp tasks like tokenization, stemming or part-of-speech tagging."
   ]
  },
  {
   "cell_type": "code",
   "execution_count": 3,
   "metadata": {
    "ExecuteTime": {
     "end_time": "2023-06-06T18:21:29.787434807Z",
     "start_time": "2023-06-06T18:21:28.680365817Z"
    }
   },
   "outputs": [
    {
     "name": "stdout",
     "output_type": "stream",
     "text": [
      "['What', 'TV', 'shows', 'or', 'books', 'help', 'you', 'read', 'people', \"'\", 's', 'body', 'language', '?']\n"
     ]
    }
   ],
   "source": [
    "from nltk.tokenize import WordPunctTokenizer\n",
    "tokenizer = WordPunctTokenizer()\n",
    "\n",
    "print(tokenizer.tokenize(data[50]))"
   ]
  },
  {
   "cell_type": "code",
   "execution_count": 4,
   "metadata": {
    "collapsed": true,
    "ExecuteTime": {
     "end_time": "2023-06-06T18:21:36.231674259Z",
     "start_time": "2023-06-06T18:21:33.048761035Z"
    }
   },
   "outputs": [],
   "source": [
    "# TASK: lowercase everything and extract tokens with tokenizer. \n",
    "# data_tok should be a list of lists of tokens for each line in data.\n",
    "\n",
    "data_tok = [tokenizer.tokenize(x.lower()) for x in data]"
   ]
  },
  {
   "cell_type": "code",
   "execution_count": 5,
   "outputs": [
    {
     "data": {
      "text/plain": "[['can',\n  'i',\n  'get',\n  'back',\n  'with',\n  'my',\n  'ex',\n  'even',\n  'though',\n  'she',\n  'is',\n  'pregnant',\n  'with',\n  'another',\n  'guy',\n  \"'\",\n  's',\n  'baby',\n  '?'],\n ['what',\n  'are',\n  'some',\n  'ways',\n  'to',\n  'overcome',\n  'a',\n  'fast',\n  'food',\n  'addiction',\n  '?'],\n ['who',\n  'were',\n  'the',\n  'great',\n  'chinese',\n  'soldiers',\n  'and',\n  'leaders',\n  'who',\n  'fought',\n  'in',\n  'ww2',\n  '?'],\n ['what', 'are', 'zip', 'codes', 'in', 'the', 'bay', 'area', '?'],\n ['why',\n  'was',\n  'george',\n  'rr',\n  'martin',\n  'critical',\n  'of',\n  'jk',\n  'rowling',\n  'after',\n  'losing',\n  'the',\n  'hugo',\n  'award',\n  '?'],\n ['what', 'can', 'i', 'do', 'to', 'improve', 'my', 'immune', 'system', '?'],\n ['how',\n  'is',\n  'your',\n  'relationship',\n  'with',\n  'your',\n  'mother',\n  'in',\n  'law',\n  '?'],\n ['how',\n  'does',\n  'one',\n  'get',\n  'free',\n  'psn',\n  'codes',\n  '/',\n  'vita',\n  'codes',\n  '?'],\n ['what', 'is', 'your', 'review', 'of', 'osquery', '?'],\n ['how', 'can', 'i', 'look', 'smart', 'and', 'act', 'smart', '?'],\n ['which',\n  'brand',\n  'should',\n  'go',\n  'with',\n  'the',\n  'gtx',\n  '960',\n  'graphic',\n  'card',\n  ',',\n  'msi',\n  ',',\n  'zotac',\n  'or',\n  'asus',\n  '?'],\n ['what', 'is', 'the', 'zip', 'code', 'of', 'india', '?'],\n ['as',\n  'an',\n  'indian',\n  'doctor',\n  'practicing',\n  'in',\n  'my',\n  'own',\n  'private',\n  'clinic',\n  '.',\n  'how',\n  'can',\n  'i',\n  'earn',\n  'more',\n  '?',\n  'what',\n  'other',\n  'sources',\n  'of',\n  'income',\n  'can',\n  'i',\n  'use',\n  '?'],\n ['is',\n  'windows',\n  'the',\n  'only',\n  'os',\n  'that',\n  'is',\n  'not',\n  'based',\n  'on',\n  'unix',\n  'or',\n  'linux',\n  '?'],\n ['how', 'can', 'i', 'avoid', 'using', 'facebook', '?'],\n ['how',\n  'do',\n  'you',\n  'get',\n  'a',\n  'norton',\n  'security',\n  'renewal',\n  'code',\n  '?'],\n ['does',\n  'emc',\n  'plan',\n  'a',\n  'lightweight',\n  'web',\n  'client',\n  'for',\n  'documentum',\n  '?'],\n ['where',\n  'is',\n  'the',\n  'strangest',\n  'place',\n  'you',\n  \"'\",\n  've',\n  'ever',\n  'masturbated',\n  '?'],\n ['tamil',\n  'nadu',\n  ',',\n  'india',\n  ':',\n  'what',\n  'can',\n  'we',\n  'learn',\n  'from',\n  'ex',\n  'cm',\n  'j',\n  '.',\n  'jayalalitha',\n  '?'],\n ['which',\n  'car',\n  'should',\n  'i',\n  'buy',\n  'out',\n  'of',\n  'tiago',\n  ',',\n  'kwid',\n  ',',\n  'figo',\n  ',',\n  'datsun',\n  'or',\n  'any',\n  'other',\n  '?'],\n ['who', 'discovered', 'plate', 'tectonics', 'and', 'how', '?'],\n ['is',\n  'the',\n  'earth',\n  'the',\n  'only',\n  'planet',\n  'that',\n  'has',\n  'life',\n  'on',\n  'it',\n  '?'],\n ['how',\n  'can',\n  'i',\n  'get',\n  'a',\n  'ride',\n  'on',\n  'a',\n  'civilian',\n  'c',\n  '-',\n  '130',\n  '?'],\n ['what', 'does', 'entertainment', 'mean', 'for', 'you', '?'],\n ['how',\n  'is',\n  'the',\n  'experience',\n  'to',\n  'be',\n  'an',\n  'extra',\n  'on',\n  'the',\n  'show',\n  '-',\n  'how',\n  'i',\n  'met',\n  'your',\n  'mother',\n  '?'],\n ['will',\n  'windows',\n  'run',\n  'well',\n  'enough',\n  'to',\n  'use',\n  'excel',\n  'and',\n  'outlook',\n  'in',\n  'a',\n  'vm',\n  'on',\n  'the',\n  'new',\n  '2015',\n  'macbook',\n  '?'],\n ['is',\n  'it',\n  'true',\n  'that',\n  'ancient',\n  'china',\n  'had',\n  'no',\n  'glass',\n  '?',\n  'or',\n  'was',\n  'it',\n  'no',\n  'clear',\n  'glass',\n  '?',\n  'or',\n  'not',\n  '?'],\n ['what', 'is', 'your', 'review', 'of', 'ipad', 'mini', '2', '?'],\n ['what', 'is', 'the', 'purpose', 'of', 'steam', 'turbine', '?'],\n ['when',\n  'do',\n  'you',\n  'really',\n  'need',\n  'to',\n  'create',\n  'an',\n  'abstract',\n  'class',\n  '?'],\n ['how', 'are', 'dalmatian', 'dogs', 'like', 'as', 'pets', '?'],\n ['are',\n  'drivers',\n  'within',\n  'rich',\n  'countries',\n  'less',\n  'likely',\n  'to',\n  'slow',\n  'down',\n  'when',\n  'they',\n  'see',\n  'a',\n  'driver',\n  \"'\",\n  's',\n  'turn',\n  'signal',\n  '?'],\n ['are', 'asian', 'girls', 'attracted', 'to', 'black', 'guys', '?'],\n ['from',\n  'where',\n  'can',\n  'i',\n  'buy',\n  'castor',\n  'oil',\n  'for',\n  'hair',\n  'in',\n  'mumbai',\n  '?'],\n ['does',\n  'cvs',\n  'still',\n  'develop',\n  'film',\n  '?',\n  'why',\n  'or',\n  'why',\n  'not',\n  '?'],\n ['can', 'china', 'always', 'print', 'money', '?'],\n ['what', 'is', 'fake', 'software', '?'],\n ['how', 'do', 'students', 'at', 'iit', 'get', 'foreign', 'internships', '?'],\n ['how', 'do', 'i', 'find', 'my', 'life', \"'\", 's', 'goal', '?'],\n ['what', 'are', 'the', 'upcoming', 'mobiles', '?'],\n ['what',\n  'is',\n  'the',\n  'chemical',\n  'formula',\n  'for',\n  'hydrochloric',\n  'acid',\n  '?'],\n ['which',\n  'is',\n  'the',\n  'biggest',\n  'disneyland',\n  'in',\n  'the',\n  'world',\n  '?',\n  'what',\n  'is',\n  'the',\n  'best',\n  'way',\n  'to',\n  'get',\n  'entrance',\n  'tickets',\n  'for',\n  'it',\n  '?'],\n ['how', 'does', 'the', 'finance', 'credit', 'score', 'work', '?'],\n ['how', 'do', 'i', 'meet', 'foreign', 'guys', 'in', 'hong', 'kong', '?'],\n ['is', 'the', 'atm', 'business', 'still', 'viable', '?'],\n ['how',\n  'can',\n  'i',\n  'learn',\n  'to',\n  'speak',\n  'english',\n  'well',\n  'in',\n  'non',\n  '-',\n  'english',\n  'environment',\n  '?'],\n ['can',\n  'a',\n  'high',\n  'school',\n  'student',\n  'get',\n  'an',\n  'internship',\n  'at',\n  'goldman',\n  'sachs',\n  '?'],\n ['who', 'are', 'the', 'top', 'business', 'coaches', 'in', 'australia', '?'],\n ['why', 'do', 'girls', 'wait', 'for', 'boys', 'to', 'propose', '?'],\n ['should',\n  'cricket',\n  'be',\n  'our',\n  'national',\n  'sport',\n  'and',\n  'not',\n  'hockey',\n  '?'],\n ['what',\n  'tv',\n  'shows',\n  'or',\n  'books',\n  'help',\n  'you',\n  'read',\n  'people',\n  \"'\",\n  's',\n  'body',\n  'language',\n  '?'],\n ['i',\n  'see',\n  'this',\n  'cute',\n  'girl',\n  'around',\n  'my',\n  'college',\n  '.',\n  'i',\n  \"'\",\n  'm',\n  'too',\n  'shy',\n  'to',\n  'approach',\n  'her',\n  '.',\n  'is',\n  'it',\n  'acceptable',\n  'to',\n  'leave',\n  'her',\n  'a',\n  'note',\n  'with',\n  'my',\n  'feelings',\n  'and',\n  'number',\n  '?'],\n ['what',\n  'schools',\n  'can',\n  'i',\n  'apply',\n  'for',\n  'with',\n  'a',\n  'gre',\n  'score',\n  'of',\n  'q',\n  '-',\n  '165',\n  'v',\n  '-',\n  '153',\n  '?'],\n ['what',\n  'is',\n  'the',\n  'solution',\n  'for',\n  'this',\n  'quickbooks',\n  'error',\n  '12031',\n  '?'],\n ['do',\n  'you',\n  'think',\n  'the',\n  'aap',\n  'will',\n  'fulfill',\n  'the',\n  'promises',\n  'they',\n  'mentioned',\n  'in',\n  'their',\n  'manifesto',\n  '?',\n  'why',\n  'and',\n  'how',\n  '?'],\n ['what',\n  'are',\n  'all',\n  'the',\n  'pros',\n  'and',\n  'cons',\n  'of',\n  'having',\n  'dual',\n  'citizenship',\n  '?'],\n ['can',\n  'someone',\n  'translate',\n  'this',\n  'one',\n  'from',\n  'italian',\n  'or',\n  'latin',\n  '?'],\n ['what', 'is', '“', 'directive', '”?'],\n ['what', 'is', 'the', 'density', 'and', 'volume', 'of', 'black', 'hole', '?'],\n ['what', 'does', '\"', 'las', 'vegas', '\"', 'mean', '?'],\n ['is',\n  'it',\n  'possible',\n  'to',\n  'lick',\n  'a',\n  'toad',\n  'and',\n  'get',\n  'high',\n  '?'],\n ['who', 'nominates', 'the', 'president', 'of', 'india', '?'],\n ['how',\n  'does',\n  'linkedin',\n  'work',\n  '?',\n  'i',\n  \"'\",\n  'm',\n  'getting',\n  'connections',\n  'so',\n  'now',\n  'what',\n  '?',\n  'how',\n  'do',\n  'i',\n  'find',\n  'a',\n  'job',\n  '?'],\n ['how', 'can', 'i', 'record', 'a', 'facetime', 'call', 'on', 'a', 'mac', '?'],\n ['what', 'are', 'the', 'application', 'of', 'binary', 'search', 'trees', '?'],\n ['why',\n  'do',\n  'symptoms',\n  'persist',\n  'even',\n  'when',\n  'you',\n  'know',\n  'they',\n  'are',\n  'psychosomatic',\n  '?'],\n ['what', 'are', 'the', 'best', 'digital', 'marketing', 'agencies', '?'],\n ['why',\n  'is',\n  'my',\n  '128gb',\n  'micro',\n  'sd',\n  'card',\n  \"'\",\n  's',\n  'capacity',\n  'reduced',\n  'to',\n  '119gb',\n  '?',\n  'in',\n  'linux',\n  'it',\n  'showed',\n  '128gb',\n  '.',\n  'but',\n  'now',\n  'it',\n  'only',\n  'shows',\n  'said',\n  'capacity',\n  'even',\n  'in',\n  'ubuntu',\n  '.'],\n ['did', 'you', 'visit', 'vietnam', '?'],\n ['are', 'there', 'any', 'nobel', 'prize', 'winners', 'on', 'quora', '?'],\n ['what', 'are', 'the', 'alternatives', 'to', 'walkme', '?'],\n ['is', 'love', 'the', 'most', 'precious', 'thing', 'in', 'life', '?'],\n ['how',\n  'can',\n  'i',\n  'download',\n  'cool',\n  'stuff',\n  'on',\n  'my',\n  'iphone',\n  'like',\n  'they',\n  'have',\n  'on',\n  'cydia',\n  'cause',\n  'i',\n  \"'\",\n  'm',\n  'not',\n  'jailbroken',\n  '?'],\n ['how', 'do', 'i', 'start', 'investing', 'in', 'stocks', 'with', '100', '€?'],\n ['what',\n  'is',\n  'quantitative',\n  'analysis',\n  'in',\n  'finance',\n  '?',\n  'how',\n  'is',\n  'it',\n  'applied',\n  '?'],\n ['what',\n  'is',\n  'the',\n  'process',\n  'to',\n  'be',\n  'a',\n  'guest',\n  'speaker',\n  'on',\n  'npr',\n  '?'],\n ['we',\n  'can',\n  \"'\",\n  't',\n  'see',\n  'the',\n  'universe',\n  'beyond',\n  'our',\n  'time',\n  'and',\n  'mind',\n  '.',\n  'why',\n  '?'],\n ['what', 'does', 'a', 'programmer', 'do', 'at', 'their', 'job', '?'],\n ['why',\n  'does',\n  'china',\n  'not',\n  'want',\n  'to',\n  'be',\n  'seen',\n  'as',\n  'a',\n  'superpower',\n  '?',\n  'while',\n  'india',\n  'is',\n  'very',\n  'keen',\n  'on',\n  'being',\n  'seen',\n  'as',\n  'one',\n  '?'],\n ['for',\n  'the',\n  'g',\n  '+',\n  '5',\n  'building',\n  ',',\n  'what',\n  'is',\n  'the',\n  'minimum',\n  'steel',\n  'section',\n  'used',\n  'as',\n  'bracings',\n  'in',\n  'staad',\n  '?'],\n ['what',\n  'are',\n  'some',\n  'of',\n  'the',\n  'most',\n  'epic',\n  'photos',\n  'ever',\n  'taken',\n  '?'],\n ['why',\n  'do',\n  'our',\n  'feet',\n  'and',\n  'other',\n  'body',\n  'parts',\n  '\"',\n  'fall',\n  'asleep',\n  '\"?'],\n ['who', 'are', 'the', 'true', 'muslims', ',', 'shia', 'or', 'sunni', '?'],\n ['how',\n  'much',\n  'can',\n  'be',\n  'served',\n  'with',\n  'a',\n  'liter',\n  'bottle',\n  'of',\n  'vodka',\n  '?'],\n ['why',\n  'do',\n  'people',\n  'pay',\n  'for',\n  'netflix',\n  'when',\n  'they',\n  'can',\n  'stream',\n  'online',\n  'for',\n  'free',\n  'and',\n  'in',\n  'better',\n  'quality',\n  '?'],\n ['is', 'euthanasia', 'ever', 'morally', 'permissible', '?'],\n ['is',\n  'it',\n  'worth',\n  'it',\n  'to',\n  'loose',\n  'your',\n  'virginity',\n  'as',\n  'a',\n  'freshman',\n  'in',\n  'high',\n  'school',\n  '?'],\n ['what',\n  'do',\n  'you',\n  'think',\n  'about',\n  'rbi',\n  'directive',\n  'of',\n  'allowing',\n  'only',\n  'once',\n  'to',\n  'deposit',\n  'old',\n  'notes',\n  'in',\n  'bank',\n  'account',\n  '?'],\n ['what',\n  'hill',\n  'station',\n  '/',\n  'picnic',\n  'spot',\n  'is',\n  'of',\n  'equal',\n  'distance',\n  'from',\n  'bangalore',\n  'and',\n  'pune',\n  '?'],\n ['how', 'can', 'i', 'make', 'myself', 'read', 'an', 'entire', 'book', '?'],\n ['how', 'do', 'you', 'become', 'chancellor', 'of', 'a', 'university', '?'],\n ['if', 'trump', 'wins', 'will', 'there', 'be', 'a', 'nuclear', 'war', '?'],\n ['how',\n  'do',\n  'i',\n  'prevent',\n  'users',\n  'on',\n  'the',\n  'same',\n  'netflix',\n  'account',\n  'from',\n  'seeing',\n  'my',\n  'profile',\n  '?'],\n ['what', 'was', 'osama', 'bin', 'laden', 'like', 'as', 'a', 'person', '?'],\n ['which',\n  'was',\n  'the',\n  'best',\n  'porn',\n  'video',\n  'you',\n  'have',\n  'ever',\n  'seen',\n  '?',\n  'why',\n  'was',\n  'that',\n  'the',\n  'best',\n  'one',\n  '?'],\n ['how', 'can', 'i', 'get', 'sbi', 'transaction', 'id', '?'],\n ['what',\n  'is',\n  'a',\n  'good',\n  'way',\n  'to',\n  'start',\n  'studying',\n  'for',\n  'a',\n  'career',\n  'in',\n  'cybersecurity',\n  '?'],\n ['what', 'are', 'the', 'components', 'of', 'fitness', '?'],\n ['what',\n  'is',\n  'the',\n  'good',\n  'approach',\n  'to',\n  'implement',\n  'rest',\n  'api',\n  'either',\n  'to',\n  'go',\n  'with',\n  'http',\n  'status',\n  'codes',\n  'or',\n  'creating',\n  'custom',\n  'error',\n  'field',\n  'by',\n  'always',\n  'returning',\n  '200',\n  '?'],\n ['what',\n  'is',\n  'the',\n  'iupac',\n  'name',\n  'of',\n  'tert',\n  '-',\n  'butyl',\n  'chloride',\n  '?'],\n ['how', 'similar', 'are', 'soylent', 'and', 'ensure', 'nutritionally', '?'],\n ['what', 'is', 'the', 'future', 'of', 'sociology', 'education', '?'],\n ['how', 'can', 'i', 'choose', 'to', 'make', 'the', 'right', 'decision', '?'],\n ['what', 'does', 'void', '*', 'p', '=', '&', 'p', 'mean', 'in', 'c', '++?'],\n ['can',\n  'you',\n  'take',\n  'mucinex',\n  'if',\n  'you',\n  'have',\n  'high',\n  'blood',\n  'pressure',\n  '?'],\n ['which',\n  'universities',\n  'have',\n  'good',\n  'ph',\n  '.',\n  'd',\n  'programs',\n  'in',\n  'image',\n  'processing',\n  'and',\n  'computer',\n  'vision',\n  '?'],\n ['what', 'is', 'your', 'favorite', 'moment', 'with', 'quora', '?'],\n ['how', 'can', 'i', 'make', 'studying', 'more', 'interesting', '?'],\n ['how',\n  'are',\n  'the',\n  'balloons',\n  'designed',\n  'and',\n  'built',\n  'for',\n  'the',\n  'macy',\n  \"'\",\n  's',\n  'thanksgiving',\n  'day',\n  'parade',\n  '?'],\n ['what', 'is', 'the', 'significance', 'of', 'bicsi', 'cec', '?'],\n ['how', 'do', 'you', 'set', 'a', 'honeywell', 'thermostat', '?'],\n ['which',\n  'needs',\n  'more',\n  'power',\n  'in',\n  'a',\n  'laptop',\n  ',',\n  'gaming',\n  'or',\n  'video',\n  'editing',\n  '?'],\n ['what',\n  'is',\n  'the',\n  'meaning',\n  'of',\n  'a',\n  'hindi',\n  'word',\n  'ब',\n  'े',\n  'दब',\n  'ी?'],\n ['what',\n  'are',\n  'some',\n  'good',\n  'books',\n  'to',\n  'learn',\n  'data',\n  'structures',\n  'and',\n  'algorithms',\n  'for',\n  'a',\n  'beginner',\n  '?'],\n ['what',\n  'are',\n  'some',\n  'of',\n  'the',\n  'best',\n  'answers',\n  'written',\n  'on',\n  'women',\n  'empowerment',\n  '?'],\n ['what',\n  'makes',\n  'isis',\n  'attractive',\n  'for',\n  'the',\n  'youth',\n  'living',\n  'in',\n  'the',\n  'western',\n  'countries',\n  '?'],\n ['what', 'is', 'adding', '1', '/', '2', 'to', '1', '/', '4', 'equals', '?'],\n ['how',\n  'do',\n  'i',\n  'differentiate',\n  'between',\n  'human',\n  'and',\n  'animal',\n  'blood',\n  '?'],\n ['what', 'is', 'the', 'difference', 'between', 'watts', 'and', 'lumens', '?'],\n ['how', 'does', 'getting', 'a', 'divorce', 'change', 'your', 'life', '?'],\n ['what', 'happens', 'to', 'my', 'stock', 'options', 'when', 'i', 'quit', '?'],\n ['do', 'fetuses', 'suffer', 'during', 'an', 'abortion', '?'],\n ['chefs',\n  ',',\n  'do',\n  'you',\n  'write',\n  'your',\n  'own',\n  'menus',\n  'for',\n  'cooking',\n  'at',\n  'home',\n  '?',\n  'i',\n  'made',\n  'a',\n  'static',\n  'menu',\n  'with',\n  'three',\n  'cuisines',\n  '.',\n  'do',\n  'you',\n  'have',\n  'tips',\n  'for',\n  'writing',\n  'menus',\n  '?'],\n ['how', 'do', 'i', 'make', 'best', 'use', 'of', 'ieee', '?'],\n ['what', 'are', 'the', 'uga', 'sat', 'score', 'requirements', '?'],\n ['i',\n  'get',\n  'aroused',\n  'when',\n  'i',\n  'see',\n  'movie',\n  'scene',\n  'where',\n  'slave',\n  'get',\n  'whipped',\n  'and',\n  'get',\n  'excited',\n  'when',\n  'see',\n  'red',\n  'strips',\n  'on',\n  'their',\n  'back',\n  '.',\n  'is',\n  'it',\n  'normal',\n  '?'],\n ['what',\n  'distinguishes',\n  'litigation',\n  'from',\n  'other',\n  'forms',\n  'of',\n  'legal',\n  'intervention',\n  '?'],\n ['are', 'all', 'good', 'deeds', 'inherently', 'selfish', '?'],\n ['which',\n  'are',\n  'some',\n  'of',\n  'the',\n  'best',\n  'horror',\n  'hollywood',\n  'movies',\n  'to',\n  'watch',\n  '?'],\n ['in',\n  'the',\n  'case',\n  'of',\n  'a',\n  'power',\n  'plant',\n  ',',\n  'what',\n  'is',\n  'the',\n  'difference',\n  'between',\n  'a',\n  'synchronous',\n  'generator',\n  'and',\n  'an',\n  'asynchronous',\n  'generator',\n  '?',\n  'which',\n  'is',\n  'preferred',\n  'and',\n  'why',\n  '?'],\n ['if',\n  'the',\n  'education',\n  'system',\n  'in',\n  'the',\n  'u',\n  '.',\n  's',\n  '.',\n  'is',\n  'really',\n  'bad',\n  ',',\n  'why',\n  'are',\n  'people',\n  'all',\n  'over',\n  'the',\n  'world',\n  'coming',\n  'to',\n  'the',\n  'u',\n  '.',\n  's',\n  '.',\n  'for',\n  'education',\n  '?'],\n ['what',\n  'is',\n  'the',\n  'scope',\n  'of',\n  'material',\n  'science',\n  'engineering',\n  '?'],\n ['as',\n  'a',\n  'practising',\n  'financial',\n  'planner',\n  'in',\n  'india',\n  ',',\n  'how',\n  'much',\n  'have',\n  'you',\n  'been',\n  'able',\n  'to',\n  'make',\n  'in',\n  'terms',\n  'of',\n  'advisory',\n  'fee',\n  'alone',\n  '?'],\n ['which',\n  'is',\n  'the',\n  'best',\n  'digital',\n  'marketing',\n  'company',\n  'in',\n  'pune',\n  '?'],\n ['what',\n  'stats',\n  'prove',\n  'that',\n  'after',\n  'school',\n  'activities',\n  'combat',\n  'the',\n  'achievement',\n  'gap',\n  'and',\n  'promote',\n  'college',\n  'admissions',\n  '?'],\n ['how', 'do', 'i', 'pronounce', 'òló', '?'],\n ['i',\n  'have',\n  'not',\n  'paid',\n  'amount',\n  'for',\n  'taking',\n  'parents',\n  'in',\n  'tu',\n  'convocation',\n  ',',\n  'can',\n  'i',\n  'take',\n  'them',\n  '?'],\n ['opportunities', 'after', 'phd', 'in', 'sweden', 'in', 'medicine', '?'],\n ['what',\n  'are',\n  'the',\n  'automobile',\n  'projects',\n  'related',\n  'to',\n  'design',\n  'and',\n  'analysis',\n  'of',\n  'automobile',\n  'part',\n  '?'],\n ['what',\n  'is',\n  'the',\n  'basic',\n  'computer',\n  'knowledge',\n  'that',\n  'everyone',\n  'should',\n  'know',\n  '?'],\n ['what',\n  'are',\n  'the',\n  'most',\n  'well',\n  'known',\n  'start',\n  '-',\n  'up',\n  'or',\n  'venture',\n  'capital',\n  'firms',\n  '?'],\n ['which',\n  'are',\n  'the',\n  'best',\n  'colleges',\n  'in',\n  'usa',\n  'for',\n  'aerospace',\n  'engineering',\n  '?'],\n ['why',\n  'are',\n  'some',\n  'items',\n  'made',\n  'of',\n  'wool',\n  'so',\n  'itchy',\n  ',',\n  'but',\n  'others',\n  'soft',\n  '?'],\n ['how',\n  'do',\n  'people',\n  'get',\n  'obese',\n  '?',\n  'do',\n  'they',\n  'eat',\n  'a',\n  'lot',\n  'more',\n  'than',\n  'the',\n  'average',\n  'person',\n  '?'],\n ['how',\n  'do',\n  'you',\n  'get',\n  'wireless',\n  'internet',\n  'for',\n  'a',\n  'desktop',\n  'computer',\n  '?'],\n ['what', 'is', 'your', 'favorite', 'song', 'at', 'the', 'moment', '?'],\n ['can', 'cancer', 'be', 'cured', 'by', 'healing', '?'],\n ['what', 'kind', 'of', 'pens', 'write', 'much', 'better', '?'],\n ['why',\n  'men',\n  'don',\n  \"'\",\n  't',\n  'take',\n  'divorced',\n  'woman',\n  'seriously',\n  '?'],\n ['can', 'we', 'trust', 'chegg', '?', 'did', 'anybody', 'got', 'paid', '?'],\n ['which',\n  'is',\n  'better',\n  ',',\n  '5',\n  'gb',\n  'ram',\n  'with',\n  'core',\n  'i3',\n  'or',\n  '2',\n  'gb',\n  'ram',\n  'with',\n  'i5',\n  'processor',\n  'for',\n  'android',\n  'studio',\n  '?'],\n ['have', 'you', 'ever', 'changed', 'a', 'deeply', 'held', 'opinion', '?'],\n ['what', 'is', 'depersonalization', 'disorder', '?'],\n ['why',\n  'can',\n  \"'\",\n  't',\n  'you',\n  'use',\n  'wifi',\n  'while',\n  'running',\n  'a',\n  'wifi',\n  'hotspot',\n  '?'],\n ['what', 'is', 'the', 'best', 'lg', 'g3', 'app', '?'],\n ['what',\n  'are',\n  'the',\n  'expectations',\n  'of',\n  'indian',\n  'women',\n  'from',\n  'their',\n  'partners',\n  'during',\n  'sex',\n  '?'],\n ['what',\n  'is',\n  'your',\n  'review',\n  'of',\n  'the',\n  'story',\n  'of',\n  'my',\n  'experiments',\n  'with',\n  'truth',\n  '(',\n  'book',\n  ')',\n  'by',\n  'mahatma',\n  'gandhi',\n  '?'],\n ['what', 'is', 'the', 'most', 'beautiful', 'scandinavian', 'country', '?'],\n ['where', 'can', 'i', 'download', 'a', 'free', 'ebook', 'in', 'french', '?'],\n ['what',\n  'is',\n  'something',\n  'that',\n  'you',\n  'know',\n  'that',\n  'i',\n  'don',\n  \"'\",\n  't',\n  '?'],\n ['how',\n  'did',\n  'the',\n  'academy',\n  'awards',\n  'come',\n  'to',\n  'be',\n  'called',\n  '\"',\n  'the',\n  'oscars',\n  '\"?'],\n ['does', 'the', 'percy', 'jackson', 'movie', 'suck', '?'],\n ['what',\n  'is',\n  'the',\n  'easy',\n  'way',\n  'to',\n  'use',\n  'a',\n  'delhi',\n  'bike',\n  'in',\n  'hyderabad',\n  '?'],\n ['was',\n  'muhammed',\n  'a',\n  'narcissist',\n  'who',\n  'used',\n  'to',\n  'receive',\n  'convenient',\n  'revelations',\n  'for',\n  'his',\n  'benefit',\n  '?'],\n ['what', 'is', 'the', 'force', 'of', 'a', 'wolf', 'bite', '?'],\n ['how',\n  'do',\n  'you',\n  'use',\n  'the',\n  'slack',\n  'tool',\n  'for',\n  'team',\n  'communication',\n  '?',\n  'what',\n  'pain',\n  'points',\n  'is',\n  'it',\n  'solving',\n  'for',\n  'you',\n  '?',\n  'how',\n  'do',\n  'you',\n  'share',\n  'files',\n  'with',\n  'slack',\n  'for',\n  'team',\n  'review',\n  '?'],\n ['what',\n  'is',\n  'the',\n  'intermediate',\n  'value',\n  'theorem',\n  '?',\n  'how',\n  'do',\n  'you',\n  'find',\n  'it',\n  '?'],\n ['what',\n  'is',\n  'meant',\n  'by',\n  'mainstream',\n  'culture',\n  'and',\n  'what',\n  'would',\n  'be',\n  'a',\n  'noteworthy',\n  'example',\n  'of',\n  'it',\n  '?'],\n ['what',\n  'causes',\n  'the',\n  'underside',\n  'of',\n  'my',\n  'eye',\n  'to',\n  'twitch',\n  '?'],\n ['does',\n  'santa',\n  'live',\n  'at',\n  'the',\n  'north',\n  'pole',\n  ',',\n  'or',\n  'was',\n  'there',\n  'really',\n  'a',\n  'mandela',\n  'effect',\n  'that',\n  'moved',\n  'him',\n  'to',\n  'finland',\n  '?'],\n ['what', 'are', 'the', 'main', 'components', 'of', 'a', 'cologne', '?'],\n ['did', 'noam', 'chomsky', 'ever', 'meet', 'bertrand', 'russell', '?'],\n ['i',\n  \"'\",\n  'm',\n  'a',\n  '23',\n  'year',\n  'old',\n  'boy',\n  'with',\n  '58',\n  'kgs',\n  'weight',\n  'and',\n  'my',\n  'height',\n  'is',\n  '168',\n  'cms',\n  '.',\n  'do',\n  'i',\n  'still',\n  'have',\n  'a',\n  'chance',\n  'to',\n  'increase',\n  'my',\n  'height',\n  '?',\n  'if',\n  'yes',\n  ',',\n  'what',\n  'food',\n  'habits',\n  'should',\n  'i',\n  'follow',\n  '?'],\n ['how',\n  'do',\n  'you',\n  'calculate',\n  'the',\n  'required',\n  'length',\n  'of',\n  'a',\n  'water',\n  'filled',\n  'pipe',\n  'that',\n  'is',\n  'gravity',\n  'fed',\n  'into',\n  'a',\n  'container',\n  '?',\n  'i',\n  \"'\",\n  'd',\n  'want',\n  'to',\n  'avoid',\n  'overfilling',\n  'the',\n  'container',\n  '.'],\n ['how',\n  'do',\n  'i',\n  'keep',\n  'myself',\n  'motivated',\n  'during',\n  'hard',\n  'times',\n  '?'],\n ['is', 'drinking', 'redbull', 'bad', 'for', 'health', '?'],\n ['which', 'are', 'best', 'wifi', 'devices', '?'],\n ['which', 'is', 'best', 'phone', 'under', '12k', '?'],\n ['as',\n  'an',\n  'engineering',\n  'student',\n  'who',\n  'loves',\n  'science',\n  'but',\n  'is',\n  'coming',\n  'to',\n  'hate',\n  'engineering',\n  ',',\n  'what',\n  'possible',\n  'cure',\n  'do',\n  'i',\n  'have',\n  '?'],\n ['how',\n  'is',\n  'your',\n  'jet',\n  'black',\n  'iphone',\n  '7',\n  'holding',\n  'up',\n  'against',\n  'scratches',\n  '?'],\n ['how',\n  'do',\n  'i',\n  'convert',\n  'a',\n  'kolkata',\n  'registration',\n  'privately',\n  'owned',\n  'car',\n  'to',\n  'commercial',\n  'one',\n  '?'],\n ['what',\n  'are',\n  'some',\n  'tips',\n  'for',\n  'investing',\n  'in',\n  'an',\n  'airbnb',\n  'property',\n  '?'],\n ['what',\n  'is',\n  'the',\n  'most',\n  'expensive',\n  'phone',\n  'in',\n  'the',\n  'world',\n  '?'],\n ['i',\n  'sent',\n  'a',\n  'message',\n  'in',\n  'whatsapp',\n  '.',\n  'it',\n  'says',\n  'sent',\n  ',',\n  'not',\n  'delivered',\n  '.',\n  'was',\n  'it',\n  'seen',\n  '?'],\n ['what', 'are', 'some', 'good', 'early', 'morning', 'habits', '?'],\n ['which', 'custom', 'rom', 'is', 'best', '?'],\n ['does',\n  'whatsapp',\n  'web',\n  'work',\n  'even',\n  'if',\n  'the',\n  'computer',\n  'and',\n  'the',\n  'phone',\n  'are',\n  'kilometers',\n  'away',\n  '?',\n  'is',\n  'an',\n  'internet',\n  'connection',\n  'the',\n  'only',\n  'requirement',\n  '?'],\n ['how', 'do', 'i', 'hit', 'big', 'shots', 'in', 'cricket', '?'],\n ['i',\n  'am',\n  'a',\n  'female',\n  'capricorn',\n  'sun',\n  'sign',\n  ',',\n  'cancer',\n  'moon',\n  'sign',\n  'and',\n  'libra',\n  'rising',\n  'star',\n  '.',\n  'can',\n  'you',\n  'guess',\n  'what',\n  'i',\n  \"'\",\n  'm',\n  'like',\n  '?'],\n ['can', 'i', 'find', 'some', 'answers', 'to', 'etg', 'testing', '?'],\n ['what', 'are', 'some', 'examples', 'of', 'monopolies', 'in', 'india', '?'],\n ['what', 'are', 'the', 'pros', '&', 'cons', 'of', 'having', 'children', '?'],\n ['what', 'does', 'stack', 'overflow', 'lack', '?'],\n ['how', 'can', 'i', 'find', 'a', 'pro', 'bono', 'lawyer', '?'],\n ['two', 'bank', 'accounts', 'in', 'same', 'bank', '?'],\n ['what', 'do', 'you', 'think', 'this', 'painting', 'means', '?'],\n ['what',\n  'are',\n  'the',\n  'best',\n  'workouts',\n  'for',\n  'building',\n  'back',\n  'muscles',\n  '?'],\n ['if',\n  'america',\n  'were',\n  'attacked',\n  'by',\n  '10',\n  'million',\n  'foreign',\n  'troops',\n  ',',\n  'could',\n  'they',\n  'handle',\n  'it',\n  '?',\n  'if',\n  'not',\n  'how',\n  'long',\n  'would',\n  'they',\n  'have',\n  'to',\n  'wait',\n  'for',\n  'help',\n  'to',\n  'arrive',\n  '?'],\n ['are',\n  'there',\n  'any',\n  'alternative',\n  'question',\n  'and',\n  'answer',\n  'websites',\n  'to',\n  'quora',\n  '?'],\n ['how', 'do', 'we', 'observe', 'planets', 'with', 'radio', 'telescopes', '?'],\n ['is',\n  'there',\n  'any',\n  'theory',\n  'that',\n  'explains',\n  'that',\n  'demonic',\n  'possessions',\n  'are',\n  'some',\n  'invention',\n  'for',\n  'making',\n  'people',\n  'get',\n  'interested',\n  'in',\n  'religion',\n  '?'],\n ['do', 'i', 'have', 'to', 'wear', 'a', 'sports', 'bra', 'to', 'gym', '?'],\n ['what',\n  'are',\n  'personality',\n  'types',\n  'and',\n  'disorders',\n  'that',\n  'make',\n  'a',\n  'person',\n  'unable',\n  'to',\n  'feel',\n  'intimacy',\n  'and',\n  'impulse',\n  'to',\n  'limit',\n  'socializing',\n  'and',\n  'personal',\n  'relationships',\n  '?'],\n ['if',\n  'earth',\n  'had',\n  'no',\n  'atmosphere',\n  'would',\n  'the',\n  'sky',\n  'appear',\n  'black',\n  '?'],\n ['what',\n  'is',\n  'the',\n  'best',\n  'coaching',\n  'for',\n  'medical',\n  'entrance',\n  'in',\n  'nagpur',\n  '?'],\n ['which',\n  'books',\n  'do',\n  'you',\n  'recommend',\n  'for',\n  'the',\n  'ca',\n  'ipcc',\n  'for',\n  'both',\n  'groups',\n  '?'],\n ['how',\n  'can',\n  'i',\n  'pursue',\n  'journalism',\n  'after',\n  'my',\n  'b',\n  '.',\n  'tech',\n  '.',\n  'degree',\n  '?'],\n ['how', 'come', 'all', 'countries', 'are', 'in', 'debt', '?'],\n ['what', '’', 's', 'your', 'creative', 'process', '?'],\n ['how',\n  'did',\n  'you',\n  'honestly',\n  'feel',\n  'finding',\n  'out',\n  'you',\n  'had',\n  'been',\n  'cheated',\n  'on',\n  'and',\n  'has',\n  'it',\n  'changed',\n  'you',\n  '?'],\n ['which', 'are', 'the', 'rarest', 'world', 'war', 'pictures', '?'],\n ['how',\n  'do',\n  'you',\n  'cook',\n  'a',\n  'chicken',\n  'breast',\n  'in',\n  'a',\n  'oven',\n  '?'],\n ['why',\n  'do',\n  'indians',\n  'spend',\n  'a',\n  'lot',\n  'of',\n  'money',\n  'on',\n  'marriage',\n  ',',\n  'rather',\n  'than',\n  'americans',\n  'or',\n  'europeans',\n  '?'],\n ['should', 'we', 'all', 'buy', 'apple', 'stock', 'now', '?'],\n ['is',\n  'there',\n  'really',\n  'a',\n  'chip',\n  'embedded',\n  'in',\n  'the',\n  'new',\n  'rupees',\n  '2000',\n  'note',\n  '?'],\n ['is',\n  'there',\n  'a',\n  'difference',\n  'in',\n  'feeling',\n  'versus',\n  'measuring',\n  'progress',\n  'in',\n  'actually',\n  'making',\n  'progress',\n  '?'],\n ['how', 'do', 'i', 'contact', 'airbnb', 'customer', 'support', '?'],\n ['is', 'mcom', 'worth', 'doing', 'from', 'srcc', '?'],\n ['what',\n  'are',\n  'the',\n  'dangers',\n  'of',\n  'taking',\n  'valium',\n  'and',\n  'percocet',\n  'at',\n  'the',\n  'same',\n  'time',\n  '?'],\n ['what', 'is', 'the', 'best', 'glue', 'for', 'shoe', 'repair', '?'],\n ['my',\n  'percentage',\n  'is',\n  '62',\n  '%',\n  'in',\n  'b',\n  '.',\n  'tech',\n  '.',\n  'i',\n  'want',\n  'to',\n  'join',\n  'into',\n  'niit',\n  'institute',\n  '.',\n  'do',\n  'they',\n  'provide',\n  'me',\n  'a',\n  'job',\n  'in',\n  'good',\n  'mnc',\n  \"'\",\n  's',\n  'with',\n  'that',\n  'percentage',\n  '.',\n  'how',\n  'worthytojoin',\n  'niit',\n  '?'],\n ['how',\n  'can',\n  'an',\n  'unhealthy',\n  'woman',\n  'like',\n  'hillary',\n  'become',\n  'the',\n  'president',\n  'of',\n  'the',\n  'usa',\n  '?',\n  'dont',\n  'her',\n  'supporters',\n  'know',\n  'that',\n  'she',\n  'is',\n  'terribly',\n  'ill',\n  '?'],\n ['amazon',\n  'interview',\n  ':',\n  'what',\n  'is',\n  'the',\n  'best',\n  'answer',\n  'to',\n  'the',\n  'question',\n  '\"',\n  'why',\n  'amazon',\n  '?\"?'],\n ['what', 'does', 'a', '.', 'd', 'stand', 'for', '?'],\n ['how',\n  'do',\n  'you',\n  'cut',\n  'line',\n  'externally',\n  'and',\n  'internally',\n  'in',\n  'maths',\n  '?'],\n ['can',\n  'we',\n  'prepare',\n  'for',\n  'the',\n  'jee',\n  'main',\n  'in',\n  'the',\n  'last',\n  '4',\n  'months',\n  'and',\n  'get',\n  '180',\n  'or',\n  'more',\n  '?',\n  'i',\n  'have',\n  'studied',\n  'well',\n  'but',\n  'low',\n  'on',\n  'confidence'],\n ['what',\n  'will',\n  'happen',\n  'to',\n  'a',\n  'person',\n  'who',\n  'has',\n  'bot',\n  'opposite',\n  'phobia',\n  'apeirophobia',\n  'and',\n  'thanatophobia',\n  '?'],\n ['will',\n  'slow',\n  'and',\n  'smooth',\n  'driving',\n  'of',\n  'two',\n  'wheeler',\n  'in',\n  'indian',\n  'road',\n  'conditions',\n  'prevent',\n  'back',\n  '/',\n  'spine',\n  'related',\n  'problems',\n  '?'],\n ['how', 'should', 'i', 'live', 'my', 'life', '?'],\n ['how', 'do', 'i', 'overcome', 'pimples', 'due', 'to', 'pcod', '?'],\n ['what', 'will', 'be', 'the', 'journal', 'entries', 'for', 'discount', '?'],\n ['what',\n  'is',\n  'the',\n  'maximum',\n  'number',\n  'of',\n  'times',\n  'you',\n  'can',\n  'fold',\n  'a',\n  'piece',\n  'of',\n  'paper',\n  '?'],\n ['as',\n  'shia',\n  'is',\n  'a',\n  'denomination',\n  'of',\n  'islam',\n  ',',\n  'why',\n  'is',\n  'the',\n  'shia',\n  'majority',\n  'iraq',\n  'being',\n  'opposed',\n  'by',\n  'isis',\n  '(',\n  'islamic',\n  'state',\n  'of',\n  'iraq',\n  'and',\n  'syria',\n  ')?'],\n ['how', 'can', 'approach', 'guy', 'i', 'like', '?'],\n ['can',\n  'hillary',\n  'clinton',\n  'pardon',\n  'herself',\n  'if',\n  'she',\n  'is',\n  'elected',\n  'as',\n  'president',\n  '?'],\n ['is',\n  'it',\n  'too',\n  'late',\n  'for',\n  'any',\n  'age',\n  'person',\n  'to',\n  'learn',\n  'computer',\n  'programing',\n  '?'],\n ['i',\n  'am',\n  'doing',\n  'bachelors',\n  'in',\n  'computer',\n  'science',\n  '.',\n  'i',\n  'will',\n  'be',\n  'done',\n  'with',\n  'my',\n  '4th',\n  'semester',\n  'in',\n  'few',\n  'days',\n  '.',\n  'i',\n  'have',\n  '3',\n  'month',\n  'of',\n  'summer',\n  'vacation',\n  'ahead',\n  ',',\n  'what',\n  'is',\n  'the',\n  'best',\n  'way',\n  'i',\n  'can',\n  'utilize',\n  'these',\n  '3',\n  'months',\n  'so',\n  'i',\n  'can',\n  'land',\n  'a',\n  'good',\n  'internship',\n  '/',\n  'job',\n  'in',\n  'future',\n  'at',\n  'a',\n  'top',\n  'notch',\n  'company',\n  'like',\n  'microsoft',\n  ',',\n  'google',\n  ',',\n  'facebook',\n  'etc',\n  '?'],\n ['what',\n  'is',\n  'the',\n  'best',\n  'point',\n  'and',\n  'shoot',\n  'camera',\n  'under',\n  '7k',\n  '?'],\n ['how', 'do', 'i', 'research', 'for', 'mun', '?'],\n ['how',\n  'do',\n  'you',\n  'know',\n  'if',\n  'your',\n  'boyfriend',\n  'actually',\n  'loves',\n  'you',\n  '?'],\n ['what',\n  'are',\n  'the',\n  'books',\n  'required',\n  'for',\n  'b',\n  '.',\n  'tech',\n  'it',\n  'first',\n  'year',\n  '?'],\n ['what', 'are', 'some', 'spanish', 'inventions', 'we', 'use', 'daily', '?'],\n ['how',\n  'will',\n  'you',\n  'ensure',\n  'that',\n  'that',\n  'the',\n  'next',\n  'military',\n  'intervention',\n  'by',\n  'us',\n  'is',\n  'a',\n  'genuine',\n  'one',\n  '?'],\n ['which', 'human', 'race', 'is', 'most', 'evolved', '?'],\n ['what',\n  'is',\n  'a',\n  'good',\n  'coaching',\n  'institute',\n  'for',\n  'cfa',\n  'in',\n  'chennai',\n  '?'],\n ['is',\n  'there',\n  'a',\n  'free',\n  'version',\n  'of',\n  'vmware',\n  'vsphere',\n  'hypervisor',\n  '?',\n  'if',\n  'not',\n  ',',\n  'which',\n  'are',\n  'some',\n  'effective',\n  'alternatives',\n  '?'],\n ['what', 'does', 'the', '12th', 'amendment', 'mean', '?'],\n ['how',\n  'would',\n  'you',\n  'describe',\n  'india',\n  'in',\n  'one',\n  'sentence',\n  'to',\n  'someone',\n  'from',\n  'north',\n  'america',\n  'who',\n  'has',\n  'never',\n  'been',\n  'to',\n  'india',\n  '?'],\n ['which',\n  'book',\n  'is',\n  'better',\n  'for',\n  'understand',\n  'basics',\n  'sterength',\n  'of',\n  'material',\n  '?'],\n ['what',\n  'does',\n  'shakespeare',\n  'mean',\n  'by',\n  \"'\",\n  'a',\n  'little',\n  'more',\n  'than',\n  'kin',\n  ',',\n  'and',\n  'less',\n  'than',\n  'kind',\n  \"'?\"],\n ['can',\n  'eating',\n  'boiled',\n  'egg',\n  'or',\n  'omelette',\n  'cause',\n  'bird',\n  'flu',\n  '?'],\n ['should',\n  'i',\n  'try',\n  'to',\n  'find',\n  'out',\n  'who',\n  'my',\n  'birth',\n  'father',\n  'is',\n  '?'],\n ['how',\n  'much',\n  'initial',\n  'capital',\n  'would',\n  'you',\n  'need',\n  'to',\n  'become',\n  'an',\n  'investor',\n  'successfully',\n  'like',\n  'warren',\n  'buffet',\n  'if',\n  'you',\n  'are',\n  '21',\n  '?'],\n ['why', 'is', 'the', 'singapore', 'education', 'system', 'so', 'good', '?'],\n ['is', 'your', 'education', 'worth', 'it', '?'],\n ['would',\n  'it',\n  'be',\n  'feasible',\n  'to',\n  'genetically',\n  'engineer',\n  'humans',\n  'to',\n  'have',\n  'two',\n  'hearts',\n  '?'],\n ['has',\n  'any',\n  'us',\n  'presidential',\n  'candidate',\n  'sold',\n  'cabinet',\n  'positions',\n  'in',\n  'his',\n  'administration',\n  'in',\n  'return',\n  'for',\n  'campaign',\n  'contributions',\n  '?'],\n ['which',\n  'is',\n  'the',\n  'best',\n  'north',\n  'indian',\n  'food',\n  'restaurant',\n  'in',\n  'karkardooma',\n  '?'],\n ['how', 'do', 'you', 'make', 'a', 'bass', 'fish', 'trap', '?'],\n ['does', 'lime', 'juice', 'go', 'bad', '?'],\n ['what', 'are', 'disadvantages', 'of', 'a', 'love', 'marriage', '?'],\n ['can', 'i', 'change', 'my', 'branch', 'in', 'davv', 'indore', '?'],\n ['how', 'much', 'are', 'diamonds', 'worth', '?'],\n ['what', 'is', 'a', 'fair', 'startup', 'salary', '?'],\n ['which', 'are', 'best', 'private', 'medical', 'colleges', '?'],\n ['what',\n  'are',\n  'the',\n  'lyrics',\n  'for',\n  \"'\",\n  'what',\n  'is',\n  'love',\n  \"?'\",\n  'by',\n  'haddaway',\n  '?'],\n ['if',\n  'you',\n  'throw',\n  'up',\n  'within',\n  '30',\n  'minutes',\n  'of',\n  'eating',\n  ',',\n  'how',\n  'many',\n  'calories',\n  'do',\n  'you',\n  'lose',\n  'of',\n  'the',\n  'food',\n  'you',\n  'ate',\n  '?'],\n ['how', 'do', 'i', 'participate', 'in', 'splitsvilla', '?'],\n ['which',\n  'it',\n  'companies',\n  'in',\n  'kolkata',\n  'offer',\n  'internships',\n  'to',\n  'bca',\n  'students',\n  '?'],\n ['how', 'do', 'i', 'bolster', 'my', 'self', '-', 'esteem', '?'],\n ['how', 'do', 'i', 'teach', 'a', 'child', 'to', 'read', 'and', 'write', '?'],\n ['how',\n  'do',\n  'we',\n  'prove',\n  '[',\n  'math',\n  '](',\n  '1',\n  '+\\\\',\n  'frac',\n  '{',\n  '1',\n  '}{',\n  'n',\n  '})^',\n  'n',\n  '<',\n  '(',\n  '1',\n  '+',\n  '\\\\',\n  'frac',\n  '{',\n  '1',\n  '}{',\n  'n',\n  '+',\n  '1',\n  '})^{',\n  'n',\n  '+',\n  '1',\n  '}[/',\n  'math',\n  ']?'],\n ['what',\n  'is',\n  'the',\n  'difference',\n  'between',\n  'inheritance',\n  ',',\n  'encapsulation',\n  'and',\n  'polymorphism',\n  '?'],\n ['why', 'have', 'i', 'not', 'seen', 'my', 'period', '?'],\n ['how', 'can', 'i', 'read', 'this', 'time', '?'],\n ['what',\n  'is',\n  'the',\n  'prescribed',\n  'book',\n  'for',\n  'mechanical',\n  'engineer',\n  'students',\n  'to',\n  'clear',\n  'the',\n  'isro',\n  'scientist',\n  '/',\n  'engineer',\n  'sc',\n  'exam',\n  '?'],\n ['i',\n  'have',\n  'still',\n  'not',\n  'prepared',\n  'constructions',\n  ',',\n  'locus',\n  'and',\n  'graphs',\n  'in',\n  'maths',\n  '.',\n  'would',\n  'i',\n  'will',\n  'be',\n  'able',\n  'to',\n  'score',\n  '100',\n  'in',\n  'icse',\n  'maths',\n  '?'],\n ['what',\n  'ethical',\n  'issues',\n  'do',\n  'operators',\n  'of',\n  'restaurant',\n  'need',\n  'to',\n  'be',\n  'aware',\n  'of',\n  '?'],\n ['how',\n  'much',\n  'money',\n  'are',\n  'artists',\n  'currently',\n  'making',\n  'off',\n  'of',\n  'spotify',\n  '?'],\n ['which',\n  'episode',\n  'of',\n  'star',\n  'trek',\n  '(',\n  'tos',\n  ')',\n  'features',\n  'slimy',\n  'things',\n  'which',\n  'gets',\n  'itself',\n  'glued',\n  'to',\n  'the',\n  'crew',\n  '?'],\n ['which',\n  'is',\n  'a',\n  'suitable',\n  'inpatient',\n  'drug',\n  'and',\n  'alcohol',\n  'rehab',\n  'center',\n  'near',\n  'putnam',\n  'county',\n  'in',\n  '?'],\n ['are', 'a', 'grades', 'enough', 'to', 'get', 'into', 'cambridge', '?'],\n ['how',\n  'good',\n  'is',\n  'the',\n  '17',\n  'hmr',\n  'rifle',\n  'for',\n  'coyote',\n  'hunting',\n  '?'],\n ['i',\n  'got',\n  'letter',\n  'of',\n  'intent',\n  'to',\n  'hire',\n  'from',\n  'infosys',\n  '.',\n  'will',\n  'i',\n  'be',\n  'surely',\n  'called',\n  'by',\n  'infosys',\n  '?'],\n ['how', 'does', 'raspberry', 'pi', 'work', '?'],\n ['how', 'long', 'does', 'it', 'take', 'to', 'open', 'an', 'llc', '?'],\n ['what',\n  'is',\n  'your',\n  'opinion',\n  'of',\n  'the',\n  'quote',\n  ':',\n  '\"',\n  'most',\n  'people',\n  \"'\",\n  's',\n  'lives',\n  'are',\n  'a',\n  'direct',\n  'reflection',\n  'of',\n  'the',\n  'expectations',\n  'of',\n  'their',\n  'peer',\n  'group',\n  '\"?'],\n ['scope',\n  'for',\n  'cse',\n  '(',\n  'b',\n  '.',\n  'tech',\n  '/',\n  'b',\n  '.',\n  'e',\n  '.)',\n  'graduates',\n  'to',\n  'get',\n  'foreign',\n  'job',\n  '?',\n  'if',\n  'yes',\n  ',',\n  'then',\n  'how',\n  '?'],\n ['where',\n  'should',\n  'i',\n  'go',\n  'to',\n  'get',\n  'cheap',\n  'goats',\n  'milk',\n  'in',\n  'the',\n  'uk',\n  '?'],\n ['i',\n  'am',\n  'an',\n  'arts',\n  'graduate',\n  ',',\n  'can',\n  'do',\n  'rhce',\n  'certification',\n  '.',\n  'and',\n  'get',\n  'a',\n  'job',\n  'in',\n  'india',\n  '?'],\n ['what',\n  'is',\n  'the',\n  'most',\n  'creative',\n  'way',\n  'you',\n  'can',\n  'break',\n  'a',\n  'clock',\n  '?'],\n ['how',\n  'do',\n  'i',\n  'solve',\n  'the',\n  'following',\n  'problem',\n  '?',\n  'is',\n  'it',\n  'possible',\n  'to',\n  'solve',\n  'using',\n  'segment',\n  'trees',\n  '?',\n  'are',\n  'there',\n  'any',\n  'efficient',\n  'methods',\n  '?'],\n ['what',\n  'can',\n  'i',\n  'use',\n  'to',\n  'host',\n  'a',\n  '1',\n  'table',\n  'database',\n  'that',\n  'will',\n  'be',\n  'used',\n  'by',\n  'a',\n  'mobile',\n  'app',\n  '?'],\n ['i',\n  'would',\n  'like',\n  'to',\n  'declutter',\n  'my',\n  'life',\n  'and',\n  'become',\n  'a',\n  'minimalist',\n  '.',\n  'i',\n  'am',\n  'finding',\n  'it',\n  'i',\n  'very',\n  'difficult',\n  'to',\n  'get',\n  'rid',\n  'of',\n  'stuff',\n  '.',\n  'is',\n  'there',\n  'a',\n  'way',\n  'to',\n  'outsource',\n  'this',\n  '?'],\n ['how', 'are', 'long', 'distance', 'relationships', 'maintained', '?'],\n ['how',\n  'many',\n  'worlds',\n  'are',\n  'there',\n  'in',\n  'super',\n  'mario',\n  'bros',\n  '.',\n  'wii',\n  '?'],\n ['what', 'are', 'examples', 'of', 'brilliant', 'medical', 'strategy', '?'],\n ['do', 'physical', 'laws', 'change', 'over', 'time', '?'],\n ['did',\n  'mark',\n  'zuckerberg',\n  'steal',\n  'the',\n  'idea',\n  'of',\n  'facebook',\n  'from',\n  'cameron',\n  'winklevoss',\n  '?'],\n ['what',\n  'kind',\n  'of',\n  'advanced',\n  'c',\n  '++',\n  'features',\n  'i',\n  'need',\n  'to',\n  'learn',\n  'if',\n  'i',\n  'want',\n  'to',\n  'work',\n  'for',\n  'google',\n  '?'],\n ['how',\n  'can',\n  'i',\n  'activate',\n  'two',\n  'jio',\n  'sims',\n  'in',\n  'one',\n  'phone',\n  '?'],\n ['what', 'are', 'the', 'ranks', 'in', 'the', 'navy', 'seals', '?'],\n ['which',\n  'software',\n  'is',\n  'best',\n  'for',\n  'stock',\n  'and',\n  'options',\n  'automated',\n  'trading',\n  'in',\n  'india',\n  '?'],\n ['what', 'animals', 'begin', 'with', 'the', 'letter', 'x', '?'],\n ['why',\n  'don',\n  \"'\",\n  't',\n  'more',\n  'americans',\n  'aspire',\n  'to',\n  'public',\n  'sector',\n  '/',\n  'civil',\n  'service',\n  'jobs',\n  '?'],\n ['did',\n  'god',\n  'punish',\n  'slave',\n  'master',\n  \"'\",\n  's',\n  'who',\n  'didn',\n  \"'\",\n  't',\n  'treat',\n  'their',\n  'slaves',\n  'fairly',\n  '?'],\n ['which',\n  'two',\n  'bollywood',\n  'actors',\n  'or',\n  'actresses',\n  'most',\n  'resemble',\n  'each',\n  'other',\n  '?'],\n ['what', 'is', 'the', 'best', 'software', 'company', 'in', 'chennai', '?'],\n ['in',\n  'american',\n  'history',\n  ',',\n  'has',\n  'any',\n  'republican',\n  'ever',\n  'owned',\n  'a',\n  'slave',\n  '?'],\n ['how',\n  'one',\n  'should',\n  'begin',\n  'to',\n  'prepare',\n  'for',\n  'iiit',\n  'h',\n  'lateral',\n  'entry',\n  'from',\n  'first',\n  'year',\n  '?'],\n ['how',\n  'does',\n  'demographic',\n  'momentum',\n  'function',\n  'in',\n  'human',\n  'geography',\n  '?'],\n ['i',\n  \"'\",\n  'm',\n  'a',\n  'self',\n  'trained',\n  'amateur',\n  'artist',\n  'from',\n  'engineering',\n  'background',\n  '.',\n  'currently',\n  'i',\n  \"'\",\n  'm',\n  'working',\n  'for',\n  'cts',\n  'and',\n  'the',\n  'job',\n  'is',\n  'very',\n  'frustrating',\n  'for',\n  'me',\n  '.',\n  'how',\n  'can',\n  'i',\n  'breakfree',\n  'from',\n  'my',\n  'dull',\n  'job',\n  'and',\n  'pursue',\n  'a',\n  'career',\n  'in',\n  'art',\n  '?'],\n ['which',\n  'is',\n  'the',\n  'craziest',\n  'moment',\n  'of',\n  'your',\n  'college',\n  'life',\n  '?'],\n ['should', 'i', 'get', 'an', 'mba', 'in', 'agribusiness', '?'],\n ['why',\n  'do',\n  'i',\n  'sometimes',\n  'feel',\n  'like',\n  'the',\n  'people',\n  'i',\n  'know',\n  'are',\n  'watching',\n  'me',\n  '?'],\n ['how', 'do', 'i', 'use', 'bitcoin', 'in', 'singapore', '?'],\n ['what',\n  'news',\n  'sources',\n  'do',\n  'diplomats',\n  'read',\n  'to',\n  'get',\n  'global',\n  ',',\n  'macro',\n  'perspectives',\n  '?'],\n ['why',\n  'am',\n  'i',\n  'feeling',\n  'uncomfortable',\n  'to',\n  'make',\n  'eye',\n  'contact',\n  '?'],\n ['how', 'is', 'dtu', '?'],\n ['as',\n  'a',\n  'foreigner',\n  ',',\n  'what',\n  'things',\n  'do',\n  'you',\n  'dislike',\n  'about',\n  'america',\n  ',',\n  'or',\n  'american',\n  'people',\n  '?'],\n ['i',\n  'am',\n  'in',\n  'eighth',\n  'grade',\n  'and',\n  'i',\n  'got',\n  'a',\n  '1700',\n  '+',\n  'on',\n  'my',\n  'lexile',\n  'test',\n  '.',\n  'is',\n  'this',\n  'good',\n  'or',\n  'bad',\n  'and',\n  'what',\n  'does',\n  'it',\n  'mean',\n  '?'],\n ['what',\n  'are',\n  'some',\n  'of',\n  'the',\n  'best',\n  'emerging',\n  'storytelling',\n  'formats',\n  '?'],\n ['how', 'do', 'i', 'become', 'a', 'good', 'teacher', '/', 'tutor', '?'],\n ['what', 'is', 'the', 'best', 'belgian', 'beer', '?'],\n ['what',\n  'were',\n  'the',\n  'origins',\n  'of',\n  'the',\n  'first',\n  'languages',\n  'and',\n  'what',\n  'were',\n  'these',\n  'languages',\n  '?'],\n ['if',\n  'north',\n  'korea',\n  'were',\n  'to',\n  'attack',\n  'south',\n  'korea',\n  'suddenly',\n  ',',\n  'how',\n  'would',\n  'the',\n  'latter',\n  'with',\n  'its',\n  'ally',\n  ',',\n  'usa',\n  ',',\n  'defend',\n  'itself',\n  '?'],\n ['what',\n  'does',\n  'it',\n  'mean',\n  'if',\n  'a',\n  'website',\n  'is',\n  'hosted',\n  'on',\n  'a',\n  'load',\n  'balanced',\n  'web',\n  'server',\n  'and',\n  'that',\n  'sticky',\n  'sessions',\n  'would',\n  'have',\n  'to',\n  'be',\n  'enabled',\n  'on',\n  'the',\n  'load',\n  'balancers',\n  'and',\n  'that',\n  'session',\n  'checks',\n  'would',\n  'have',\n  'to',\n  'be',\n  'done',\n  'on',\n  'page',\n  'loads',\n  '?'],\n ['why',\n  'do',\n  'i',\n  'smile',\n  'even',\n  'when',\n  'i',\n  'don',\n  \"'\",\n  't',\n  'want',\n  'to',\n  '?'],\n ['what',\n  'do',\n  '\"',\n  'mobile',\n  '\"',\n  'and',\n  '\"',\n  'home',\n  '\"',\n  'mean',\n  'on',\n  'the',\n  'whatsapp',\n  'contacts',\n  'page',\n  '?'],\n ['i',\n  'feel',\n  'like',\n  'disappearing',\n  'from',\n  'this',\n  'world',\n  '?',\n  'no',\n  'money',\n  '/',\n  'fame',\n  '/',\n  'career',\n  'seems',\n  'lucrative',\n  'enough',\n  'to',\n  'stay',\n  'back',\n  '.',\n  'does',\n  'anyone',\n  'feel',\n  'the',\n  'same',\n  '?'],\n ['does', 'girls', 'like', 'big', 'penis', '?'],\n ['is', 'it', 'illegal', 'to', 'send', 'cash', 'through', 'the', 'mail', '?'],\n ['why',\n  'do',\n  'mother',\n  'cats',\n  'sometimes',\n  'eat',\n  'their',\n  'own',\n  'kittens',\n  '?'],\n ['i',\n  'am',\n  'planning',\n  'to',\n  'learn',\n  'a',\n  'framework',\n  '-',\n  'oaf',\n  'or',\n  'adf',\n  '?',\n  'any',\n  'suggestions',\n  'which',\n  'is',\n  'better',\n  'for',\n  'present',\n  'situation',\n  '?'],\n ['what',\n  'are',\n  'the',\n  'best',\n  'love',\n  'story',\n  'movies',\n  'just',\n  'as',\n  'titanic',\n  '?'],\n ['what', 'are', 'the', 'pros', 'and', 'cons', 'of', 'shopify', '?'],\n ['what', \"'\", 's', 'the', 'inverse', 'function', '?'],\n ['how', 'do', 'i', 'copyright', 'a', 'logo', '?'],\n ['what',\n  'was',\n  'it',\n  'like',\n  'to',\n  'travel',\n  'on',\n  'board',\n  'a',\n  'concorde',\n  '?'],\n ['how', 'can', 'i', 'live', 'a', 'simple', 'life', '?'],\n ['what',\n  'does',\n  'it',\n  'mean',\n  'when',\n  'a',\n  'girl',\n  'grabs',\n  'your',\n  'erect',\n  'penis',\n  '?'],\n ['which',\n  'countries',\n  'have',\n  'the',\n  'tradition',\n  'of',\n  'taking',\n  'off',\n  'shoes',\n  'before',\n  'you',\n  'enter',\n  'a',\n  'home',\n  '?'],\n ['why', 'is', 'a', 'university', 'degree', 'so', 'important', '?'],\n ['what', 'is', 'mentoring', '?'],\n ['how',\n  'do',\n  'you',\n  'cope',\n  'with',\n  'being',\n  'scammed',\n  'and',\n  'losing',\n  'a',\n  'lot',\n  'of',\n  'money',\n  'knowing',\n  'you',\n  'will',\n  'not',\n  'get',\n  'it',\n  'back',\n  '?'],\n ['how', 'much', 'does', 'starting', 'a', 'website', 'cost', '?'],\n ['can', 'a', 'foreigner', 'buy', 'american', 'mutual', 'funds', '?'],\n ['why',\n  'is',\n  'my',\n  'google',\n  'in',\n  'a',\n  'foreign',\n  'language',\n  'on',\n  'safari',\n  '?'],\n ['what',\n  'is',\n  'the',\n  'best',\n  'app',\n  'to',\n  'block',\n  'unwanted',\n  'voice',\n  'messages',\n  'and',\n  'calls',\n  '?'],\n ['is', 'taiwan', 'part', 'of', 'or', 'separate', 'from', 'china', '?'],\n ['is', 'playing', 'chess', 'waste', 'of', 'time', '?'],\n ['is', 'nude', 'photography', 'considered', 'objectification', '?'],\n ['what',\n  'is',\n  'buried',\n  'or',\n  'was',\n  'buried',\n  'under',\n  'solomon',\n  \"'\",\n  's',\n  'temple',\n  '?'],\n ['between',\n  'mac',\n  'os',\n  'and',\n  'windows',\n  ',',\n  'which',\n  'os',\n  'should',\n  'i',\n  'chose',\n  'as',\n  'a',\n  'web',\n  'developer',\n  '?'],\n ['do', 'shock', 'collars', 'work', 'on', 'dogs', '?'],\n ['why', 'is', 'the', 'yale', 'art', 'website', 'so', 'bad', '?'],\n ['how',\n  'has',\n  'your',\n  'lifestyle',\n  'changed',\n  'before',\n  'and',\n  'after',\n  'using',\n  'quora',\n  '?'],\n ['how', 'do', 'i', 'choose', 'a', 'topic', 'for', 'my', 'blog', '?'],\n ['what',\n  'exactly',\n  'does',\n  'borderline',\n  'personality',\n  'disorder',\n  'mean',\n  '?',\n  'and',\n  'what',\n  'are',\n  'the',\n  'symptoms',\n  '?'],\n ['why', 'do', 'i', 'enjoy', 'hurting', 'myself', '?'],\n ['how', 'do', 'you', 'clean', 'out', 'a', 'catalytic', 'converter', '?'],\n ['what', 'are', 'best', 'things', 'to', 'be', 'learned', 'in', 'life', '?'],\n ['do',\n  'girls',\n  'stop',\n  'growing',\n  'in',\n  'height',\n  'once',\n  'they',\n  'get',\n  'their',\n  'periods',\n  '?'],\n ['where',\n  'could',\n  'i',\n  'find',\n  'a',\n  'best',\n  'escort',\n  'agency',\n  'in',\n  'malaysia',\n  '?'],\n ['which',\n  'is',\n  'the',\n  'best',\n  'ias',\n  'coaching',\n  'centre',\n  'in',\n  'trivandrum',\n  '?'],\n ['what',\n  'does',\n  'it',\n  'mean',\n  'when',\n  'a',\n  'girl',\n  'says',\n  \"'\",\n  'you',\n  \"'\",\n  're',\n  'so',\n  'affectionate',\n  \".'?\"],\n ['why', 'is', 'virginity', 'a', 'big', 'deal', 'in', 'society', '?'],\n ['what',\n  'is',\n  'the',\n  'character',\n  'or',\n  'theory',\n  'that',\n  'you',\n  'believe',\n  'to',\n  'be',\n  'true',\n  'while',\n  'most',\n  'people',\n  'don',\n  \"'\",\n  't',\n  '?',\n  'why',\n  '?'],\n ['why', 'do', 'i', 'get', 'bored', 'easily', '?'],\n ['what', 'should', 'i', 'learn', 'php', 'or', '.', 'net', '?'],\n ['what', 'is', 'the', 'virgin', '?'],\n ['are', 'turks', 'and', 'azerbaijanis', 'considered', 'white', '?'],\n ['what', 'should', 'i', 'do', 'with', 'my', 'career', 'life', '?'],\n ['what',\n  'do',\n  'you',\n  'think',\n  'of',\n  'the',\n  'reliance',\n  'jio',\n  'ad',\n  'featuring',\n  'prime',\n  'minister',\n  'modi',\n  '?',\n  'do',\n  'you',\n  'think',\n  'its',\n  'legally',\n  'or',\n  'ethically',\n  'correct',\n  'to',\n  'do',\n  'so',\n  '?'],\n ['how',\n  'does',\n  'one',\n  'train',\n  'to',\n  'become',\n  'a',\n  'world',\n  'champion',\n  'pole',\n  'dancer',\n  '?'],\n ['how',\n  'do',\n  'people',\n  'feel',\n  'when',\n  'the',\n  'borders',\n  'of',\n  'their',\n  'country',\n  'change',\n  '?'],\n ['how',\n  'does',\n  'mypromovideo',\n  'of',\n  'youtube',\n  'make',\n  'there',\n  'animation',\n  '?'],\n ['do', 'lizards', 'feel', 'thirsty', '?'],\n ['scs',\n  ':',\n  'what',\n  'would',\n  'happen',\n  'to',\n  'the',\n  'appointment',\n  'of',\n  'arbitrators',\n  'made',\n  'by',\n  'the',\n  'president',\n  'itlos',\n  'if',\n  'china',\n  'did',\n  'not',\n  'approve',\n  'it',\n  '?'],\n ['my',\n  'husband',\n  'was',\n  'so',\n  'mean',\n  'for',\n  'most',\n  'our',\n  '20',\n  'yr',\n  'relationship',\n  'but',\n  'the',\n  'past',\n  'couple',\n  'of',\n  'years',\n  ',',\n  'he',\n  \"'\",\n  's',\n  'started',\n  'being',\n  'nice',\n  '.',\n  'how',\n  'can',\n  'i',\n  'get',\n  'past',\n  'the',\n  'painful',\n  'memories',\n  '?'],\n ['what', 'are', 'the', 'best', 'programming', 'practice', 'sites', '?'],\n ['what', 'are', 'compulsory', 'acts', 'of', 'worship', 'in', 'islam', '?'],\n ['what',\n  'would',\n  'be',\n  'your',\n  'advice',\n  'to',\n  'those',\n  'who',\n  'want',\n  'to',\n  'build',\n  'a',\n  'social',\n  'enterprise',\n  'but',\n  'have',\n  'no',\n  'prior',\n  'background',\n  'in',\n  'the',\n  'field',\n  'nor',\n  'an',\n  'advanced',\n  'education',\n  '?'],\n ['how',\n  'do',\n  'you',\n  'achieve',\n  'the',\n  'freezing',\n  'point',\n  'of',\n  'hexane',\n  '?',\n  'how',\n  'does',\n  'it',\n  'compare',\n  'to',\n  'methane',\n  '?'],\n ['would',\n  'you',\n  'trust',\n  'meth',\n  'users',\n  'and',\n  '/',\n  'or',\n  'are',\n  '“',\n  'meth',\n  'users',\n  'mean',\n  'and',\n  'selfish',\n  '”',\n  '?'],\n ['should',\n  'new',\n  'actors',\n  'start',\n  'in',\n  'commercials',\n  'to',\n  'build',\n  'up',\n  'their',\n  'acting',\n  'credits',\n  'then',\n  'focus',\n  'on',\n  'film',\n  '/',\n  'tv',\n  'after',\n  '?'],\n ['what', 'is', 'lamictal', 'abuse', '?'],\n ['how',\n  'dangerous',\n  'is',\n  'it',\n  'if',\n  'a',\n  'dog',\n  'eats',\n  'chocolate',\n  'cake',\n  '?'],\n ['would',\n  'vegans',\n  'view',\n  'animal',\n  'consumption',\n  'as',\n  'morally',\n  'permissible',\n  'if',\n  'the',\n  'animals',\n  'were',\n  'allowed',\n  'a',\n  'full',\n  'life',\n  'and',\n  'only',\n  'consumed',\n  'after',\n  'dying',\n  'from',\n  'natural',\n  'causes',\n  '?'],\n ['what',\n  'is',\n  'most',\n  'appropriate',\n  'software',\n  'design',\n  'approach',\n  ',',\n  'top',\n  '-',\n  'down',\n  'or',\n  'bottom',\n  '-',\n  'up',\n  '?',\n  'in',\n  'agile',\n  'world',\n  'does',\n  'anybody',\n  'really',\n  'design',\n  'anymore',\n  '?'],\n ['what', 'did', 'the', 'catholic', 'reformation', 'change', '?'],\n ['how', 'is', 'correct', 'biblical', 'interpretation', 'determined', '?'],\n ['who',\n  'lived',\n  'in',\n  'indonesia',\n  'in',\n  'the',\n  'year',\n  '2000',\n  'bce',\n  '?',\n  'what',\n  'happened',\n  'to',\n  'them',\n  '?'],\n ['can',\n  'you',\n  'see',\n  'through',\n  'a',\n  'tinted',\n  'window',\n  'of',\n  'a',\n  'car',\n  '?'],\n ['sex',\n  ':',\n  'how',\n  'do',\n  'i',\n  'put',\n  'my',\n  'penis',\n  'in',\n  'a',\n  'vagina',\n  '?'],\n ['what', 'are', 'some', 'unisex', 'japanese', 'names', '?'],\n ['how',\n  'do',\n  'i',\n  'calculate',\n  'the',\n  'gpa',\n  'for',\n  'universities',\n  'in',\n  'the',\n  'us',\n  '?'],\n ['is',\n  'there',\n  'any',\n  'online',\n  'crash',\n  'course',\n  'for',\n  'cat',\n  '2016',\n  'available',\n  '?'],\n ['what',\n  'is',\n  'it',\n  'like',\n  'to',\n  'work',\n  'at',\n  'thoughtworks',\n  ',',\n  'i',\n  '̇',\n  'stanbul',\n  '?'],\n ['what', 'is', 'deep', 'data', '?'],\n ['my',\n  'friend',\n  'just',\n  'got',\n  'placed',\n  'in',\n  'fidelity',\n  'but',\n  'she',\n  'has',\n  'failed',\n  'in',\n  'a',\n  'subject',\n  '.',\n  'how',\n  'will',\n  'that',\n  'affect',\n  'her',\n  'job',\n  'security',\n  '?'],\n ['what',\n  'are',\n  'the',\n  'most',\n  'important',\n  'habits',\n  'for',\n  'eating',\n  'healthy',\n  'and',\n  'losing',\n  'weight',\n  '?'],\n ['what',\n  'is',\n  'the',\n  'homework',\n  'a',\n  'founder',\n  'must',\n  'do',\n  'before',\n  'starting',\n  'up',\n  '?'],\n ['who', 'is', 'your', 'favorite', 'bollywood', 'actor', 'and', 'why', '?'],\n ['what',\n  'is',\n  'the',\n  'lowest',\n  'temperature',\n  'a',\n  'fire',\n  'can',\n  'survive',\n  'in',\n  '?'],\n ['which',\n  'are',\n  'some',\n  'of',\n  'the',\n  'key',\n  'points',\n  'you',\n  'remember',\n  'on',\n  'the',\n  'books',\n  'you',\n  'have',\n  'read',\n  '?'],\n ['how',\n  'do',\n  'you',\n  'turn',\n  'down',\n  'someone',\n  \"'\",\n  's',\n  'idea',\n  'nicely',\n  'after',\n  'they',\n  'have',\n  'shown',\n  'so',\n  'much',\n  'passion',\n  'about',\n  'it',\n  '?'],\n ['which', 'are', 'the', 'best', 'songs', 'of', 'lata', 'mangeshkar', '?'],\n ['i',\n  'want',\n  'to',\n  'be',\n  'a',\n  'top',\n  'class',\n  'programmer',\n  'in',\n  'my',\n  'life',\n  '.',\n  'how',\n  'many',\n  'problems',\n  'should',\n  'i',\n  'solve',\n  'each',\n  'day',\n  'to',\n  'achieve',\n  'my',\n  'goal',\n  '?'],\n ['what', \"'\", 's', 'creative', 'writing', '?'],\n ['why',\n  'do',\n  'i',\n  'keep',\n  'getting',\n  'small',\n  'cuts',\n  'on',\n  'my',\n  'hands',\n  '?'],\n ['is',\n  'helium',\n  'considered',\n  'an',\n  'inert',\n  'gas',\n  '?',\n  'if',\n  'not',\n  ',',\n  'why',\n  '?'],\n ['what', 'if', 'i', 'don', \"'\", 't', 'pass', 'the', 'ccna', 'exam', '?'],\n ['what',\n  'is',\n  'the',\n  'weirdest',\n  'question',\n  'ever',\n  'asked',\n  'on',\n  'quora',\n  '?'],\n ['if', 'china', 'is', 'developed', 'country', '?'],\n ['can', 'i', 'read', 'deleted', 'messages', 'kik', '?'],\n ['how', 'can', 'i', 'get', 'more', 'followers', 'in', 'fb', '?'],\n ['how',\n  'it',\n  'is',\n  'to',\n  'use',\n  'a',\n  'react',\n  'component',\n  'in',\n  'a',\n  'angularjs',\n  'application',\n  '?'],\n ['why',\n  'am',\n  'i',\n  'not',\n  'able',\n  'to',\n  'get',\n  'over',\n  'my',\n  'past',\n  'relationship',\n  '?'],\n ['what',\n  'are',\n  'the',\n  'best',\n  'countries',\n  'to',\n  'volunteer',\n  'in',\n  'peace',\n  'corps',\n  '?'],\n ['what', 'can', 'i', 'do', 'to', 'detox', 'from', 'marijuana', '?'],\n ['dating',\n  'and',\n  'relationships',\n  ':',\n  'what',\n  'are',\n  'the',\n  'keys',\n  'to',\n  'a',\n  'successful',\n  'relationship',\n  '?'],\n ['what',\n  'happens',\n  'when',\n  'you',\n  'stop',\n  'consuming',\n  'synthroid',\n  'abruptly',\n  '?'],\n ['what',\n  'is',\n  'it',\n  'like',\n  'to',\n  'know',\n  'someone',\n  'with',\n  'dissociative',\n  'identity',\n  'disorder',\n  'or',\n  'be',\n  'someone',\n  'with',\n  'the',\n  'disorder',\n  '?'],\n ['in',\n  'which',\n  'province',\n  'of',\n  'china',\n  'did',\n  'bao',\n  'xiruo',\n  'save',\n  'wanyan',\n  'honglie',\n  '?'],\n ['what',\n  'do',\n  'pigs',\n  'eat',\n  'on',\n  'the',\n  'farm',\n  '?',\n  'how',\n  'is',\n  'their',\n  'food',\n  'prepare',\n  '?'],\n ['why',\n  'has',\n  'weight',\n  'loss',\n  'reached',\n  'stagnancy',\n  'in',\n  'spite',\n  'of',\n  'me',\n  'doing',\n  'exercise',\n  'daily',\n  'and',\n  'following',\n  'a',\n  'diet',\n  'plan',\n  ',',\n  'which',\n  'has',\n  'helped',\n  'me',\n  'lose',\n  '16',\n  '+',\n  'kilogram',\n  'of',\n  'weight',\n  '?'],\n ['why', 'should', 'someone', 'accept', 'anything', 'one', 'is', 'given', '?'],\n ['how',\n  'long',\n  'will',\n  'it',\n  'take',\n  'the',\n  'earth',\n  \"'\",\n  's',\n  'core',\n  'to',\n  'cool',\n  'enough',\n  'to',\n  'halt',\n  'tectonic',\n  'activity',\n  '?'],\n ['what',\n  'is',\n  'the',\n  'value',\n  'of',\n  'a',\n  ',',\n  'b',\n  ',',\n  'and',\n  'c',\n  'if',\n  '1',\n  '/',\n  'a',\n  '+',\n  '1',\n  '/',\n  'b',\n  '+',\n  '1',\n  '/',\n  'c',\n  '=',\n  '1',\n  '?'],\n ['why',\n  'is',\n  'bromine',\n  'such',\n  'a',\n  'commonly',\n  'used',\n  'component',\n  'in',\n  'fire',\n  'retardants',\n  '?'],\n ['how', 'can', 'i', 'get', 'a', 'virtual', 'indian', 'phone', 'number', '?'],\n ['is', 'engineering', 'maths', 'difficult', '?'],\n ['how',\n  'many',\n  'candidates',\n  'appeared',\n  'in',\n  'ssc',\n  'cgl',\n  'tier',\n  '1',\n  '2016',\n  '?'],\n ['how',\n  'do',\n  'i',\n  'become',\n  'an',\n  'expert',\n  'in',\n  'unix',\n  'and',\n  'shell',\n  'scripting',\n  '?'],\n ['what',\n  'is',\n  'the',\n  'best',\n  'website',\n  'to',\n  'download',\n  'telugu',\n  'video',\n  'songs',\n  '?'],\n ['can',\n  'someone',\n  'get',\n  'two',\n  'graduation',\n  'degree',\n  'at',\n  'same',\n  'time',\n  '?'],\n ['what', 'are', 'some', 'driving', 'tips', 'for', 'learner', 'drivers', '?'],\n ['what', 'does', 'it', 'feel', 'like', 'to', 'be', 'high', 'on', 'dmt', '?'],\n ['what', 'is', 'your', 'favorite', 'non', '-', 'fiction', 'book', '?'],\n ['is',\n  'heaven',\n  'also',\n  'a',\n  'planet',\n  'or',\n  'just',\n  'a',\n  'floating',\n  'bean',\n  'bag',\n  'in',\n  'space',\n  '?'],\n ['how', 'can', 'i', 'happily', 'stay', 'single', '?'],\n ['which',\n  'alphabet',\n  '/',\n  'script',\n  'is',\n  'the',\n  'most',\n  'phonetically',\n  'complete',\n  '?'],\n ['can', 'i', 'use', 'quora', 'to', 'promote', 'my', 'website', '?'],\n ['what',\n  'do',\n  'you',\n  'want',\n  'people',\n  'to',\n  'say',\n  'at',\n  'your',\n  'funeral',\n  '?'],\n ['why', 'do', 'black', 'people', 'have', 'white', 'palms', '?'],\n ['why',\n  'was',\n  'ellen',\n  'degeneres',\n  'awarded',\n  'a',\n  'medal',\n  'of',\n  'freedom',\n  '?'],\n ['what', 'is', 'the', 'best', 'alternative', 'for', 'maggi', '?'],\n ['what',\n  'the',\n  'best',\n  'way',\n  'to',\n  'find',\n  'angel',\n  'investors',\n  'in',\n  'san',\n  'francisco',\n  '?'],\n ['how', 'do', 'modafinil', 'and', 'cannabis', 'interact', '?'],\n ['where',\n  'can',\n  'i',\n  'get',\n  'free',\n  'good',\n  'quality',\n  'video',\n  'lectures',\n  'for',\n  'jee',\n  'main',\n  'preparation',\n  'on',\n  'the',\n  'internet',\n  '?'],\n ['why',\n  'do',\n  'my',\n  'nipples',\n  'and',\n  'genitals',\n  'taste',\n  'like',\n  'marijuana',\n  '?'],\n ['astrology', ':', 'what', 'is', 'the', 'weakness', 'of', 'cancerians', '?'],\n ['dear',\n  'lee',\n  '(',\n  'or',\n  'should',\n  'it',\n  'be',\n  'heather',\n  '),',\n  'i',\n  'want',\n  'to',\n  'thank',\n  'you',\n  'for',\n  'following',\n  'me',\n  'on',\n  'quora',\n  'and',\n  'want',\n  'to',\n  'wish',\n  'you',\n  'the',\n  'best',\n  'in',\n  'your',\n  'future',\n  '.',\n  'cheers',\n  ':)',\n  ':)?'],\n ['why',\n  'is',\n  'mr',\n  '.',\n  'narendra',\n  'modi',\n  'focused',\n  'on',\n  'the',\n  'digital',\n  'india',\n  'mission',\n  'when',\n  'millions',\n  'of',\n  'indians',\n  'are',\n  'living',\n  'in',\n  'poverty',\n  'and',\n  'don',\n  \"'\",\n  't',\n  'even',\n  'know',\n  'what',\n  'internet',\n  'is',\n  '?'],\n ['which',\n  'is',\n  'the',\n  'best',\n  'coaching',\n  'institute',\n  'for',\n  'upsc',\n  'preparation',\n  'in',\n  'kolkata',\n  '?'],\n ['who', 'are', 'the', 'best', 'authors', 'from', 'andorra', '?'],\n ['what',\n  'was',\n  'your',\n  'jee',\n  'advanced',\n  '2016',\n  'rank',\n  'and',\n  'corresponding',\n  'marks',\n  '?',\n  'also',\n  'mention',\n  'your',\n  'category',\n  '.'],\n ['i',\n  'am',\n  'looking',\n  'to',\n  'buy',\n  'a',\n  'mattress',\n  'that',\n  'feels',\n  'soft',\n  'and',\n  'comfy',\n  'like',\n  'the',\n  'hotels',\n  ',',\n  'and',\n  'are',\n  'good',\n  'for',\n  'health',\n  'too',\n  '.',\n  'which',\n  'mattress',\n  'type',\n  'and',\n  'which',\n  'mattress',\n  'brand',\n  'in',\n  'india',\n  'should',\n  'i',\n  'go',\n  'for',\n  '?'],\n ['what',\n  'is',\n  'the',\n  'origin',\n  'of',\n  'kicking',\n  'field',\n  'goals',\n  'in',\n  'american',\n  'football',\n  '?'],\n ['what',\n  'is',\n  'the',\n  'breakdown',\n  'of',\n  'fantasy',\n  'users',\n  'by',\n  'yahoo',\n  ',',\n  'espn',\n  ',',\n  'and',\n  'cbs',\n  '?'],\n ['what', 'controls', 'our', 'brain', '?'],\n ['why', 'did', 'pan', 'am', 'go', 'bankrupt', '?'],\n ['what', 'is', 'impulse', '?'],\n ['which',\n  'countries',\n  'can',\n  'i',\n  'travel',\n  'by',\n  'road',\n  'from',\n  'india',\n  'and',\n  'what',\n  'is',\n  'the',\n  'procedure',\n  '?'],\n ['which', 'muslim', 'country', 'is', 'the', 'most', 'pro', 'israel', '?'],\n ['what',\n  'are',\n  'the',\n  'disadvantages',\n  'of',\n  'a',\n  'formative',\n  'assessment',\n  '?'],\n ['how', 'do', 'i', 'make', 'myself', 'more', 'humble', '?'],\n ['positive', 'impacts', 'of', 'forign', 'trade', '?'],\n ['what',\n  'is',\n  '3',\n  'in',\n  'the',\n  '5',\n  '-',\n  '4',\n  '-',\n  '3',\n  'rule',\n  'in',\n  'networks',\n  'and',\n  'why',\n  'is',\n  'it',\n  'only',\n  '3',\n  '?'],\n ['how',\n  'much',\n  'interest',\n  'does',\n  'world',\n  'bank',\n  'charges',\n  'to',\n  'its',\n  'borrowers',\n  '?'],\n ['what',\n  'is',\n  'something',\n  'that',\n  'you',\n  'believe',\n  'to',\n  'be',\n  'true',\n  'that',\n  'very',\n  'few',\n  'people',\n  'agree',\n  'with',\n  'you',\n  'on',\n  '?'],\n ['what', \"'\", 's', 'your', 'idea', 'about', 'islam', '?'],\n ['what',\n  'is',\n  'the',\n  'difference',\n  'between',\n  'behavioural',\n  'economics',\n  'and',\n  'psychology',\n  '?'],\n ['having',\n  'never',\n  'read',\n  'ernest',\n  'hemingway',\n  ',',\n  'what',\n  \"'\",\n  's',\n  'the',\n  'one',\n  'book',\n  'of',\n  'his',\n  ',',\n  'one',\n  'should',\n  'read',\n  '?'],\n ['how',\n  'many',\n  'twitter',\n  'users',\n  'are',\n  'there',\n  'in',\n  'pakistan',\n  'in',\n  '2016',\n  '?'],\n ['what',\n  'would',\n  'you',\n  'have',\n  'done',\n  'differently',\n  'if',\n  'you',\n  'knew',\n  'then',\n  'what',\n  'you',\n  'know',\n  'now',\n  '?'],\n ['how', 'do', 'you', 'kiss', 'a', 'guy', '?'],\n ['how',\n  'do',\n  'you',\n  'make',\n  'a',\n  'good',\n  'impression',\n  'before',\n  ',',\n  'during',\n  'and',\n  'after',\n  'interview',\n  '?'],\n ['should', 'i', 'buy', 'an', 'apple', 'watch', '?'],\n ['what',\n  'are',\n  'the',\n  'most',\n  'amazing',\n  'and',\n  'unknown',\n  'stories',\n  'from',\n  'ramayana',\n  '?'],\n ['what',\n  'are',\n  'the',\n  'characteristics',\n  'of',\n  'the',\n  'elizabethan',\n  'theater',\n  '?'],\n ['what',\n  'are',\n  'the',\n  'biggest',\n  'misconceptions',\n  'about',\n  'indonesia',\n  '?'],\n ['what', 'are', 'examples', 'of', 'structured', 'poetry', '?'],\n ['who', 'is', 'john', 'cena', '?'],\n ['can',\n  'you',\n  'give',\n  'me',\n  'some',\n  'good',\n  'topics',\n  'to',\n  'do',\n  'projects',\n  'about',\n  '?'],\n ['will', 'amazon', 'go', 'succeed', 'in', 'india', '?'],\n ['how',\n  'do',\n  'you',\n  'say',\n  '\"',\n  'i',\n  'love',\n  'you',\n  'forever',\n  '\"',\n  'in',\n  'greek',\n  '?'],\n ['why',\n  'i',\n  'cannot',\n  'login',\n  'to',\n  'irctc',\n  'using',\n  'my',\n  'id',\n  'and',\n  'password',\n  '?'],\n ['have',\n  'you',\n  'ever',\n  'seen',\n  'a',\n  'prison',\n  'officer',\n  'who',\n  'was',\n  'vulnerable',\n  'or',\n  'in',\n  'depression',\n  'and',\n  'yet',\n  'came',\n  'to',\n  'work',\n  '?'],\n ['who', 'are', 'the', 'best', 'ux', 'designers', 'in', 'minneapolis', '?'],\n ['i',\n  'study',\n  'engineering',\n  '.',\n  'i',\n  'used',\n  'to',\n  'hate',\n  'literature',\n  'and',\n  'arts',\n  'but',\n  'seems',\n  'like',\n  'its',\n  'changed',\n  'now',\n  '.',\n  'people',\n  'say',\n  'im',\n  'stupid',\n  'if',\n  'i',\n  'alter',\n  'my',\n  'choice',\n  '.',\n  'am',\n  'i',\n  'sane',\n  '?'],\n ['who', 'can', 'give', 'me', 'modalert', 'in', 'delhi', '?'],\n ['what',\n  'does',\n  'blue',\n  'cross',\n  'india',\n  'try',\n  'to',\n  'achieve',\n  'by',\n  'posting',\n  'pics',\n  'of',\n  'poor',\n  'animals',\n  '.',\n  'are',\n  'they',\n  'cashing',\n  'in',\n  'on',\n  'people',\n  \"'\",\n  's',\n  'sympathy',\n  '?'],\n ['what',\n  'are',\n  'the',\n  'chemical',\n  'elements',\n  'found',\n  'in',\n  'carbohydrates',\n  '?'],\n ['what',\n  'is',\n  'the',\n  'meaning',\n  'of',\n  'citation',\n  'in',\n  'research',\n  'papers',\n  '?'],\n ['why', 'don', \"'\", 't', 'i', 'feel', 'anxious', 'in', 'the', 'morning', '?'],\n ['how', 'are', 'ships', 'made', '?'],\n ['who', 'has', 'passed', 'ca', 'final', 'in', '3', 'months', '?'],\n ['what', 'would', 'a', 'janet', 'yellen', 'presidency', 'be', 'like', '?'],\n ['how',\n  'do',\n  'oil',\n  'companies',\n  'feel',\n  'knowing',\n  'oil',\n  'and',\n  'gas',\n  '(',\n  'fossil',\n  'fuel',\n  ',',\n  'coal',\n  ')',\n  'will',\n  'soon',\n  'get',\n  'depleted',\n  '?'],\n ['what',\n  'is',\n  'the',\n  'best',\n  'way',\n  'to',\n  'clean',\n  'my',\n  'tile',\n  'shower',\n  '?'],\n ['how',\n  'would',\n  'you',\n  'explain',\n  'einstein',\n  \"'\",\n  's',\n  'theory',\n  'of',\n  'special',\n  'relativity',\n  'to',\n  'a',\n  'child',\n  '?'],\n ['how', 'can', 'you', 'overcome', 'a', 'fear', 'of', 'flies', '?'],\n ['is', 'lesbianism', 'real', '?'],\n ['how',\n  'i',\n  'switch',\n  'job',\n  'from',\n  'sbi',\n  'po',\n  'to',\n  'jpmorgan',\n  'and',\n  'chase',\n  '?'],\n ['what',\n  'are',\n  'the',\n  'pitfalls',\n  'for',\n  'the',\n  'trump',\n  'administration',\n  '&',\n  'the',\n  'gop',\n  'controlled',\n  'congress',\n  'for',\n  'the',\n  'next',\n  'two',\n  'years',\n  '?'],\n ['have',\n  'you',\n  'loved',\n  'someone',\n  'and',\n  'hated',\n  'at',\n  'the',\n  'same',\n  'time',\n  '?'],\n ['what',\n  'is',\n  'the',\n  'most',\n  'underrated',\n  'pleasures',\n  'of',\n  'your',\n  'life',\n  '?'],\n ['what',\n  'does',\n  'it',\n  'mean',\n  'when',\n  'a',\n  'girl',\n  'sends',\n  'mixed',\n  'signals',\n  '?'],\n ['how',\n  'do',\n  'i',\n  'tell',\n  'my',\n  'husband',\n  'i',\n  'don',\n  \"'\",\n  't',\n  'think',\n  'we',\n  \"'\",\n  're',\n  'ready',\n  'to',\n  'try',\n  'for',\n  'a',\n  'baby',\n  'yet',\n  '?'],\n ['why', 'is', 'the', 'scientific', 'method', 'required', '?'],\n ['why', 'are', 'you', 'so', 'focused', 'on', 'financial', 'wealth', '?'],\n ['what',\n  'are',\n  'the',\n  'main',\n  'problems',\n  'in',\n  'maglevs',\n  'and',\n  'hyperloop',\n  '?'],\n ['is',\n  'it',\n  'beneficial',\n  'to',\n  'join',\n  'vibrant',\n  'kota',\n  'in',\n  'class',\n  '12',\n  '?'],\n ['is',\n  'it',\n  'true',\n  'that',\n  'all',\n  'russia',\n  'or',\n  'china',\n  'has',\n  'to',\n  'do',\n  'to',\n  'destroy',\n  'the',\n  'us',\n  'is',\n  'drop',\n  'a',\n  'nuclear',\n  'bomb',\n  'on',\n  'yellowstone',\n  '?'],\n ['why',\n  'cant',\n  'nike',\n  'india',\n  'pvt',\n  'ltd',\n  'invest',\n  'in',\n  'retail',\n  'stores',\n  '?',\n  'why',\n  'it',\n  'needs',\n  'fdi',\n  '?'],\n ['if',\n  'the',\n  'u',\n  '.',\n  's',\n  '.',\n  'hadn',\n  \"'\",\n  't',\n  'changed',\n  'its',\n  'relationship',\n  'with',\n  'cuba',\n  'in',\n  'december',\n  '2014',\n  ',',\n  'what',\n  'would',\n  'have',\n  'happened',\n  'to',\n  'cuba',\n  ',',\n  'especially',\n  'given',\n  'its',\n  'relationship',\n  'with',\n  'venezuela',\n  'and',\n  'the',\n  'economic',\n  'issues',\n  'venezuela',\n  'is',\n  'facing',\n  '?'],\n ['what', 'is', 'silent', 'maratha', 'protest', '?'],\n ['how', 'do', 'i', 'get', '.', 'net', 'certification', '?'],\n ['why', 'is', 'pressed', 'steel', 'used', 'in', 'automobile', 'frames', '?'],\n ['what',\n  'is',\n  'the',\n  'safety',\n  'conditions',\n  'when',\n  'minimum',\n  'factor',\n  'of',\n  'safety',\n  'is',\n  'applied',\n  '?'],\n ['what',\n  'is',\n  'the',\n  'best',\n  'gift',\n  'i',\n  'should',\n  'give',\n  'to',\n  'my',\n  'sister',\n  'on',\n  'this',\n  '\"',\n  'rakshabandhan',\n  '\"?'],\n ['is', 'backbone', '.', 'js', 'still', 'popular', 'in', '2016', '?'],\n ['what',\n  'would',\n  'happen',\n  'if',\n  'sheldon',\n  'cooper',\n  'were',\n  'to',\n  'meet',\n  'rajinikanth',\n  '?'],\n ['if',\n  'photons',\n  'are',\n  'massless',\n  ',',\n  'how',\n  'do',\n  'solar',\n  'sails',\n  'provide',\n  'thrust',\n  '?'],\n ['when',\n  'interviewing',\n  'at',\n  'google',\n  ',',\n  'how',\n  'many',\n  'times',\n  'can',\n  'someone',\n  'fail',\n  'before',\n  'they',\n  'are',\n  'not',\n  'given',\n  'any',\n  'more',\n  'chances',\n  '?'],\n ['how', 'do', 'you', 'define', '\"', 'education', '\"', 'in', 'essence', '?'],\n ['is',\n  'netflix',\n  'a',\n  'good',\n  'source',\n  'for',\n  '4k',\n  'content',\n  'in',\n  'india',\n  '?'],\n ['how', 'do', 'i', 'deal', 'with', 'emotionally', 'abusive', 'parents', '?'],\n ['what', 'are', 'the', 'tv', 'series', 'with', 'perfect', 'endings', '?'],\n ['what',\n  'is',\n  'a',\n  'consecutive',\n  'calendar',\n  'day',\n  'and',\n  'how',\n  'is',\n  'it',\n  'related',\n  'with',\n  'the',\n  'japanese',\n  'calendar',\n  '?'],\n ['what',\n  'should',\n  'i',\n  'do',\n  'after',\n  'my',\n  'graduation',\n  'in',\n  'english',\n  '?'],\n ['if',\n  'you',\n  'time',\n  'traveled',\n  'into',\n  'the',\n  'triassic',\n  'time',\n  'period',\n  'with',\n  'only',\n  'two',\n  'water',\n  'bottles',\n  ',',\n  'two',\n  'granola',\n  'bars',\n  ',',\n  'and',\n  'a',\n  'flashlight',\n  ',',\n  'how',\n  'would',\n  'you',\n  'survive',\n  '?'],\n ['how',\n  'would',\n  'life',\n  'be',\n  'on',\n  'earth',\n  'if',\n  'only',\n  'one',\n  'side',\n  'of',\n  'the',\n  'planet',\n  'faced',\n  'the',\n  'sun',\n  'throughout',\n  ',',\n  'like',\n  'remus',\n  'did',\n  'in',\n  'star',\n  'trek',\n  ':',\n  'nemesis',\n  '?'],\n ['what', 'is', 'the', 'best', 'way', 'to', 'start', 'your', 'morning', '?'],\n ['what',\n  \"'\",\n  's',\n  'the',\n  'difference',\n  'between',\n  'an',\n  'attorney',\n  'and',\n  'a',\n  'lawyer',\n  '?'],\n ['what',\n  'is',\n  'the',\n  'best',\n  'way',\n  'to',\n  'become',\n  'an',\n  'arms',\n  'dealer',\n  'in',\n  'the',\n  'u',\n  '.',\n  's',\n  '?'],\n ['what',\n  'are',\n  'common',\n  'early',\n  'career',\n  'problems',\n  'for',\n  'people',\n  'with',\n  'degrees',\n  'in',\n  'creative',\n  'writing',\n  '?'],\n ['is', 'ayahuasca', 'dangerous', '?'],\n ['how',\n  'do',\n  'i',\n  'start',\n  'youtube',\n  'channel',\n  'and',\n  'earn',\n  'money',\n  'in',\n  'india',\n  '?'],\n ['how', 'do', 'i', 'control', 'my', 'son', \"'\", 's', 'anger', '?'],\n ['why',\n  'do',\n  'astronauts',\n  'solve',\n  'white',\n  'jigsaw',\n  'puzzles',\n  'in',\n  'their',\n  'training',\n  '?'],\n ['why', 'some', 'people', 'like', 'dog', '?'],\n ['what', 'is', '4', '(-', '6', ')-(-', '5', ')?'],\n ['what', 'is', 'air', 'national', 'guard', 'like', 'for', 'women', '?'],\n ['is', 'it', 'safe', 'to', 'download', 'a', 'zip', 'or', 'rar', 'file', '?'],\n ['what',\n  'are',\n  'the',\n  'safest',\n  'and',\n  'most',\n  'developed',\n  'countries',\n  'in',\n  'latin',\n  'america',\n  'to',\n  'live',\n  'in',\n  '?'],\n ['where',\n  'can',\n  'i',\n  'find',\n  'a',\n  'comprehensive',\n  'list',\n  'of',\n  'startup',\n  'incubators',\n  'and',\n  'accelerators',\n  'in',\n  'the',\n  'us',\n  '?'],\n ['could',\n  'a',\n  'doctor',\n  'in',\n  'the',\n  'u',\n  '.',\n  's',\n  '.',\n  'quit',\n  'and',\n  'become',\n  'a',\n  'nurse',\n  '?'],\n ['why', 'are', 'macadamia', 'nuts', 'bad', 'for', 'dogs', '?'],\n ['who',\n  'is',\n  'a',\n  'better',\n  'politician',\n  ',',\n  'narendra',\n  'modi',\n  'or',\n  'arvind',\n  'kejriwal',\n  '?'],\n ['how',\n  'much',\n  'does',\n  'it',\n  'cost',\n  'to',\n  'travel',\n  'sri',\n  'lanka',\n  'from',\n  'india',\n  '?'],\n ['what', 'are', 'the', 'best', 'breaking', 'bad', 'memes', '?'],\n ['do',\n  'cats',\n  'like',\n  'when',\n  'you',\n  'rub',\n  'your',\n  'face',\n  'on',\n  'them',\n  'as',\n  'they',\n  'do',\n  'to',\n  'us',\n  '?'],\n ['what',\n  'is',\n  'the',\n  'trading',\n  'card',\n  'game',\n  'landscape',\n  'in',\n  '2016',\n  '?'],\n ['how',\n  'many',\n  'girls',\n  'are',\n  'raped',\n  'in',\n  'delhi',\n  'in',\n  'one',\n  'day',\n  '?'],\n ['what', 'are', 'your', 'plans', 'for', 'this', 'new', 'year', '?'],\n ['why', 'isn', \"'\", 't', 'israel', 'a', 'nato', 'member', '?'],\n ['nsf', 'to', 'exchange', '?'],\n ['what',\n  'is',\n  'the',\n  'meaning',\n  'of',\n  'the',\n  'spanish',\n  'word',\n  '\"',\n  'autosuperación',\n  '\"?'],\n ['how', 'does', 'hstalks', 'pay', 'the', 'speakers', '?'],\n ['how', 'should', 'a', 'coworking', 'space', 'be', 'secured', '?'],\n ['how', 'do', 'i', 'make', 'critical', 'decisions', 'in', 'life', '?'],\n ['how', 'do', 'you', 'evaluate', 'people', '?'],\n ['i',\n  'have',\n  'a',\n  'tata',\n  'photon',\n  'plus',\n  'dongle',\n  'for',\n  'the',\n  'internet',\n  'connection',\n  '.',\n  'am',\n  'i',\n  'the',\n  'only',\n  'one',\n  'suffering',\n  'from',\n  'the',\n  'internet',\n  'speed',\n  'going',\n  'very',\n  'slow',\n  'or',\n  'is',\n  'this',\n  'a',\n  'general',\n  'problem',\n  '?'],\n ['can',\n  'a',\n  'guy',\n  'hit',\n  'a',\n  'girl',\n  'if',\n  'she',\n  'hit',\n  'him',\n  'first',\n  '?'],\n ['why', 'am', 'i', 'addicted', 'to', 'tomatoes', '?'],\n ['what', 'are', 'the', 'best', 'website', 'builders', 'for', '2013', '?'],\n ['which',\n  'are',\n  'the',\n  'best',\n  'legitimate',\n  'online',\n  'stores',\n  'for',\n  'buying',\n  'electronic',\n  'cigarettes',\n  '&',\n  'liquids',\n  'in',\n  'india',\n  '?'],\n ['how',\n  'do',\n  'i',\n  'prepare',\n  'for',\n  'an',\n  'iit',\n  'jam',\n  'geology',\n  'exam',\n  'with',\n  'hardly',\n  '4',\n  'months',\n  'left',\n  '?'],\n ['do',\n  'you',\n  'learn',\n  'cucumber',\n  'and',\n  'rspec',\n  'at',\n  'general',\n  'assembly',\n  \"'\",\n  's',\n  'wdi',\n  'program',\n  '?'],\n ['anita', 'dongre', 'saree', 'collection', '?'],\n ['are',\n  'tickling',\n  'and',\n  'whipping',\n  'scenes',\n  'in',\n  'movies',\n  'for',\n  'real',\n  '?'],\n ['does', 'the', 'great', 'firewall', 'of', 'china', 'work', '?'],\n ['what', 'is', 'the', 'chemical', 'formula', 'for', 'sodium', 'sulfide', '?'],\n ['who',\n  'were',\n  'the',\n  'members',\n  'of',\n  'the',\n  'axis',\n  'powers',\n  '?',\n  'what',\n  'role',\n  'did',\n  'they',\n  'play',\n  'in',\n  'ww2',\n  '?'],\n ['what',\n  'should',\n  'i',\n  'do',\n  'i',\n  \"'\",\n  'm',\n  'in',\n  'love',\n  'with',\n  'my',\n  'best',\n  'friend',\n  'but',\n  'she',\n  'has',\n  'a',\n  'boyfriend',\n  '?'],\n ['what',\n  'happens',\n  'if',\n  'there',\n  'is',\n  'a',\n  'tie',\n  'in',\n  'electoral',\n  'votes',\n  '?',\n  'who',\n  'decides',\n  'the',\n  'election',\n  '?'],\n ['what', 'is', 'the', 'most', 'beautiful', 'flag', 'in', 'the', 'world', '?'],\n ['how',\n  'can',\n  'i',\n  'get',\n  'up',\n  'early',\n  'in',\n  'the',\n  'morning',\n  'without',\n  'snoozing',\n  '?'],\n ['which', 'engineering', 'entrance', 'exams', 'should', 'one', 'appear', '?'],\n ['what',\n  'is',\n  'the',\n  'biggest',\n  'comeback',\n  'from',\n  'failure',\n  'in',\n  'history',\n  '?'],\n ['what', 'is', 'fiscal', 'policy', '?', 'who', 'enforces', 'it', '?'],\n ['what', \"'\", 's', 'the', 'best', 'way', 'to', 'lock', 'my', 'fridge', '?'],\n ['why', 'do', 'paradoxes', 'exist', '?'],\n ['what', 'are', 'some', 'tips', 'for', 'making', 'more', 'money', '?'],\n ['is',\n  'it',\n  'safe',\n  'to',\n  'visit',\n  'srinagar',\n  'in',\n  'september',\n  '2016',\n  '?'],\n ['what',\n  'are',\n  'the',\n  'strengths',\n  'and',\n  'weaknesses',\n  'of',\n  'the',\n  'icix',\n  'platform',\n  '?'],\n ['what', 'about', 'hostel', 'of', 'iiit', 'jabalpur', '?'],\n ['what',\n  'is',\n  'it',\n  'that',\n  'makes',\n  'you',\n  'catch',\n  'a',\n  'cold',\n  'when',\n  'you',\n  'get',\n  'caught',\n  'in',\n  'the',\n  'rain',\n  ',',\n  'if',\n  'it',\n  'is',\n  'essentially',\n  'the',\n  'same',\n  'thing',\n  'as',\n  'being',\n  'drenched',\n  'in',\n  'water',\n  'when',\n  'you',\n  \"'\",\n  're',\n  'showering',\n  '?'],\n ['what', 'are', 'some', 'free', 'ide', 'for', 'awk', 'on', 'windows', '?'],\n ['what', 'type', 'of', 'sim', 'cards', 'are', 'used', 'in', 'iphones', '?'],\n ['how',\n  'do',\n  'i',\n  'link',\n  'my',\n  'myboy',\n  '!',\n  'emulator',\n  'to',\n  'visual',\n  'boy',\n  'advanced',\n  '?',\n  'is',\n  'it',\n  'even',\n  'possible',\n  '?'],\n ['what', 'do', 'you', 'do', 'when', 'you', 'are', 'upset', '?'],\n ['why',\n  'didn',\n  \"'\",\n  't',\n  'the',\n  'asean',\n  'form',\n  'a',\n  'military',\n  'alliance',\n  'similar',\n  'to',\n  'the',\n  'csto',\n  'or',\n  'nato',\n  '?'],\n ['what',\n  'best',\n  'things',\n  'can',\n  'one',\n  'do',\n  'after',\n  'joining',\n  'the',\n  'railway',\n  'at',\n  'irse',\n  '?'],\n ['are',\n  'victims',\n  'of',\n  'pedophiles',\n  'likely',\n  'to',\n  'become',\n  'pedophiles',\n  'themselves',\n  '?'],\n ['how', 'can', 'i', 'reduce', 'forehead', 'wrinkles', '?'],\n ['what', 'is', 'your', 'favorite', 'day', 'of', 'the', 'year', '?'],\n ['how', 'much', 'sleep', 'does', 'a', '15', 'year', 'old', 'need', '?'],\n ['how',\n  'good',\n  'is',\n  'it',\n  'to',\n  'do',\n  'pgdm',\n  'distance',\n  'learning',\n  'from',\n  'welingkar',\n  '?'],\n ['is',\n  'it',\n  'true',\n  'that',\n  'terror',\n  'attack',\n  'on',\n  'uri',\n  'camp',\n  'was',\n  'done',\n  'by',\n  'india',\n  'govt',\n  'to',\n  'prove',\n  'pakistan',\n  'a',\n  'terrorist',\n  'country',\n  'in',\n  'united',\n  'nations',\n  '?'],\n ['i',\n  'want',\n  'to',\n  'start',\n  'importing',\n  '&',\n  'selling',\n  'gps',\n  'locators',\n  'for',\n  'motorbikes',\n  '.',\n  'i',\n  'have',\n  'seen',\n  'some',\n  'devices',\n  'on',\n  'alibaba',\n  '.',\n  'i',\n  'dont',\n  'have',\n  'any',\n  'idea',\n  'about',\n  'gps',\n  'please',\n  'guide',\n  'me',\n  '.'],\n ['if',\n  'you',\n  'could',\n  'pick',\n  'your',\n  'favorite',\n  'movie',\n  'of',\n  'all',\n  'time',\n  'what',\n  'would',\n  'it',\n  'be',\n  '?'],\n ['how',\n  'much',\n  'longer',\n  'will',\n  'the',\n  'north',\n  'korean',\n  'regime',\n  'last',\n  '?',\n  'how',\n  'will',\n  'the',\n  'people',\n  'revolt',\n  'if',\n  'ever',\n  ',',\n  'etcetera',\n  '.?'],\n ['how',\n  'do',\n  'i',\n  'prepare',\n  'for',\n  'neet',\n  '2017',\n  'in',\n  '4',\n  'months',\n  '?'],\n ['where',\n  'is',\n  'the',\n  'best',\n  'place',\n  'to',\n  'buy',\n  'a',\n  'rolex',\n  'in',\n  'the',\n  'uk',\n  '?'],\n ['where', 'do', 'you', 'have', 'your', 'bucket', 'list', '?'],\n ['reddit',\n  '(',\n  'website',\n  '):',\n  'when',\n  'a',\n  'subreddit',\n  ',',\n  'like',\n  '/',\n  'r',\n  '/',\n  'darknetmarkets',\n  ',',\n  'gets',\n  'in',\n  'trouble',\n  ',',\n  'then',\n  'does',\n  'this',\n  'result',\n  'in',\n  'numerous',\n  'users',\n  'deleting',\n  'their',\n  'posts',\n  'from',\n  'the',\n  'subreddit',\n  '?'],\n ['can',\n  'someone',\n  'install',\n  'a',\n  'spy',\n  'software',\n  'without',\n  'having',\n  'a',\n  'physical',\n  'access',\n  'to',\n  'my',\n  'phone',\n  '?'],\n ['what',\n  'do',\n  'american',\n  'people',\n  'think',\n  'of',\n  'modern',\n  'chinese',\n  'people',\n  '?',\n  'do',\n  'some',\n  'of',\n  'them',\n  'have',\n  'prejudice',\n  'against',\n  'chinese',\n  'people',\n  '?'],\n ['how', 'do', 'start', 'my', 'own', 'business', '?'],\n ['fee', 'stracture', 'about', 'areena', '&', 'framebox', '?'],\n ['is',\n  'dark',\n  'energy',\n  'a',\n  'type',\n  'of',\n  'energy',\n  '?',\n  'if',\n  'it',\n  'is',\n  'does',\n  'it',\n  'have',\n  'the',\n  'same',\n  'property',\n  'of',\n  'energy',\n  '?'],\n ['who', 'is', 'worse', ',', 'trump', 'or', 'clinton', '?'],\n ['do',\n  'employees',\n  'at',\n  'tribune',\n  'publishing',\n  'company',\n  'have',\n  'a',\n  'good',\n  'work',\n  '-',\n  'life',\n  'balance',\n  '?',\n  'does',\n  'this',\n  'differ',\n  'across',\n  'positions',\n  'and',\n  'departments',\n  '?'],\n ['can',\n  'you',\n  'get',\n  'pregnant',\n  'on',\n  'your',\n  'period',\n  '?',\n  'how',\n  'likely',\n  'is',\n  'it',\n  '?'],\n ['is',\n  'there',\n  'any',\n  'book',\n  'to',\n  'tell',\n  'how',\n  'human',\n  'should',\n  'think',\n  'and',\n  'behave',\n  'after',\n  '?'],\n ['which', 'book', 'is', 'the', 'best', 'to', 'learn', 'algo', '?'],\n ['what',\n  'is',\n  'the',\n  'torrent',\n  'link',\n  'to',\n  'the',\n  'pursuit',\n  'of',\n  'happyness',\n  'movie',\n  '(',\n  'english',\n  ')?'],\n ['how',\n  'do',\n  'you',\n  'reset',\n  'your',\n  'security',\n  'questions',\n  'for',\n  'your',\n  'apple',\n  'id',\n  '?'],\n ['does', 'travis', 'kalanick', 'have', 'a', 'salary', '?'],\n ['what',\n  'are',\n  'the',\n  'signs',\n  'of',\n  'a',\n  'gifted',\n  '13',\n  'year',\n  'old',\n  '?'],\n ['what',\n  'can',\n  'we',\n  'as',\n  'humans',\n  'learn',\n  'about',\n  'our',\n  'own',\n  'behavior',\n  'from',\n  'studying',\n  'primate',\n  'behavior',\n  'and',\n  'society',\n  '?'],\n ['what',\n  'is',\n  'the',\n  'scope',\n  'after',\n  'doing',\n  'masters',\n  'in',\n  'mechanical',\n  'engineering',\n  'at',\n  'usa',\n  '?',\n  'suggest',\n  'some',\n  'programs',\n  'in',\n  'mechanical',\n  'engg',\n  'having',\n  'wide',\n  'scope',\n  '.'],\n ['if',\n  'you',\n  'could',\n  'live',\n  'in',\n  'a',\n  'movie',\n  'universe',\n  'which',\n  'would',\n  'you',\n  'choose',\n  'and',\n  'why',\n  '?'],\n ['what',\n  'interesting',\n  'topics',\n  'can',\n  'i',\n  'talk',\n  'to',\n  'my',\n  'ex',\n  '-',\n  'girlfriend',\n  'about',\n  '?'],\n ['does',\n  'drift',\n  'velocity',\n  'depend',\n  'on',\n  'diameter',\n  'of',\n  'the',\n  'conductor',\n  '?'],\n ['which', 'is', 'the', 'best', 'ro', 'water', 'purifier', 'in', 'india', '?'],\n ['would',\n  'the',\n  'world',\n  'be',\n  'a',\n  'better',\n  'place',\n  'without',\n  'money',\n  '?'],\n ['what',\n  'are',\n  'best',\n  'online',\n  'resources',\n  'and',\n  'video',\n  'lectures',\n  'from',\n  'reputed',\n  'universities',\n  'to',\n  'learn',\n  'python',\n  'and',\n  'r',\n  'for',\n  'data',\n  'science',\n  '?'],\n ['what',\n  'is',\n  'the',\n  'best',\n  'i',\n  'can',\n  'make',\n  'of',\n  'my',\n  'daily',\n  'commute',\n  'time',\n  'of',\n  '2',\n  'hours',\n  ',',\n  'besides',\n  'reading',\n  'a',\n  'book',\n  '?'],\n ['is',\n  'palestine',\n  'a',\n  'country',\n  ',',\n  'nation',\n  ',',\n  'and',\n  '/',\n  'or',\n  'state',\n  '?'],\n ['what',\n  'is',\n  'the',\n  'difference',\n  'between',\n  'restrain',\n  'and',\n  'restraint',\n  '?'],\n ['what',\n  'is',\n  'the',\n  'difference',\n  'between',\n  'mist',\n  ',',\n  'fog',\n  ',',\n  'smog',\n  ',',\n  'haze',\n  'and',\n  'vog',\n  '?'],\n ['what', 'are', 'some', 'most', 'motivational', 'photos', '?'],\n ['what',\n  \"'\",\n  's',\n  'the',\n  'real',\n  'truth',\n  'about',\n  'how',\n  'america',\n  'was',\n  'born',\n  '?'],\n ['what', 'is', 'the', 'fastest', 'motorcycle', 'in', 'the', 'world', '?'],\n ['how',\n  'long',\n  'can',\n  'you',\n  'keep',\n  'grated',\n  'cheese',\n  'in',\n  'the',\n  'fridge',\n  '?'],\n ['how',\n  'does',\n  'government',\n  'spending',\n  'impact',\n  'economic',\n  'growth',\n  '?'],\n ['is',\n  'there',\n  'a',\n  'demand',\n  'for',\n  'leased',\n  'industrial',\n  'equipment',\n  'in',\n  'the',\n  'energy',\n  'industry',\n  '?'],\n ['what', 'are', 'capital', 'goods', '?'],\n ['how', 'often', 'do', 'you', 'leave', 'your', 'comfort', 'zone', '?'],\n ['what',\n  'is',\n  'your',\n  'salary',\n  'expectation',\n  'and',\n  'let',\n  'me',\n  'a',\n  'briefly',\n  'about',\n  'your',\n  'skills',\n  '?'],\n ['what', 'is', 'rahu', 'in', 'vedic', 'astrology', '?'],\n ['which',\n  'one',\n  'is',\n  'more',\n  'powerful',\n  '?',\n  'spacex',\n  'falcon',\n  'heavy',\n  'or',\n  'nasa',\n  'sls',\n  '?'],\n ['what', 'is', 'the', 'use', 'of', 'ring', 'topology', 'in', 'airports', '?'],\n ['can', 'i', 'make', 'my', 'own', 'operating', 'system', '?'],\n ['why',\n  'do',\n  'some',\n  'people',\n  'want',\n  'to',\n  'do',\n  'too',\n  'many',\n  'things',\n  'in',\n  'life',\n  '?'],\n ['why',\n  'should',\n  'i',\n  'not',\n  'upgrade',\n  'to',\n  'os',\n  'x',\n  'yosemite',\n  'right',\n  'now',\n  '?'],\n ['how', 'is', 'fet', 'a', 'voltage', 'controlled', 'device', '?'],\n ['animal',\n  'behavior',\n  ':',\n  'why',\n  'does',\n  'my',\n  'dog',\n  'enjoy',\n  'licking',\n  'me',\n  '?'],\n ['advice',\n  'for',\n  'getting',\n  'a',\n  'store',\n  '/',\n  'sales',\n  'associate',\n  'job',\n  'at',\n  'free',\n  'people',\n  'or',\n  'urban',\n  'outfiters',\n  '?'],\n ['how',\n  'can',\n  'i',\n  'plan',\n  'to',\n  'become',\n  'a',\n  'multi',\n  'billionaire',\n  '?',\n  'i',\n  \"'\",\n  'm',\n  '19',\n  'now',\n  '?'],\n ['how', 'do', 'you', 'interpret', 'your', 'dreams', '?'],\n ['once',\n  'the',\n  'aca',\n  'is',\n  'repealed',\n  ',',\n  'how',\n  'soon',\n  'thereafter',\n  'will',\n  'insurers',\n  'start',\n  'denying',\n  'coverage',\n  'based',\n  'on',\n  'pre',\n  '-',\n  'existing',\n  'conditions',\n  '?'],\n ['can',\n  'you',\n  'please',\n  'judge',\n  'about',\n  'career',\n  'and',\n  'marriage',\n  '22',\n  '-',\n  '7',\n  '-',\n  '1993',\n  '14',\n  ':',\n  '55pm',\n  'hyderabad',\n  'india',\n  '.?'],\n ['what',\n  'is',\n  'the',\n  'best',\n  'strategy',\n  'to',\n  'prepare',\n  'for',\n  'ias',\n  'zoology',\n  'optional',\n  '?'],\n ['how', 'will', 'the', 'sun', 'be', 'a', 'red', 'giant', '?'],\n ['do',\n  'waiters',\n  'at',\n  'high',\n  'end',\n  'restaurants',\n  'get',\n  'to',\n  'eat',\n  'meals',\n  'there',\n  'for',\n  'free',\n  'or',\n  'for',\n  'discount',\n  '?'],\n ['how',\n  'do',\n  'i',\n  'write',\n  'an',\n  'oath',\n  '?',\n  'what',\n  'are',\n  'some',\n  'tips',\n  '?'],\n ['what',\n  'is',\n  'the',\n  'difference',\n  'between',\n  '34',\n  'and',\n  '34a',\n  'bra',\n  'size',\n  '?',\n  'is',\n  'it',\n  'equivalent',\n  'to',\n  '80',\n  ',',\n  '85',\n  'or',\n  '90',\n  'cm',\n  '?'],\n ['do',\n  'you',\n  'think',\n  'that',\n  'actors',\n  'from',\n  'pakistan',\n  'should',\n  'be',\n  'thrown',\n  'out',\n  'of',\n  'bollywood',\n  '?'],\n ['how',\n  'do',\n  'i',\n  'watch',\n  'torrent',\n  'videos',\n  'while',\n  'it',\n  'is',\n  'being',\n  'downloaded',\n  '?'],\n ['what',\n  'do',\n  'you',\n  'think',\n  'about',\n  'rashtriya',\n  'swayamsevak',\n  'sangh',\n  '?'],\n ['how',\n  'damning',\n  'are',\n  'the',\n  'recent',\n  'dnc',\n  'leaks',\n  'that',\n  'show',\n  'internal',\n  'collusion',\n  '?'],\n ['what',\n  'is',\n  'the',\n  'current',\n  'successful',\n  'java',\n  '/',\n  'j2ee',\n  'framework',\n  'in',\n  'the',\n  'market',\n  '?'],\n ['how', 'do', 'can', 'i', 'sell', 'fragrances', '?'],\n ['how',\n  'can',\n  'a',\n  'vegetarian',\n  'person',\n  'increase',\n  'vitamin',\n  'b',\n  '-',\n  '12',\n  'instantly',\n  'without',\n  'taking',\n  'injections',\n  '?'],\n ['what', 'are', 'the', 'best', 'video', 'games', 'to', 'play', '?'],\n ['is',\n  'expansion',\n  'of',\n  'universe',\n  'faster',\n  'than',\n  'the',\n  'speed',\n  'of',\n  'light',\n  '?'],\n ['how',\n  'hard',\n  'is',\n  'it',\n  'to',\n  'make',\n  'a',\n  '2d',\n  'game',\n  'on',\n  'xcode',\n  '?'],\n ['why', 'are', 'magnets', 'born', 'with', 'two', 'poles', '?'],\n ['should',\n  'i',\n  'take',\n  'ece',\n  'at',\n  'lnmiit',\n  'or',\n  'jiit',\n  '(',\n  'sec',\n  '62',\n  ')?'],\n ['which', 'are', 'the', 'best', 'places', 'in', 'hauz', 'khas', '?'],\n ['how',\n  'can',\n  'i',\n  'delete',\n  'apps',\n  'from',\n  'my',\n  'samsung',\n  'smart',\n  'tv',\n  '?'],\n ['why', 'is', 'earth', \"'\", 's', 'rotation', 'slowing', 'down', '?'],\n ['can',\n  'you',\n  'mix',\n  'marijuana',\n  'with',\n  'regular',\n  'pipe',\n  'tobacco',\n  'in',\n  'a',\n  'tobacco',\n  'pipe',\n  '?',\n  'is',\n  'it',\n  'very',\n  'common',\n  '?'],\n ['what',\n  'are',\n  'the',\n  'environmental',\n  'impacts',\n  'of',\n  'the',\n  'tourism',\n  'industry',\n  'and',\n  'how',\n  'does',\n  'it',\n  'negatively',\n  'impacted',\n  'dubai',\n  '?'],\n ['what', 'is', 'it', 'like', 'to', 'work', 'in', 'peta', 'bangalore', '?'],\n ['can',\n  'any',\n  'one',\n  'tell',\n  'me',\n  'how',\n  'to',\n  'solve',\n  'the',\n  'aptitude',\n  'in',\n  'minimum',\n  'time',\n  '?'],\n ['how', 'does', 'schizophrenia', 'affect', 'jobs', 'situation', '?'],\n ['what', 'is', 'the', 'safest', 'job', 'in', 'the', 'world', '?'],\n ['make', 'poultry', 'feed', '?'],\n ['how',\n  'does',\n  'the',\n  'revenue',\n  'from',\n  'a',\n  'movie',\n  'get',\n  'split',\n  'among',\n  'actors',\n  '/',\n  'directors',\n  'and',\n  'everyone',\n  'else',\n  '?'],\n ['how', 'do', 'i', 'untune', 'a', 'guitar', '?'],\n ['what',\n  'is',\n  'it',\n  'like',\n  'to',\n  'be',\n  'the',\n  'chief',\n  'technology',\n  'officer',\n  'of',\n  'facebook',\n  '?'],\n ['i',\n  'have',\n  'a',\n  'permanent',\n  'address',\n  'and',\n  'a',\n  'temporary',\n  'address',\n  '.',\n  'i',\n  'never',\n  'lived',\n  'in',\n  'the',\n  'permanent',\n  'address',\n  'and',\n  'don',\n  \"'\",\n  't',\n  'have',\n  'any',\n  'proof',\n  'too',\n  '.',\n  'should',\n  'i',\n  'mention',\n  'both',\n  'addresses',\n  'in',\n  'my',\n  'passport',\n  'form',\n  '?'],\n ['do',\n  'you',\n  'know',\n  'any',\n  'good',\n  'english',\n  'poem',\n  'on',\n  'the',\n  'topic',\n  \"'\",\n  'floods',\n  \"'?\"],\n ['what',\n  'is',\n  'the',\n  'most',\n  'important',\n  'question',\n  'you',\n  'have',\n  'ever',\n  'asked',\n  'yourself',\n  '?'],\n ['what', 'is', 'the', 'role', 'of', 'dopamine', 'in', 'the', 'brain', '?'],\n ['thailand',\n  ':',\n  'what',\n  'does',\n  'the',\n  'appearance',\n  'of',\n  'middle',\n  '-',\n  'class',\n  'red',\n  'shirts',\n  'supporters',\n  'in',\n  'bangkok',\n  'mean',\n  '?'],\n ['how', 'do', 'you', 'sleep', '7', 'hours', 'a', 'day', '?'],\n ['what',\n  'is',\n  'the',\n  'meaning',\n  'of',\n  'critical',\n  'path',\n  'in',\n  'project',\n  'management',\n  '?'],\n ['in',\n  'indonesia',\n  ',',\n  'what',\n  'is',\n  'the',\n  'outlook',\n  'for',\n  'property',\n  'investment',\n  'in',\n  'jakarta',\n  'and',\n  'its',\n  'neighboring',\n  'cities',\n  'such',\n  'as',\n  'tangerang',\n  ',',\n  'bandung',\n  'and',\n  'bogor',\n  'for',\n  'the',\n  'next',\n  '2',\n  'to',\n  '3',\n  'years',\n  '?'],\n ['why', 'chromiumvi', 'is', 'stable', '?'],\n ['when',\n  'is',\n  'jiu',\n  '-',\n  'jitsu',\n  'going',\n  'to',\n  'be',\n  'an',\n  'olympic',\n  'sport',\n  '?'],\n ['what', 'is', 'laser', 'beam', '?'],\n ['i',\n  \"'\",\n  'm',\n  'a',\n  'diploma',\n  'holder',\n  'in',\n  'electrical',\n  'engineering',\n  ',',\n  'can',\n  'i',\n  'have',\n  'lateral',\n  'entry',\n  'in',\n  'vellore',\n  'institute',\n  'of',\n  'technology',\n  '?'],\n ['how',\n  'did',\n  '99dresses',\n  '.',\n  'com',\n  'to',\n  'get',\n  'their',\n  'initial',\n  'traction',\n  '?'],\n ['what',\n  'is',\n  'commando',\n  'training',\n  'like',\n  'in',\n  'singapore',\n  \"'\",\n  's',\n  'national',\n  'service',\n  'and',\n  'how',\n  'does',\n  'it',\n  'differ',\n  'from',\n  'an',\n  'ordinary',\n  'recruit',\n  \"'\",\n  's',\n  'training',\n  '?'],\n ['why',\n  'are',\n  'there',\n  'relatively',\n  'so',\n  'few',\n  'trolls',\n  'on',\n  'quora',\n  '?'],\n ['is',\n  'it',\n  'too',\n  'late',\n  'for',\n  'adults',\n  'to',\n  'learn',\n  'to',\n  'play',\n  'the',\n  'violin',\n  '?'],\n ['what',\n  'are',\n  'the',\n  'safety',\n  'precautions',\n  'on',\n  'handling',\n  'firearms',\n  'proposed',\n  'by',\n  'the',\n  'nra',\n  'in',\n  'the',\n  'entire',\n  'u',\n  '.',\n  's',\n  '.',\n  'including',\n  'it',\n  '’',\n  's',\n  'territories',\n  'and',\n  'possessions',\n  '?'],\n ['why',\n  'are',\n  'the',\n  'majority',\n  'of',\n  'the',\n  'urban',\n  'dictionary',\n  'definitions',\n  'massively',\n  'downvoted',\n  '?'],\n ['noam',\n  'chomsky',\n  ':',\n  'do',\n  'you',\n  'believe',\n  'that',\n  'the',\n  'major',\n  'events',\n  'of',\n  'history',\n  'has',\n  'been',\n  'and',\n  'is',\n  'currently',\n  'being',\n  'run',\n  'by',\n  'an',\n  'elite',\n  'group',\n  'of',\n  'secretive',\n  'powerful',\n  'people',\n  '?'],\n ['why', 'do', 'people', 'watch', 'animation', 'movies', '?'],\n ['how',\n  'much',\n  'do',\n  'genuine',\n  'leather',\n  'jackets',\n  'cost',\n  'in',\n  'germany',\n  '?'],\n ['how', 'can', 'i', 'improve', 'my', 'grade', 'in', 'biology', '?'],\n ['is',\n  'there',\n  'any',\n  'relation',\n  'between',\n  'mukesh',\n  'ambani',\n  'and',\n  'present',\n  'rbi',\n  'governor',\n  'of',\n  'india',\n  '?'],\n ['how',\n  'did',\n  'darth',\n  'vader',\n  'fought',\n  'darth',\n  'maul',\n  'in',\n  'star',\n  'wars',\n  'legends',\n  '?'],\n ['how', 'do', 'autotrophs', 'and', 'heterotrophs', 'relate', '?'],\n ['how',\n  'can',\n  'you',\n  'see',\n  'exactly',\n  'how',\n  'may',\n  'answers',\n  'a',\n  'question',\n  'on',\n  'quora',\n  'has',\n  'when',\n  'it',\n  'says',\n  '100',\n  '+',\n  'answers',\n  '?'],\n ['examples', 'for', 'newtons', 'second', 'law', '?'],\n ['now',\n  'that',\n  'the',\n  'margaery',\n  'and',\n  'loras',\n  'are',\n  'dead',\n  ',',\n  'who',\n  'will',\n  'rule',\n  'the',\n  'reach',\n  'after',\n  'lady',\n  'olenna',\n  \"'\",\n  's',\n  'death',\n  '?'],\n ['where',\n  'can',\n  'i',\n  'find',\n  'a',\n  'pdf',\n  'or',\n  'online',\n  'text',\n  'of',\n  'the',\n  'mahabharata',\n  'in',\n  'the',\n  'marathi',\n  'language',\n  '?'],\n ['how',\n  'do',\n  'i',\n  'burn',\n  'a',\n  'dvd',\n  'so',\n  'that',\n  'it',\n  'will',\n  'play',\n  'automatically',\n  'in',\n  'a',\n  'dvd',\n  'player',\n  '?'],\n ['how', 'is', 'friedreich', \"'\", 's', 'disease', 'identified', '?'],\n ['what',\n  'are',\n  'the',\n  'job',\n  'opportunities',\n  'for',\n  'an',\n  'electronic',\n  'engineer',\n  '?'],\n ['what', 'happens', 'when', 'a', 'atom', 'bomb', 'explodes', '?'],\n ['has', 'feminism', 'gotten', 'worse', 'as', 'time', 'has', 'passed', '?'],\n ['how', 'do', 'i', 'get', 'rid', 'of', 'my', 'lisp', '?'],\n ['what',\n  'would',\n  'cause',\n  'a',\n  'comminuted',\n  'fracture',\n  'in',\n  'the',\n  'elbow',\n  '?'],\n ['what', 'if', 'kohinoor', 'diamond', 'comes', 'back', 'to', 'india', '?'],\n ['can', 'voicemail', 'work', 'when', 'there', \"'\", 's', 'no', 'power', '?'],\n ['what',\n  'do',\n  'people',\n  'with',\n  'a',\n  'ph',\n  '.',\n  'd',\n  '.',\n  'in',\n  'mathematics',\n  'do',\n  '?'],\n ['what',\n  'is',\n  'an',\n  'example',\n  'of',\n  'a',\n  'sentence',\n  'with',\n  'the',\n  'word',\n  '\"',\n  'terse',\n  '\"?'],\n ['how',\n  'is',\n  'the',\n  'front',\n  '-',\n  'end',\n  'web',\n  'development',\n  'course',\n  'at',\n  'general',\n  'assembly',\n  'sf',\n  '?'],\n ['i',\n  'asked',\n  'a',\n  'girl',\n  'out',\n  'for',\n  'a',\n  'coffee',\n  ',',\n  'she',\n  'said',\n  'yes',\n  'but',\n  'ill',\n  'let',\n  'you',\n  'know',\n  ',',\n  'what',\n  'does',\n  'that',\n  'mean',\n  '?'],\n ['25000', 'in', 'gvernment', 'or', '40000', 'in', 'private', '?'],\n ['how', 'can', 'you', 'teach', 'others', 'about', 'investing', '?'],\n ['should',\n  'any',\n  'cricket',\n  'team',\n  'that',\n  'is',\n  'touring',\n  'india',\n  'always',\n  'insist',\n  'on',\n  'using',\n  'spin',\n  '?'],\n ['what',\n  'are',\n  'some',\n  'good',\n  'english',\n  'songs',\n  'to',\n  'listen',\n  'to',\n  '?'],\n ['how', 'can', 'sex', 'be', 'prolonged', '?'],\n ['what',\n  'is',\n  'the',\n  'difference',\n  'between',\n  '5th',\n  'lord',\n  'in',\n  '7th',\n  'house',\n  'and',\n  '7th',\n  'lord',\n  'in',\n  '5th',\n  'house',\n  'in',\n  'vedic',\n  'astrology',\n  '?'],\n ['what',\n  'is',\n  'a',\n  'good',\n  'barbell',\n  'curl',\n  'for',\n  'a',\n  '185lb',\n  '17',\n  'year',\n  'old',\n  '?'],\n ['what',\n  'are',\n  'the',\n  'things',\n  'one',\n  'should',\n  'keep',\n  'in',\n  'mind',\n  'while',\n  'designing',\n  'a',\n  'logo',\n  '?'],\n ['do', 'i', 'really', 'need', 'to', 'go', 'to', 'school', '?'],\n ['what', 'is', 'the', 'homan', 'square', '?'],\n ['what', 'is', 'meant', 'by', 'theme', '?'],\n ['what',\n  'should',\n  'be',\n  'the',\n  'qualities',\n  'of',\n  'a',\n  'student',\n  'to',\n  'crack',\n  'in',\n  'ies',\n  'or',\n  'ias',\n  '?'],\n ['what', 'does', 'sensex', 'mean', '?'],\n ['how',\n  'do',\n  'i',\n  'horizontally',\n  'center',\n  'a',\n  'table',\n  'in',\n  'microsoft',\n  'word',\n  '?'],\n ['i',\n  'have',\n  'decided',\n  'i',\n  'want',\n  'to',\n  'become',\n  'a',\n  'police',\n  'officer',\n  '.',\n  'what',\n  'should',\n  'i',\n  'do',\n  'and',\n  'how',\n  'do',\n  'i',\n  'do',\n  'it',\n  '?'],\n ['who',\n  'is',\n  'nolan',\n  'ryan',\n  'and',\n  'how',\n  'many',\n  'times',\n  'has',\n  'he',\n  'won',\n  'the',\n  'cy',\n  'young',\n  'award',\n  '?',\n  'how',\n  'many',\n  'records',\n  'does',\n  'he',\n  'still',\n  'hold',\n  '?'],\n ['are',\n  'there',\n  'any',\n  'flight',\n  'simulators',\n  'for',\n  'xbox',\n  '360',\n  '?',\n  'what',\n  'were',\n  'their',\n  'critical',\n  'receptions',\n  '?'],\n ['what',\n  'is',\n  'the',\n  'next',\n  'best',\n  'us',\n  'consumer',\n  'hardware',\n  'company',\n  'to',\n  'work',\n  'at',\n  'after',\n  'apple',\n  '?'],\n ['my',\n  'girlfriend',\n  'recently',\n  'cheated',\n  'on',\n  'me',\n  '.',\n  'so',\n  'i',\n  'broke',\n  'it',\n  'off',\n  'with',\n  'her',\n  '.',\n  'she',\n  'insists',\n  'she',\n  'didn',\n  \"'\",\n  't',\n  'and',\n  'begged',\n  'me',\n  'to',\n  'take',\n  'her',\n  'back',\n  'and',\n  'i',\n  'did',\n  '.',\n  'should',\n  'i',\n  'continue',\n  '?'],\n ['which', 'laptop', 'should', 'i', 'buy', 'under', '20000', '?'],\n ['how', 'do', 'i', 'practice', 'gratitude', 'daily', '?'],\n ['what', 'are', 'the', 'differences', 'between', 'dna', 'and', 'rna', '?'],\n ['which',\n  'animal',\n  '(',\n  'besides',\n  'us',\n  ',',\n  'humans',\n  ')',\n  'kills',\n  'the',\n  'most',\n  'other',\n  'animals',\n  '(',\n  'including',\n  'humans',\n  ')',\n  'on',\n  'average',\n  '?'],\n ['is', 'it', 'better', 'to', 'shave', 'with', 'a', 'safety', 'razor', '?'],\n ['can',\n  'anyone',\n  'let',\n  'me',\n  'do',\n  'tcs',\n  're',\n  '-',\n  'hire',\n  'ex',\n  'employees',\n  '..',\n  'if',\n  'yes',\n  'then',\n  'kindly',\n  'give',\n  'me',\n  'references',\n  '?'],\n ['why', 'is', 'wasting', 'time', 'so', 'important', '?'],\n ['do',\n  'the',\n  'western',\n  'and',\n  'eastern',\n  'parts',\n  'of',\n  'russia',\n  'have',\n  'conflicts',\n  'with',\n  'each',\n  'other',\n  '?'],\n ['where',\n  'can',\n  'i',\n  'get',\n  'the',\n  'best',\n  'tattoos',\n  'in',\n  'goa',\n  '?',\n  'how',\n  'much',\n  'will',\n  'be',\n  'the',\n  'cost',\n  'for',\n  'a',\n  'two',\n  'to',\n  'four',\n  '-',\n  'inch',\n  'tattoo',\n  'in',\n  'goa',\n  '?'],\n ['how', 'does', 'whatsapp', 'earn', 'money', '?'],\n ['how',\n  'do',\n  'i',\n  'use',\n  'infrared',\n  'scanner',\n  'for',\n  'qrcode',\n  'scaning',\n  'programatically',\n  'in',\n  'android',\n  '?'],\n ['how', 'can', 'we', 'change', 'the', 'educational', 'system', '?'],\n ['why',\n  'do',\n  'the',\n  'british',\n  'army',\n  'and',\n  'royal',\n  'marines',\n  'use',\n  'the',\n  'sa80',\n  '?'],\n ['who', 'voted', 'for', 'donald', 'trump', '?'],\n ['if',\n  'you',\n  'are',\n  'a',\n  'resident',\n  'of',\n  'the',\n  'u',\n  '.',\n  'k',\n  'but',\n  'also',\n  'a',\n  'u',\n  '.',\n  's',\n  'citizen',\n  'do',\n  'you',\n  'still',\n  'have',\n  'to',\n  'pay',\n  'a',\n  'tax',\n  'on',\n  'gambling',\n  'winnings',\n  '?'],\n ['if',\n  'i',\n  'smoke',\n  'a',\n  'cigarette',\n  'a',\n  'day',\n  ',',\n  'would',\n  'it',\n  'affect',\n  'my',\n  'selection',\n  'in',\n  'ima',\n  'or',\n  'ota',\n  '?'],\n ['can',\n  'you',\n  'give',\n  'me',\n  'feedback',\n  'for',\n  'my',\n  'youtube',\n  'videos',\n  '?'],\n ['is',\n  'he',\n  'jealous',\n  'or',\n  'just',\n  'in',\n  'a',\n  'bad',\n  'mood',\n  '?',\n  '(',\n  'talking',\n  'to',\n  'a',\n  'guy',\n  'online',\n  ')'],\n ['how', 'can', 'i', 'teach', 'myself', 'to', 'hate', '?'],\n ['how',\n  'will',\n  'changing',\n  'of',\n  'indian',\n  'currency',\n  'affect',\n  'the',\n  'economy',\n  '?'],\n ['who', 'funds', 'bioinformatics', 'research', '?'],\n ['is', 'space', 'really', 'infinite', '?'],\n ['my',\n  'laptop',\n  'is',\n  'not',\n  'charging',\n  'when',\n  'plugged',\n  'in',\n  ',',\n  'but',\n  'it',\n  'is',\n  'charging',\n  'when',\n  'laptop',\n  'is',\n  'shutdown',\n  '.',\n  'what',\n  'does',\n  'this',\n  'mean',\n  '?',\n  'how',\n  'can',\n  'i',\n  'fix',\n  'it',\n  '?'],\n ['how', 'can', 'i', 'repay', 'my', 'parents', '?'],\n ['what',\n  'are',\n  'the',\n  'tv',\n  'series',\n  'can',\n  'i',\n  'watch',\n  'to',\n  'improve',\n  'my',\n  'english',\n  '?'],\n ['i',\n  'am',\n  '29',\n  'and',\n  'i',\n  'have',\n  'around',\n  '15',\n  'lakh',\n  'rupees',\n  ',',\n  'what',\n  'are',\n  'the',\n  'best',\n  'investments',\n  '?'],\n ['what',\n  'are',\n  'some',\n  'lesser',\n  '-',\n  'known',\n  'sights',\n  'to',\n  'see',\n  'when',\n  'visiting',\n  'ghent',\n  ',',\n  'belgium',\n  '?'],\n ['what',\n  'is',\n  'the',\n  'difference',\n  'between',\n  'static',\n  'and',\n  'dynamic',\n  'analysis',\n  'of',\n  'structure',\n  '?'],\n ['what',\n  'should',\n  'i',\n  'do',\n  'if',\n  'i',\n  'forgot',\n  'the',\n  'answers',\n  'to',\n  'my',\n  'apple',\n  'id',\n  'questions',\n  '?'],\n ['i',\n  'was',\n  'stupid',\n  'enough',\n  'to',\n  'tell',\n  'my',\n  'google',\n  'interviewer',\n  'that',\n  '\"',\n  'i',\n  'hate',\n  'ads',\n  'and',\n  'have',\n  'deleted',\n  'every',\n  'single',\n  'app',\n  'that',\n  'has',\n  'ads',\n  'from',\n  'my',\n  'smartphone',\n  '\".',\n  'am',\n  'i',\n  'forever',\n  'banned',\n  'from',\n  'interviewing',\n  'for',\n  'this',\n  'company',\n  'again',\n  '?'],\n ['how',\n  'do',\n  'you',\n  'connect',\n  'to',\n  'an',\n  'ftp',\n  'server',\n  'with',\n  'linux',\n  '?'],\n ['what', \"'\", 's', 'a', '\"', 'net', 'electric', 'charge', '\"?'],\n ['how', 'do', 'i', 'become', 'a', 'good', 'sales', 'representative', '?'],\n ['what',\n  'is',\n  'a',\n  'good',\n  'book',\n  '/',\n  'resource',\n  'on',\n  'learning',\n  'self',\n  '-',\n  'defense',\n  'for',\n  'beginners',\n  '?'],\n ['does',\n  'the',\n  'federal',\n  'reserve',\n  \"'\",\n  's',\n  'policies',\n  'affect',\n  'the',\n  'markets',\n  '?',\n  'if',\n  'so',\n  ',',\n  'how',\n  '?'],\n ['is', 'there', 'any', 'logic', 'behind', 'astrology', '?'],\n ['is',\n  'it',\n  'still',\n  'self',\n  '-',\n  'harm',\n  'if',\n  'i',\n  'cut',\n  'myself',\n  'but',\n  'not',\n  'deep',\n  'so',\n  'it',\n  'doesn',\n  \"'\",\n  't',\n  'bleed',\n  '?'],\n ['how', 'do', 'i', 'make', 'a', 'million', 'off', 'real', 'estate', '?'],\n ['what',\n  'is',\n  'the',\n  'scope',\n  'of',\n  'computer',\n  'science',\n  'in',\n  'economics',\n  'field',\n  '?'],\n ['after',\n  'buying',\n  'a',\n  'new',\n  'macbook',\n  'pro',\n  ',',\n  'what',\n  'are',\n  'some',\n  'things',\n  'you',\n  'should',\n  'do',\n  'to',\n  'it',\n  'right',\n  'away',\n  '?'],\n ['what',\n  'are',\n  'ethical',\n  'principles',\n  'and',\n  'core',\n  'values',\n  'that',\n  'governs',\n  'social',\n  'work',\n  'in',\n  'the',\n  'us',\n  '?'],\n ['how',\n  'do',\n  'you',\n  'think',\n  'the',\n  'future',\n  'of',\n  'choosing',\n  'a',\n  'research',\n  'or',\n  'career',\n  'path',\n  'in',\n  'computational',\n  'geophysics',\n  'would',\n  'be',\n  ',',\n  'for',\n  'a',\n  'ms',\n  'student',\n  'in',\n  'compuational',\n  'engineering',\n  '?'],\n ['how',\n  'are',\n  'the',\n  'job',\n  'opportunities',\n  'after',\n  'an',\n  'ms',\n  'in',\n  'mis',\n  '(',\n  'management',\n  'information',\n  'system',\n  ')',\n  'in',\n  'the',\n  'usa',\n  '?'],\n ['what', 'bank', 'has', 'the', 'best', 'credit', 'cards', '?'],\n ['what',\n  'is',\n  'the',\n  'advice',\n  'you',\n  'give',\n  'for',\n  'a',\n  'student',\n  'who',\n  'is',\n  'going',\n  'to',\n  'study',\n  'medicine',\n  '?'],\n ['can', 'we', 'transmit', 'video', 'signal', 'through', 'ir', '?'],\n ['is',\n  'there',\n  'a',\n  'formula',\n  'to',\n  'calculate',\n  'rpm',\n  'of',\n  'a',\n  'turbine',\n  'if',\n  'we',\n  'know',\n  'velocity',\n  'of',\n  'water',\n  '?'],\n ['is', '100mbps', 'internet', 'considered', 'slow', '?'],\n ['do', 'meghalaya', 'girls', 'date', 'south', 'indians', '?'],\n ['would',\n  'you',\n  'consider',\n  'the',\n  'film',\n  'silence',\n  'of',\n  'the',\n  'lambs',\n  'transphobic',\n  '?'],\n ['how',\n  'do',\n  'i',\n  'start',\n  'preparing',\n  'for',\n  'gate',\n  'metallurgical',\n  'and',\n  'materials',\n  'engineering',\n  '?'],\n ['why',\n  'is',\n  'life',\n  'expectancy',\n  'so',\n  'low',\n  'in',\n  'africa',\n  '?',\n  'what',\n  'are',\n  'they',\n  'dying',\n  'of',\n  'by',\n  'the',\n  'time',\n  'they',\n  'hit',\n  '50',\n  '?'],\n ['what',\n  'are',\n  'the',\n  'cheapest',\n  'trek',\n  'organizers',\n  'in',\n  'europe',\n  'and',\n  'the',\n  'uk',\n  '?'],\n ['how',\n  'can',\n  'i',\n  'avoid',\n  'human',\n  'verification',\n  'in',\n  '8',\n  'ball',\n  'pool',\n  'hack',\n  '?',\n  'is',\n  'it',\n  'possible',\n  '?'],\n ['what',\n  'are',\n  'some',\n  'of',\n  'the',\n  'different',\n  'forms',\n  'of',\n  'energy',\n  'and',\n  'their',\n  'uses',\n  '?'],\n ['which', 'is', 'the', 'best', 'tripod', 'for', 'canon', '80d', '?'],\n ['is', 'human', 'eye', 'the', 'video', 'recorder', 'of', 'the', 'world', '?'],\n ['will',\n  'el',\n  'diablo',\n  'return',\n  'in',\n  'a',\n  'suicide',\n  'squad',\n  'sequel',\n  '?'],\n ['my',\n  'parents',\n  'want',\n  'me',\n  'to',\n  'become',\n  'a',\n  'doctor',\n  'but',\n  'i',\n  \"'\",\n  'm',\n  'in',\n  'love',\n  'with',\n  'cricket',\n  '?',\n  'what',\n  'can',\n  'i',\n  'do',\n  'to',\n  'convince',\n  'them',\n  '?'],\n ['what',\n  'is',\n  'the',\n  'debilitating',\n  'condition',\n  'where',\n  'files',\n  'are',\n  'stored',\n  'as',\n  'clusters',\n  'scattered',\n  'all',\n  'over',\n  'a',\n  'disk',\n  '?'],\n ['when',\n  'i',\n  'close',\n  'my',\n  'facebook',\n  'account',\n  'will',\n  'i',\n  'still',\n  'be',\n  'able',\n  'to',\n  'access',\n  'my',\n  'spotify',\n  'account',\n  '?'],\n ['will',\n  'elon',\n  'musk',\n  'be',\n  'the',\n  'first',\n  'individual',\n  'to',\n  'be',\n  'worth',\n  '$',\n  '1',\n  'trillion',\n  'dollars',\n  '?'],\n ['how',\n  'accurate',\n  'is',\n  'the',\n  'body',\n  'fat',\n  'percentage',\n  'reading',\n  'on',\n  'the',\n  'withings',\n  'scales',\n  '?'],\n ['how', 'beautiful', 'is', 'life', '?'],\n ['which', 'operating', 'system', 'does', 'batman', 'use', '?'],\n ['would',\n  'steve',\n  'jobs',\n  'have',\n  'apologized',\n  'over',\n  'ios',\n  '6',\n  'maps',\n  'as',\n  'tim',\n  'cook',\n  'recently',\n  'did',\n  '?'],\n ['questions',\n  'for',\n  'those',\n  'who',\n  'work',\n  'at',\n  'mkinsey',\n  ',',\n  'accenture',\n  ',',\n  'bcg',\n  'and',\n  'similar',\n  ',',\n  'as',\n  'well',\n  'as',\n  'its',\n  'clients',\n  ':',\n  'roughly',\n  ',',\n  'what',\n  'is',\n  'the',\n  'typical',\n  'fee',\n  'charged',\n  '?'],\n ['how',\n  'can',\n  'i',\n  'find',\n  'out',\n  'what',\n  'party',\n  'i',\n  'am',\n  'registered',\n  'to',\n  'vote',\n  'under',\n  '?'],\n ['how',\n  'would',\n  'you',\n  'be',\n  'able',\n  'to',\n  'solve',\n  'this',\n  'math',\n  'word',\n  'problem',\n  '?'],\n ['what',\n  'universities',\n  'does',\n  'wabash',\n  'national',\n  'recruit',\n  'new',\n  'grads',\n  'from',\n  '?',\n  'what',\n  'majors',\n  'are',\n  'they',\n  'looking',\n  'for',\n  '?'],\n ['what',\n  \"'\",\n  's',\n  'the',\n  'difference',\n  'between',\n  'static',\n  'and',\n  'constant',\n  'variable',\n  '?'],\n ['how', 'would', 'a', 'foreigner', 'feel', 'in', 'england', '?'],\n ['can',\n  'anybody',\n  'share',\n  'the',\n  'experience',\n  'of',\n  'the',\n  'mdl',\n  'interview',\n  'for',\n  'mechanical',\n  'through',\n  'gate',\n  '?'],\n ['how', 'can', 'i', 'treat', 'a', 'zit', 'above', 'my', 'lip', '?'],\n ['how',\n  'shall',\n  'i',\n  'describe',\n  'me',\n  'as',\n  'a',\n  'foodie',\n  'as',\n  'a',\n  'hobby',\n  'in',\n  'my',\n  'resume',\n  '?'],\n ['i',\n  'don',\n  \"'\",\n  't',\n  'have',\n  'the',\n  'energy',\n  'to',\n  'do',\n  'anything',\n  'anymore',\n  '.',\n  'what',\n  'should',\n  'i',\n  'do',\n  '?'],\n ['i',\n  'want',\n  'to',\n  'buy',\n  'an',\n  'ereader',\n  'and',\n  'i',\n  'am',\n  'unable',\n  'to',\n  'decide',\n  'between',\n  'kobo',\n  'aura',\n  'hd',\n  'and',\n  'amazon',\n  'kindle',\n  'paperwhite',\n  '.',\n  'which',\n  'one',\n  'is',\n  'better',\n  '?'],\n ['how',\n  'do',\n  'you',\n  'use',\n  \"'\",\n  'request',\n  \"'\",\n  'module',\n  'to',\n  'scrape',\n  'multiple',\n  'pages',\n  'on',\n  'the',\n  'same',\n  'site',\n  '?',\n  'do',\n  'i',\n  'need',\n  'to',\n  'paste',\n  'the',\n  'link',\n  'for',\n  'each',\n  'page',\n  '?'],\n ['is',\n  'framework',\n  '7',\n  'is',\n  'going',\n  'to',\n  'replace',\n  'android',\n  '/',\n  'ios',\n  'sdks',\n  '?'],\n ['why',\n  'did',\n  'the',\n  'usa',\n  'demobilize',\n  'so',\n  'quickly',\n  'after',\n  'ww2',\n  '?'],\n ['how', 'do', 'promote', 'your', 'website', 'for', 'free', '?'],\n ['what',\n  'is',\n  'the',\n  'difference',\n  'between',\n  'nationality',\n  ',',\n  'ethnicity',\n  'and',\n  'race',\n  '?'],\n ['can', 'a', 'light', 'period', 'be', 'caused', 'by', 'stress', '?'],\n ['what',\n  'is',\n  'the',\n  'best',\n  'forum',\n  'when',\n  'my',\n  'iphone',\n  'charging',\n  'port',\n  'isn',\n  \"'\",\n  't',\n  'working',\n  '?'],\n ['what',\n  'should',\n  'a',\n  'male',\n  'do',\n  'if',\n  'a',\n  'girl',\n  'refuse',\n  'to',\n  'go',\n  'out',\n  'with',\n  'him',\n  'because',\n  'she',\n  'was',\n  'afraid',\n  'of',\n  'being',\n  'molested',\n  'by',\n  'him',\n  '?'],\n ['what',\n  'is',\n  'the',\n  'best',\n  'way',\n  'to',\n  'learn',\n  'c',\n  'programming',\n  'from',\n  '0',\n  '?'],\n ['what',\n  'if',\n  'there',\n  \"'\",\n  's',\n  'no',\n  'unified',\n  'field',\n  'theory',\n  ',',\n  'would',\n  'it',\n  'mean',\n  'there',\n  'are',\n  'things',\n  'in',\n  'nature',\n  'that',\n  'science',\n  'wouldn',\n  \"'\",\n  't',\n  'be',\n  'able',\n  'to',\n  'conciliate',\n  '?'],\n ['how', 'can', 'i', 'raise', 'funding', 'for', 'my', 'startup', '?'],\n ['alien',\n  'abductees',\n  'of',\n  'quora',\n  'or',\n  'people',\n  'who',\n  'have',\n  'claimed',\n  'to',\n  'see',\n  'a',\n  'ufo',\n  ',',\n  'what',\n  \"'\",\n  's',\n  'your',\n  'story',\n  '?'],\n ['what', 'should', 'you', 'do', 'if', 'you', 'miss', 'someone', '?'],\n ['how',\n  'can',\n  'i',\n  'get',\n  'someone',\n  'on',\n  'twitter',\n  'to',\n  'not',\n  'see',\n  'my',\n  'tweets',\n  'without',\n  'blocking',\n  'them',\n  '?'],\n ['how',\n  'american',\n  'presidents',\n  'get',\n  'elected',\n  '?',\n  'who',\n  'will',\n  'vote',\n  'for',\n  'the',\n  'candidates',\n  'in',\n  'the',\n  'elections',\n  '?'],\n ['what',\n  'are',\n  'things',\n  'tall',\n  'people',\n  'can',\n  'do',\n  'that',\n  'short',\n  'people',\n  'cannot',\n  'do',\n  '?'],\n ['what', 'is', 'firewalling', '?'],\n ['what',\n  'would',\n  'cause',\n  'someone',\n  \"'\",\n  's',\n  'mind',\n  'to',\n  'be',\n  'blank',\n  'all',\n  'the',\n  'time',\n  '?'],\n ['what', 'famous', 'actors', 'are', 'diagnosed', 'as', 'psychopaths', '?'],\n ['what',\n  'causes',\n  'rumbling',\n  'just',\n  'before',\n  'an',\n  'earthquake',\n  'and',\n  'when',\n  'does',\n  'it',\n  'stop',\n  '?'],\n ['how',\n  'many',\n  'songs',\n  'have',\n  'been',\n  'recorded',\n  'since',\n  'the',\n  'beginning',\n  'of',\n  'time',\n  '?'],\n ['how', 'do', 'i', 'prepare', 'for', 'the', 'ieo', 'exam', '?'],\n ['why',\n  'indian',\n  'govt',\n  'can',\n  \"'\",\n  't',\n  'get',\n  'hold',\n  'of',\n  'dawood',\n  'ibrahim',\n  'in',\n  'spite',\n  'of',\n  'knowing',\n  'almost',\n  'everything',\n  'about',\n  'him',\n  'for',\n  'so',\n  'many',\n  'years',\n  '?'],\n ['why',\n  'was',\n  'presidential',\n  'inauguration',\n  'day',\n  'in',\n  'the',\n  'u',\n  '.',\n  's',\n  '.',\n  'changed',\n  'from',\n  'march',\n  '4',\n  'to',\n  'january',\n  '20',\n  'in',\n  '1930s',\n  '?'],\n ['how', 'do', 'i', 'crack', 'the', 'gre', '?'],\n ['what',\n  'is',\n  'the',\n  'difference',\n  'between',\n  'a',\n  'titanium',\n  'mesh',\n  'and',\n  'a',\n  'hydroxy',\n  'cement',\n  'in',\n  'bone',\n  'shaping',\n  'surgery',\n  '?'],\n ['why', 'is', 'my', 'blood', 'dark', 'red', '?'],\n ['how', 'do', 'i', 'get', 'funding', 'for', 'my', 'start', '-', 'up', '?'],\n ['how',\n  'do',\n  'you',\n  'transfer',\n  'photos',\n  'from',\n  'a',\n  'chromebook',\n  'to',\n  'an',\n  'iphone',\n  '?'],\n ['what',\n  'are',\n  'the',\n  'good',\n  'and',\n  'bad',\n  'effects',\n  'of',\n  'nandrorapid',\n  '?'],\n ['what',\n  'is',\n  'the',\n  'difference',\n  'between',\n  'isi',\n  'and',\n  'iso',\n  'certification',\n  '?'],\n ['why', 'do', 'we', 'need', 'school', '?'],\n ['how',\n  'do',\n  'i',\n  'earn',\n  'some',\n  'extra',\n  'money',\n  'on',\n  'weekends',\n  'in',\n  'bangalore',\n  '?'],\n ['what', 'does', 'lmvtt', 'mean', 'in', 'a', 'driving', 'license', '?'],\n ['my',\n  'mother',\n  'has',\n  'gbm',\n  'grade',\n  '4',\n  'and',\n  'had',\n  'surgery',\n  '3',\n  'weeks',\n  'to',\n  'ago',\n  '&',\n  'was',\n  'advised',\n  'to',\n  'undergo',\n  'radiation',\n  'and',\n  'chemo',\n  ',',\n  'is',\n  'there',\n  'any',\n  'alternative',\n  'treatment',\n  'available',\n  '?',\n  'tnx'],\n ['are', 'protein', 'powders', 'safe', '?'],\n ['what',\n  'are',\n  'the',\n  'advantages',\n  'of',\n  'xenotransplantation',\n  '?',\n  'what',\n  'are',\n  'the',\n  'disadvantages',\n  '?'],\n ['what', 'makes', 'a', 'number', 'interesting', '?'],\n ['does',\n  'donald',\n  'trump',\n  'still',\n  'have',\n  'a',\n  'chance',\n  'of',\n  'winning',\n  '?',\n  '(',\n  'october',\n  '15',\n  ',',\n  '2016',\n  ')'],\n ['online',\n  'auctions',\n  ':',\n  'how',\n  'does',\n  'bidhere',\n  '.',\n  'com',\n  'work',\n  '?'],\n ['i',\n  'am',\n  'using',\n  'a',\n  'windows',\n  '7',\n  'ultimate',\n  'genuine',\n  'copy',\n  '.',\n  'how',\n  'and',\n  'when',\n  'can',\n  'i',\n  'migrate',\n  'to',\n  'windows',\n  '10',\n  '?'],\n ['how', 'much', 'pay', 'is', 'offered', 'after', 'mba', 'in', 'ib', '?'],\n ['what',\n  'large',\n  'companies',\n  'have',\n  'been',\n  'fined',\n  'by',\n  'ice',\n  'for',\n  'i',\n  '-',\n  '9',\n  'non',\n  '-',\n  'compliance',\n  '?'],\n ['i',\n  'am',\n  'a',\n  'man',\n  'age',\n  'is',\n  '32',\n  'and',\n  'i',\n  'see',\n  'my',\n  'breast',\n  'is',\n  'growing',\n  '?'],\n ['what', 'is', 'contrastive', 'divergence', '?'],\n ['how', 'can', 'i', 'forget', 'my', 'past', 'and', 'all', 'mistakes', '?'],\n ['what', 'is', 'a', 'good', 'seasoning', 'for', 'salmon', '?'],\n ['what', 'is', 'the', 'unit', 'used', 'to', 'describe', 'force', '?'],\n ['is', 'jio', 'sim', 'working', 'by', 'towers', 'or', 'satellite', '?'],\n ['can',\n  'i',\n  'share',\n  'this',\n  'video',\n  'with',\n  'my',\n  'indian',\n  'manager',\n  'or',\n  'would',\n  'he',\n  'fire',\n  'me',\n  '?'],\n ['can',\n  'i',\n  'shrink',\n  'my',\n  'over',\n  '-',\n  'sized',\n  'sweater',\n  'by',\n  'washing',\n  'it',\n  'in',\n  'hot',\n  'water',\n  '?'],\n ['what',\n  'is',\n  'the',\n  'origin',\n  'and',\n  'original',\n  'meaning',\n  'of',\n  '\"',\n  'falana',\n  'dimka',\n  '\"?'],\n ['how',\n  'can',\n  'a',\n  'rising',\n  'computer',\n  'science',\n  'student',\n  ',',\n  'who',\n  'has',\n  'had',\n  'no',\n  'prior',\n  'knowledge',\n  'of',\n  'programming',\n  'or',\n  'data',\n  'structures',\n  ',',\n  'learn',\n  'to',\n  'compete',\n  'against',\n  'other',\n  'computer',\n  'science',\n  'students',\n  'with',\n  'years',\n  'of',\n  'experience',\n  '?'],\n ['is', 'michele', 'obama', 'really', 'a', 'man', '?'],\n ['how', 'do', 'i', 'flirt', 'with', 'a', 'girl', 'who', 'likes', 'me', '?'],\n ['can', 'chihuahuas', 'eat', 'peanuts', '?', 'why', 'or', 'why', 'not', '?'],\n ['for',\n  'how',\n  'long',\n  'will',\n  'donald',\n  'trump',\n  'be',\n  'president',\n  'of',\n  'the',\n  'us',\n  '?'],\n ['for',\n  'building',\n  'a',\n  'system',\n  'like',\n  'udemy',\n  ',',\n  'coursera',\n  'or',\n  'edx',\n  'can',\n  'one',\n  'use',\n  'an',\n  'available',\n  'off',\n  'the',\n  'shelf',\n  'lms',\n  'or',\n  'have',\n  'this',\n  'custom',\n  'build',\n  'in',\n  'php',\n  'or',\n  'dot',\n  'net',\n  '?'],\n ['how',\n  'can',\n  'i',\n  'tell',\n  'if',\n  'a',\n  'guy',\n  'is',\n  'gay',\n  'and',\n  'is',\n  'interested',\n  'in',\n  'me',\n  '?'],\n ['what', \"'\", 's', 'a', 'good', 'distributed', 'queue', '?'],\n ['how',\n  'do',\n  'i',\n  'get',\n  'a',\n  'job',\n  'in',\n  'whatsapp',\n  'as',\n  'a',\n  'support',\n  'analyst',\n  '?'],\n ['how', 'do', 'you', 'heal', 'a', 'cut', 'on', 'your', 'gums', '?'],\n ['why', 'are', 'converse', 'shoes', 'sized', 'so', 'large', '?'],\n ['who', 'made', 'you', 'realize', 'you', 'were', 'gay', '?'],\n ['what',\n  'is',\n  'your',\n  'preferred',\n  'combination',\n  'of',\n  'sauces',\n  'in',\n  'subway',\n  '?'],\n ['what',\n  'is',\n  'the',\n  'difference',\n  'between',\n  'single',\n  'phase',\n  'and',\n  'three',\n  'phase',\n  'power',\n  '?'],\n ['what', 'are', 'the', 'components', 'for', 'an', 'online', 'business', '?'],\n ['why',\n  'does',\n  'a',\n  'girl',\n  'ignore',\n  'you',\n  'when',\n  'she',\n  'knows',\n  'the',\n  'fact',\n  'that',\n  'you',\n  'like',\n  'her',\n  '?'],\n ['what',\n  'will',\n  'happen',\n  'after',\n  'death',\n  'according',\n  'to',\n  'science',\n  '?'],\n ['how', 'can', 'i', 'write', 'research', '?'],\n ['how',\n  'do',\n  'i',\n  'perform',\n  'reverse',\n  'engineering',\n  'in',\n  'pharmaceuticals',\n  '?'],\n ['how',\n  'do',\n  'i',\n  'apply',\n  'for',\n  'pan',\n  'card',\n  'online',\n  ',',\n  'please',\n  'read',\n  'details',\n  '?'],\n ['what',\n  'are',\n  'some',\n  'of',\n  'the',\n  'best',\n  'evidence',\n  'that',\n  'we',\n  'really',\n  'did',\n  'land',\n  'on',\n  'the',\n  'moon',\n  '?'],\n ['who',\n  'is',\n  'the',\n  'famous',\n  'coder',\n  '\"',\n  'trojenguri',\n  '\"',\n  'from',\n  'svnit',\n  ',',\n  'surat',\n  '?'],\n ['why',\n  'is',\n  'frictional',\n  'force',\n  'is',\n  'not',\n  'a',\n  'conservative',\n  'force',\n  '?'],\n ['i',\n  'got',\n  'suspended',\n  'from',\n  'upwork',\n  '.',\n  'do',\n  'i',\n  'have',\n  'the',\n  'legal',\n  'right',\n  'to',\n  'create',\n  'another',\n  'account',\n  '?'],\n ['what',\n  'is',\n  'the',\n  'process',\n  'to',\n  'becoming',\n  'a',\n  'lawyer',\n  'in',\n  'the',\n  'u',\n  '.',\n  's',\n  '.?'],\n ['how',\n  'do',\n  'we',\n  'challenge',\n  'our',\n  'freeholder',\n  'if',\n  'we',\n  'suspect',\n  'they',\n  'are',\n  'overcharging',\n  'us',\n  'for',\n  'building',\n  'work',\n  '?'],\n ['muslim',\n  'women',\n  ':',\n  'what',\n  'emotions',\n  'does',\n  'an',\n  'unmarried',\n  'muslima',\n  ',',\n  'from',\n  'an',\n  'orthodox',\n  'family',\n  ',',\n  'experience',\n  'while',\n  'being',\n  'undressed',\n  'for',\n  'her',\n  'first',\n  'sexual',\n  'intercourse',\n  '?'],\n ['would',\n  \"'\",\n  'ramzor',\n  \"'\",\n  'in',\n  'the',\n  'original',\n  'hebrew',\n  'but',\n  'with',\n  'english',\n  '(',\n  'or',\n  'other',\n  ')',\n  'subtitles',\n  'work',\n  'on',\n  'cable',\n  'or',\n  'broadcast',\n  'tv',\n  '?',\n  'has',\n  'anyone',\n  'tried',\n  '?'],\n ['what',\n  'are',\n  'the',\n  'best',\n  'activities',\n  'to',\n  'do',\n  'with',\n  'children',\n  'when',\n  'visiting',\n  'silchar',\n  ',',\n  'assam',\n  ',',\n  'india',\n  '?'],\n ['my',\n  'linkedin',\n  'account',\n  'has',\n  'been',\n  'restricted',\n  '.',\n  'how',\n  'can',\n  'i',\n  'get',\n  'them',\n  'to',\n  'unrestrict',\n  '(',\n  'release',\n  ')',\n  'my',\n  'linkedin',\n  'account',\n  '?'],\n ['what', 'does', '押一付三', '，', '先付后用', 'mean', 'in', 'english', '?'],\n ['what', 'is', 'the', 'origin', 'of', 'the', 'term', '\"', 'hoosier', '\"?'],\n ['how',\n  'the',\n  'internal',\n  'working',\n  'of',\n  'statement',\n  '-',\n  'based',\n  '-',\n  'replication',\n  'happens',\n  'on',\n  'secondary',\n  'node',\n  'of',\n  'mongodb',\n  '?'],\n ['what',\n  'consumer',\n  'electronics',\n  'segments',\n  'are',\n  'growing',\n  'the',\n  'fastest',\n  '?'],\n ['what',\n  'should',\n  'i',\n  'do',\n  'if',\n  'the',\n  'white',\n  'part',\n  'of',\n  'my',\n  'eye',\n  'is',\n  'swollen',\n  '?'],\n ['what',\n  'are',\n  'we',\n  'sensing',\n  'when',\n  'we',\n  '\"',\n  'feel',\n  '\"',\n  'someone',\n  \"'\",\n  's',\n  'presence',\n  '?'],\n ['how', 'is', 'a', 'compiler', 'program', 'compiled', '?'],\n ['trump',\n  'supporters',\n  'cite',\n  'a',\n  'shakeup',\n  'of',\n  'd',\n  '.',\n  'c',\n  '.',\n  'as',\n  'a',\n  'primary',\n  'driver',\n  'to',\n  'success',\n  '-',\n  'change',\n  'the',\n  'outcome',\n  'expected',\n  '-',\n  'so',\n  'why',\n  'did',\n  '435',\n  'party',\n  'wag',\n  'house',\n  'members',\n  'get',\n  'in',\n  '?'],\n ['does',\n  'a',\n  'long',\n  'sleeve',\n  'shirt',\n  'look',\n  'good',\n  'under',\n  'a',\n  'polo',\n  'shirt',\n  '?'],\n ['it',\n  \"'\",\n  's',\n  '2016',\n  '.',\n  'dad',\n  'says',\n  'that',\n  'he',\n  'and',\n  'ma',\n  'will',\n  'leave',\n  'the',\n  'country',\n  'if',\n  'hillary',\n  'is',\n  'elected',\n  '.',\n  'they',\n  'are',\n  'big',\n  'republicans',\n  '.',\n  'what',\n  'conservative',\n  'country',\n  'should',\n  'they',\n  'move',\n  'to',\n  '?'],\n ['what',\n  'are',\n  'some',\n  'mind',\n  '-',\n  'blowing',\n  'facts',\n  'about',\n  'netherlands',\n  '?'],\n ['how', 'do', 'i', 'prepare', 'for', 'a', 'travel', 'quiz', '?'],\n ['what', 'is', 'all', 'about', 'scholarships', 'for', 'engineering', '?'],\n ['what',\n  'universities',\n  'does',\n  'petmeds',\n  'recruit',\n  'new',\n  'grads',\n  'from',\n  '?',\n  'what',\n  'majors',\n  'are',\n  'they',\n  'looking',\n  'for',\n  '?'],\n ['what',\n  'did',\n  'chinese',\n  'soldiers',\n  '(',\n  'in',\n  'general',\n  ')',\n  'think',\n  'of',\n  'americans',\n  'soldiers',\n  'in',\n  'the',\n  'korean',\n  'war',\n  '?'],\n ['how',\n  'do',\n  'i',\n  'get',\n  'the',\n  'best',\n  'employment',\n  'attorney',\n  'in',\n  'los',\n  'angeles',\n  '?'],\n ['what', \"'\", 's', 'the', 'most', 'sophisticated', 'indian', 'city', '?'],\n ['what',\n  'percentage',\n  'of',\n  'quora',\n  'questions',\n  'do',\n  'you',\n  'think',\n  'could',\n  'be',\n  'answered',\n  'with',\n  'a',\n  'simple',\n  'google',\n  'search',\n  '?'],\n ['how',\n  'do',\n  'i',\n  'cook',\n  'a',\n  'steak',\n  'like',\n  'a',\n  'restaurant',\n  'does',\n  '?'],\n ['where',\n  'can',\n  'i',\n  'find',\n  'indoor',\n  'badminton',\n  'courts',\n  'to',\n  'play',\n  '?'],\n ['is', 'it', 'safe', 'to', 'travel', 'to', 'turkey', 'in', '2016', '?'],\n ['what',\n  \"'\",\n  's',\n  'brendan',\n  'fraser',\n  \"'\",\n  's',\n  'political',\n  'beliefs',\n  '?'],\n ['when', 'is', 'ekstop', '.', 'com', 'launching', 'in', 'pune', '?'],\n ['why', 'don', \"'\", 't', 'most', 'american', 'eat', 'chicken', 'livers', '?'],\n ['how',\n  'do',\n  'you',\n  'eat',\n  'good',\n  'tasting',\n  'food',\n  'while',\n  'eating',\n  'healthy',\n  '?'],\n ['what',\n  'are',\n  'the',\n  'benefits',\n  'and',\n  'tradeoffs',\n  'of',\n  'pair',\n  'programming',\n  '?'],\n ['how', 'good', 'are', 'larry', '&', 'sergey', 'at', 'programming', '?'],\n ['do', 'younger', 'women', 'really', 'like', 'older', 'men', '?'],\n ['i',\n  'want',\n  'to',\n  'hire',\n  'a',\n  'hacker',\n  'to',\n  'hack',\n  'the',\n  'balance',\n  'of',\n  'an',\n  'emv',\n  'stored',\n  'value',\n  'card',\n  ',',\n  'where',\n  'should',\n  'i',\n  'go',\n  '?'],\n ['my',\n  'facebook',\n  'is',\n  'hacked',\n  'by',\n  'someone',\n  '.',\n  'how',\n  'can',\n  'i',\n  'get',\n  'back',\n  'the',\n  'old',\n  'facebook',\n  'account',\n  '?'],\n ['where',\n  'can',\n  'i',\n  'get',\n  'quality',\n  'services',\n  'in',\n  'australia',\n  'for',\n  'full',\n  'color',\n  'printed',\n  'pvc',\n  'sticker',\n  '?'],\n ['is', 'gwern', 'a', 'buddha', '?'],\n ['why',\n  'was',\n  'jaqen',\n  'h',\n  \"'\",\n  'ghar',\n  'captured',\n  'in',\n  'the',\n  'first',\n  'place',\n  'with',\n  'the',\n  'other',\n  'two',\n  'prisoners',\n  'if',\n  'he',\n  'has',\n  'such',\n  'skills',\n  '?'],\n ['what',\n  'is',\n  'your',\n  'review',\n  'of',\n  'university',\n  'of',\n  'north',\n  'carolina',\n  'at',\n  'charlotte',\n  '?'],\n ['how',\n  'should',\n  'i',\n  'start',\n  'learning',\n  'python',\n  'for',\n  'data',\n  'science',\n  '?'],\n ['why', 'is', 'adoption', 'so', 'expensive', '?'],\n ['who', 'is', 'redditceo', 'on', 'reddit', '?'],\n ['what',\n  'is',\n  'the',\n  'best',\n  'way',\n  'to',\n  'send',\n  'money',\n  'from',\n  'australia',\n  'to',\n  'the',\n  'philippines',\n  '?'],\n ['what',\n  'are',\n  'computer',\n  'ethics',\n  'and',\n  'what',\n  'are',\n  'some',\n  'examples',\n  '?'],\n ['what',\n  'is',\n  'the',\n  'advantage',\n  'of',\n  'brands',\n  'for',\n  'using',\n  'media',\n  'buyers',\n  'to',\n  'purchase',\n  'advertising',\n  'space',\n  'for',\n  'them',\n  '?'],\n ['can', 'i', 'take', 'two', 'tylenol', 'and', 'advil', 'together', '?'],\n ['what',\n  'would',\n  'happen',\n  'if',\n  'a',\n  'very',\n  'large',\n  'number',\n  'of',\n  'people',\n  'went',\n  'to',\n  'the',\n  'bank',\n  'to',\n  'take',\n  'back',\n  'their',\n  'deposits',\n  'simultaneously',\n  '?'],\n ['what', 'are', 'basics', 'needed', 'for', '\"', 'angular', 'js', '\"?'],\n ['what',\n  'is',\n  'exactly',\n  'the',\n  'concept',\n  'of',\n  'trade',\n  '-',\n  'off',\n  'in',\n  'evolutionary',\n  'biology',\n  '?'],\n ['how', 'do', 'we', 'develop', 'tamil', 'nadu', '?'],\n ['why',\n  'does',\n  'the',\n  'brain',\n  'not',\n  'start',\n  'recording',\n  'memory',\n  'for',\n  'the',\n  'first',\n  'few',\n  'years',\n  'of',\n  'life',\n  '?'],\n ['how',\n  'can',\n  'government',\n  'get',\n  'an',\n  'economy',\n  'out',\n  'of',\n  'a',\n  'recession',\n  'with',\n  'fiscal',\n  'policy',\n  '?'],\n ['can',\n  'you',\n  'put',\n  'some',\n  'tutorials',\n  'for',\n  'learning',\n  'adobe',\n  'illustrator',\n  '?'],\n ['which',\n  'compiler',\n  'i',\n  'can',\n  'use',\n  'in',\n  'windows',\n  '8',\n  '.',\n  '1',\n  'for',\n  'c',\n  'language',\n  '?'],\n ['who',\n  'is',\n  'the',\n  'biggest',\n  'traitor',\n  'in',\n  'the',\n  'history',\n  'of',\n  'portugal',\n  '?'],\n ['what', 'are', 'some', 'good', 'quotation', 'on', 'faith', '?'],\n ['is',\n  'it',\n  'very',\n  'useful',\n  'for',\n  'students',\n  'go',\n  'abroad',\n  'for',\n  'study',\n  '?'],\n ['how', 'are', 'the', 'job', 'opportunities', 'in', 'usa', '?'],\n ['what',\n  'should',\n  'your',\n  'annual',\n  'income',\n  'be',\n  'to',\n  'fly',\n  'first',\n  'class',\n  '?'],\n ['how', 'do', 'you', 'make', 'a', 'flip', 'flop', 'at', 'home', '?'],\n ['my',\n  'stepdad',\n  'let',\n  'me',\n  'have',\n  'facebook',\n  ',',\n  'but',\n  'my',\n  'mother',\n  'wouldn',\n  \"'\",\n  't',\n  'approve',\n  '?'],\n ['what',\n  'are',\n  'the',\n  'best',\n  'aspects',\n  'of',\n  'living',\n  'in',\n  'batna',\n  ',',\n  'algeria',\n  'as',\n  'a',\n  'young',\n  'adult',\n  '?'],\n ['how',\n  'many',\n  'times',\n  'do',\n  'artists',\n  'act',\n  'out',\n  'or',\n  'get',\n  'someone',\n  'to',\n  'act',\n  'out',\n  'a',\n  'particular',\n  'pose',\n  'that',\n  'they',\n  'wish',\n  'to',\n  'draw',\n  '?'],\n ['what',\n  'should',\n  'you',\n  'do',\n  'if',\n  'you',\n  'have',\n  'a',\n  'personality',\n  'disorder',\n  'and',\n  'you',\n  'are',\n  'tired',\n  'of',\n  'hurting',\n  'other',\n  'people',\n  '?'],\n ['can', 'rbi', 'print', 'unlimited', 'currency', '?'],\n ['should', 'air', 'india', 'be', 'privatised', '?'],\n ['what', 'human', 'food', 'is', 'very', 'healthy', 'for', 'dogs', '?'],\n ['why', 'do', 'atms', 'eat', 'cards', '?'],\n ['is', 'asianet', 'owned', 'by', 'news', 'corp', '?'],\n ['what',\n  'is',\n  'it',\n  'like',\n  'to',\n  'testdrive',\n  'a',\n  'self',\n  '-',\n  'driving',\n  'car',\n  '?'],\n ['why', 'do', 'human', 'beings', 'sleep', 'at', 'night', '?'],\n ['what',\n  'are',\n  'the',\n  'pros',\n  'and',\n  'cons',\n  'of',\n  'raising',\n  'kids',\n  'in',\n  'england',\n  'for',\n  'indian',\n  'parents',\n  '?'],\n ['i',\n  'am',\n  'a',\n  'iit',\n  'jee',\n  'repeater',\n  'and',\n  'i',\n  'dont',\n  'get',\n  'time',\n  'for',\n  'revision',\n  'of',\n  'previous',\n  'chapters',\n  'taught',\n  'in',\n  'coaching',\n  'because',\n  'of',\n  'lot',\n  'of',\n  'homework',\n  '.',\n  'what',\n  'should',\n  'i',\n  'do',\n  '?'],\n ['three',\n  'balls',\n  'are',\n  'drawn',\n  'from',\n  'a',\n  'bag',\n  'containing',\n  '5',\n  'white',\n  ',',\n  '4',\n  'black',\n  'and',\n  '6',\n  'red',\n  'balls',\n  '.',\n  'find',\n  'the',\n  'probability',\n  'that',\n  'all',\n  'the',\n  'balls',\n  'are',\n  'of',\n  'one',\n  'colors',\n  '?'],\n ['should',\n  'a',\n  'teacher',\n  'who',\n  'is',\n  'gay',\n  ',',\n  'bi',\n  'or',\n  'trans',\n  'be',\n  'forced',\n  'to',\n  'inform',\n  'his',\n  'or',\n  'her',\n  'class',\n  'of',\n  'this',\n  'by',\n  'the',\n  'school',\n  '?'],\n ['in',\n  'what',\n  'programming',\n  'language',\n  'are',\n  'chrome',\n  'extensions',\n  'written',\n  '?',\n  'what',\n  'do',\n  'i',\n  'need',\n  'to',\n  'know',\n  'to',\n  'start',\n  'coding',\n  'them',\n  '?'],\n ['is', 'there', 'a', 'tibetan', 'market', 'in', 'bangalore', '?'],\n ['does',\n  'blocking',\n  'somebody',\n  'on',\n  'snapchat',\n  'clear',\n  'saved',\n  'messages',\n  '?'],\n ['i',\n  'am',\n  'in',\n  '10th',\n  '.',\n  'how',\n  'can',\n  'i',\n  'get',\n  'admission',\n  'in',\n  'the',\n  'indian',\n  'institute',\n  'of',\n  'science',\n  '?'],\n ['why', 'would', 'you', 'buy', 'an', 'iphone', '7', '?'],\n ['what',\n  'type',\n  'of',\n  'government',\n  'does',\n  'turkey',\n  'have',\n  '?',\n  'how',\n  'does',\n  'it',\n  'compare',\n  'to',\n  'the',\n  'one',\n  'in',\n  'brazil',\n  '?'],\n ['what',\n  'are',\n  'the',\n  'best',\n  'job',\n  'interview',\n  'questions',\n  'you',\n  \"'\",\n  've',\n  'ever',\n  'asked',\n  'or',\n  'been',\n  'asked',\n  '?'],\n ['how', 'many', 'points', 'are', 'in', 'a', 'gram', 'of', 'meth', '?'],\n ['which', 'k', '-', 'pop', 'idols', 'are', 'not', 'koreans', '?'],\n ['what',\n  'is',\n  'the',\n  'best',\n  'dress',\n  'code',\n  'for',\n  'a',\n  'software',\n  'engineer',\n  '?'],\n ['what',\n  'are',\n  'some',\n  'of',\n  'the',\n  'security',\n  'concerns',\n  'about',\n  'yammer',\n  '?'],\n ['donald',\n  'trump',\n  ':',\n  'why',\n  'wouldn',\n  \"'\",\n  't',\n  'you',\n  'vote',\n  'for',\n  'donald',\n  'trump',\n  'for',\n  'president',\n  '?'],\n ['i',\n  'am',\n  '25',\n  'working',\n  'in',\n  'digital',\n  'marketing',\n  '9',\n  'hours',\n  'a',\n  'day',\n  '.',\n  'i',\n  'want',\n  'to',\n  'spend',\n  'another',\n  '5',\n  'to',\n  '8',\n  'hours',\n  'for',\n  'myself',\n  'at',\n  'home',\n  ',',\n  'to',\n  'work',\n  'on',\n  'my',\n  'startup',\n  '.',\n  'it',\n  'is',\n  'healthy',\n  'to',\n  'spend',\n  '15',\n  'to',\n  '18',\n  'hours',\n  'daily',\n  'for',\n  'work',\n  '?'],\n ['what',\n  'are',\n  'the',\n  'craziest',\n  '/',\n  'weirdest',\n  'things',\n  'you',\n  \"'\",\n  've',\n  'seen',\n  'a',\n  'lion',\n  'do',\n  '?'],\n ['what', 'has', 'gone', 'wrong', 'at', 'chelsea', 'fc', '?'],\n ['how',\n  'do',\n  'i',\n  'control',\n  'someone',\n  'who',\n  'is',\n  'very',\n  'dominating',\n  '?'],\n ['what',\n  'is',\n  'an',\n  'easy',\n  'way',\n  'to',\n  'clean',\n  'toothpaste',\n  'stains',\n  'from',\n  'a',\n  'shirt',\n  'without',\n  'washing',\n  'it',\n  '?'],\n ['job',\n  'interviews',\n  ':',\n  'should',\n  'someone',\n  'with',\n  'asperger',\n  \"'\",\n  's',\n  'disclose',\n  'their',\n  'asperger',\n  \"'\",\n  's',\n  'in',\n  'a',\n  'job',\n  'interview',\n  '?'],\n ['should',\n  'quora',\n  'allow',\n  'the',\n  'option',\n  'to',\n  'bookmark',\n  'questions',\n  '?'],\n ['what',\n  'is',\n  'the',\n  'easiest',\n  'and',\n  'safest',\n  'way',\n  'to',\n  'make',\n  'meth',\n  '?'],\n ['which', 'is', 'the', 'best', 'book', 'for', 'control', 'system', '?'],\n ['what',\n  'do',\n  'you',\n  'call',\n  'someone',\n  'who',\n  'is',\n  'attracted',\n  'to',\n  'women',\n  'but',\n  'doesn',\n  \"'\",\n  't',\n  'want',\n  'to',\n  'have',\n  'sex',\n  'with',\n  'them',\n  'or',\n  'be',\n  'in',\n  'a',\n  'relationship',\n  'with',\n  'them',\n  '?'],\n ...]"
     },
     "execution_count": 5,
     "metadata": {},
     "output_type": "execute_result"
    }
   ],
   "source": [
    "data_tok"
   ],
   "metadata": {
    "collapsed": false,
    "ExecuteTime": {
     "end_time": "2023-06-06T18:21:37.861153821Z",
     "start_time": "2023-06-06T18:21:37.684680680Z"
    }
   }
  },
  {
   "cell_type": "code",
   "execution_count": 6,
   "metadata": {
    "collapsed": true,
    "ExecuteTime": {
     "end_time": "2023-06-06T18:21:41.935926741Z",
     "start_time": "2023-06-06T18:21:40.588137214Z"
    }
   },
   "outputs": [],
   "source": [
    "assert all(isinstance(row, (list, tuple)) for row in data_tok), \"please convert each line into a list of tokens (strings)\"\n",
    "assert all(all(isinstance(tok, str) for tok in row) for row in data_tok), \"please convert each line into a list of tokens (strings)\"\n",
    "is_latin = lambda tok: all('a' <= x.lower() <= 'z' for x in tok)\n",
    "assert all(map(lambda l: not is_latin(l) or l.islower(), map(' '.join, data_tok))), \"please make sure to lowercase the data\""
   ]
  },
  {
   "cell_type": "code",
   "execution_count": 7,
   "metadata": {
    "ExecuteTime": {
     "end_time": "2023-06-06T18:21:42.801692324Z",
     "start_time": "2023-06-06T18:21:42.771708677Z"
    }
   },
   "outputs": [
    {
     "name": "stdout",
     "output_type": "stream",
     "text": [
      "[\"can i get back with my ex even though she is pregnant with another guy ' s baby ?\", 'what are some ways to overcome a fast food addiction ?']\n"
     ]
    }
   ],
   "source": [
    "print([' '.join(row) for row in data_tok[:2]])"
   ]
  },
  {
   "cell_type": "markdown",
   "metadata": {},
   "source": [
    "__Word vectors:__ as the saying goes, there's more than one way to train word embeddings. There's Word2Vec and GloVe with different objective functions. Then there's fasttext that uses character-level models to train word embeddings. \n",
    "\n",
    "The choice is huge, so let's start someplace small: __gensim__ is another nlp library that features many vector-based models incuding word2vec."
   ]
  },
  {
   "cell_type": "code",
   "execution_count": 8,
   "metadata": {
    "collapsed": true,
    "ExecuteTime": {
     "end_time": "2023-06-06T18:22:06.339299681Z",
     "start_time": "2023-06-06T18:21:54.419707250Z"
    }
   },
   "outputs": [],
   "source": [
    "from gensim.models import Word2Vec\n",
    "model = Word2Vec(data_tok, \n",
    "                 vector_size=32,      # embedding vector size\n",
    "                 min_count=5,  # consider words that occured at least 5 times\n",
    "                 window=5).wv  # define context as a 5-word window around the target word"
   ]
  },
  {
   "cell_type": "code",
   "execution_count": 9,
   "metadata": {
    "ExecuteTime": {
     "end_time": "2023-06-06T18:22:09.027998183Z",
     "start_time": "2023-06-06T18:22:08.992364030Z"
    }
   },
   "outputs": [
    {
     "data": {
      "text/plain": "array([-2.5806136 , -0.41840053,  0.25713053,  3.8931015 ,  1.8275205 ,\n        1.8955399 ,  2.7307224 , -2.2251034 ,  0.63980055,  2.7982638 ,\n       -0.7266275 ,  2.1822512 ,  4.935093  ,  0.9424141 ,  3.18673   ,\n        0.05578836,  0.4383479 , -0.83205694,  0.7916653 , -3.8535645 ,\n       -2.7007506 , -0.9095501 , -0.88419193, -0.37262627,  1.8148469 ,\n       -2.2491183 , -0.91922355, -1.0703255 ,  0.5344681 ,  1.5025209 ,\n       -1.0291358 ,  0.01794785], dtype=float32)"
     },
     "execution_count": 9,
     "metadata": {},
     "output_type": "execute_result"
    }
   ],
   "source": [
    "# now you can get word vectors !\n",
    "model.get_vector('anything')"
   ]
  },
  {
   "cell_type": "code",
   "execution_count": 10,
   "metadata": {
    "ExecuteTime": {
     "end_time": "2023-06-06T18:22:12.924755840Z",
     "start_time": "2023-06-06T18:22:12.876514601Z"
    }
   },
   "outputs": [
    {
     "data": {
      "text/plain": "[('fruit', 0.9426738023757935),\n ('rice', 0.9424978494644165),\n ('sauce', 0.933121383190155),\n ('potato', 0.924318253993988),\n ('butter', 0.9216579794883728),\n ('cheese', 0.9184271097183228),\n ('chicken', 0.9148206114768982),\n ('pasta', 0.9061265587806702),\n ('flour', 0.9012394547462463),\n ('soup', 0.899871289730072)]"
     },
     "execution_count": 10,
     "metadata": {},
     "output_type": "execute_result"
    }
   ],
   "source": [
    "# or query similar words directly. Go play with it!\n",
    "model.most_similar('bread')"
   ]
  },
  {
   "cell_type": "markdown",
   "metadata": {},
   "source": [
    "### Using pre-trained model\n",
    "\n",
    "Took it a while, huh? Now imagine training life-sized (100~300D) word embeddings on gigabytes of text: wikipedia articles or twitter posts. \n",
    "\n",
    "Thankfully, nowadays you can get a pre-trained word embedding model in 2 lines of code (no sms required, promise)."
   ]
  },
  {
   "cell_type": "code",
   "execution_count": 11,
   "metadata": {
    "collapsed": true,
    "ExecuteTime": {
     "end_time": "2023-06-06T18:23:18.358722234Z",
     "start_time": "2023-06-06T18:22:15.675886642Z"
    }
   },
   "outputs": [],
   "source": [
    "import gensim.downloader as api\n",
    "model = api.load('glove-twitter-100')"
   ]
  },
  {
   "cell_type": "code",
   "execution_count": 12,
   "metadata": {
    "ExecuteTime": {
     "end_time": "2023-06-06T18:24:09.659764519Z",
     "start_time": "2023-06-06T18:24:08.551451893Z"
    }
   },
   "outputs": [
    {
     "data": {
      "text/plain": "[('broker', 0.5820155739784241),\n ('bonuses', 0.5424473285675049),\n ('banker', 0.5385112762451172),\n ('designer', 0.5197198390960693),\n ('merchandising', 0.4964233338832855),\n ('treet', 0.4922019839286804),\n ('shopper', 0.4920562207698822),\n ('part-time', 0.4912828207015991),\n ('freelance', 0.4843311905860901),\n ('aupair', 0.4796452522277832)]"
     },
     "execution_count": 12,
     "metadata": {},
     "output_type": "execute_result"
    }
   ],
   "source": [
    "model.most_similar(positive=[\"coder\", \"money\"], negative=[\"brain\"])"
   ]
  },
  {
   "cell_type": "markdown",
   "metadata": {},
   "source": [
    "### Visualizing word vectors\n",
    "\n",
    "One way to see if our vectors are any good is to plot them. Thing is, those vectors are in 30D+ space and we humans are more used to 2-3D.\n",
    "\n",
    "Luckily, we machine learners know about __dimensionality reduction__ methods.\n",
    "\n",
    "Let's use that to plot 1000 most frequent words"
   ]
  },
  {
   "cell_type": "code",
   "execution_count": 15,
   "outputs": [],
   "source": [
    "words = sorted(model.key_to_index.keys(),\n",
    "               key=lambda word: model.get_vecattr(word, 'count'),\n",
    "               reverse=True)[:1000]"
   ],
   "metadata": {
    "collapsed": false,
    "ExecuteTime": {
     "end_time": "2023-06-06T18:56:43.232625371Z",
     "start_time": "2023-06-06T18:56:42.629491393Z"
    }
   }
  },
  {
   "cell_type": "markdown",
   "source": [
    "Получили список наиболее часто встречающихся слов (tokens), которые были использованы при обучении модели word2vec."
   ],
   "metadata": {
    "collapsed": false
   }
  },
  {
   "cell_type": "code",
   "execution_count": 16,
   "outputs": [
    {
     "name": "stdout",
     "output_type": "stream",
     "text": [
      "['<user>', '_', 'please', 'apa', 'justin', 'text', 'hari', 'playing', 'once', 'sei']\n"
     ]
    }
   ],
   "source": [
    "print(words[::100])"
   ],
   "metadata": {
    "collapsed": false,
    "ExecuteTime": {
     "end_time": "2023-06-06T18:56:45.954196482Z",
     "start_time": "2023-06-06T18:56:45.916099860Z"
    }
   }
  },
  {
   "cell_type": "code",
   "execution_count": 17,
   "outputs": [],
   "source": [
    "# for each word, compute it's vector with model\n",
    "word_vectors = np.array([model.get_vector(word) for word in words])"
   ],
   "metadata": {
    "collapsed": false,
    "ExecuteTime": {
     "end_time": "2023-06-06T19:30:49.326272321Z",
     "start_time": "2023-06-06T19:30:49.283719586Z"
    }
   }
  },
  {
   "cell_type": "code",
   "execution_count": 18,
   "metadata": {
    "ExecuteTime": {
     "end_time": "2023-06-06T19:31:01.085816365Z",
     "start_time": "2023-06-06T19:31:01.034206603Z"
    }
   },
   "outputs": [
    {
     "data": {
      "text/plain": "array([[ 0.63006 ,  0.65177 ,  0.25545 , ...,  0.55096 ,  0.64706 ,\n        -0.6093  ],\n       [ 0.18205 , -0.048483,  0.23966 , ..., -0.3358  ,  0.18884 ,\n        -0.40786 ],\n       [ 1.0674  ,  0.45716 ,  0.51463 , ...,  0.13974 ,  0.76487 ,\n        -0.17314 ],\n       ...,\n       [ 0.11065 , -0.040876,  0.2586  , ..., -0.74773 ,  0.306   ,\n         0.37911 ],\n       [ 0.30491 , -0.89558 , -0.46538 , ...,  0.73649 ,  1.3842  ,\n         0.99976 ],\n       [-0.43051 ,  0.56302 ,  0.38305 , ..., -0.3222  ,  0.32782 ,\n         0.51519 ]], dtype=float32)"
     },
     "execution_count": 18,
     "metadata": {},
     "output_type": "execute_result"
    }
   ],
   "source": [
    "word_vectors"
   ]
  },
  {
   "cell_type": "code",
   "execution_count": 20,
   "metadata": {
    "collapsed": true,
    "ExecuteTime": {
     "end_time": "2023-06-06T19:31:20.723899981Z",
     "start_time": "2023-06-06T19:31:20.719619377Z"
    }
   },
   "outputs": [],
   "source": [
    "assert isinstance(word_vectors, np.ndarray)\n",
    "assert word_vectors.shape == (len(words), 100)\n",
    "assert np.isfinite(word_vectors).all()"
   ]
  },
  {
   "cell_type": "markdown",
   "metadata": {},
   "source": [
    "#### Linear projection: PCA\n",
    "\n",
    "The simplest linear dimensionality reduction method is __P__rincipial __C__omponent __A__nalysis.\n",
    "\n",
    "In geometric terms, PCA tries to find axes along which most of the variance occurs. The \"natural\" axes, if you wish.\n",
    "\n",
    "<img src=\"https://github.com/yandexdataschool/Practical_RL/raw/master/yet_another_week/_resource/pca_fish.png\" style=\"width:30%\">\n",
    "\n",
    "\n",
    "Under the hood, it attempts to decompose object-feature matrix $X$ into two smaller matrices: $W$ and $\\hat W$ minimizing _mean squared error_:\n",
    "\n",
    "$$\\|(X W) \\hat{W} - X\\|^2_2 \\to_{W, \\hat{W}} \\min$$\n",
    "- $X \\in \\mathbb{R}^{n \\times m}$ - object matrix (**centered**);\n",
    "- $W \\in \\mathbb{R}^{m \\times d}$ - matrix of direct transformation;\n",
    "- $\\hat{W} \\in \\mathbb{R}^{d \\times m}$ - matrix of reverse transformation;\n",
    "- $n$ samples, $m$ original dimensions and $d$ target dimensions;\n",
    "\n"
   ]
  },
  {
   "cell_type": "code",
   "execution_count": null,
   "metadata": {
    "collapsed": true
   },
   "outputs": [],
   "source": [
    "from sklearn.decomposition import PCA\n",
    "\n",
    "# map word vectors onto 2d plane with PCA. Use good old sklearn api (fit, transform)\n",
    "# after that, normalize vectors to make sure they have zero mean and unit variance\n",
    "word_vectors_pca = # YOUR CODE\n",
    "\n",
    "# and maybe MORE OF YOUR CODE here :)"
   ]
  },
  {
   "cell_type": "code",
   "execution_count": null,
   "metadata": {
    "collapsed": true
   },
   "outputs": [],
   "source": [
    "assert word_vectors_pca.shape == (len(word_vectors), 2), \"there must be a 2d vector for each word\"\n",
    "assert max(abs(word_vectors_pca.mean(0))) < 1e-5, \"points must be zero-centered\"\n",
    "assert max(abs(1.0 - word_vectors_pca.std(0))) < 1e-2, \"points must have unit variance\""
   ]
  },
  {
   "cell_type": "markdown",
   "metadata": {},
   "source": [
    "#### Let's draw it!"
   ]
  },
  {
   "cell_type": "code",
   "execution_count": null,
   "metadata": {},
   "outputs": [],
   "source": [
    "import bokeh.models as bm, bokeh.plotting as pl\n",
    "from bokeh.io import output_notebook\n",
    "output_notebook()\n",
    "\n",
    "def draw_vectors(x, y, radius=10, alpha=0.25, color='blue',\n",
    "                 width=600, height=400, show=True, **kwargs):\n",
    "    \"\"\" draws an interactive plot for data points with auxilirary info on hover \"\"\"\n",
    "    if isinstance(color, str): color = [color] * len(x)\n",
    "    data_source = bm.ColumnDataSource({ 'x' : x, 'y' : y, 'color': color, **kwargs })\n",
    "\n",
    "    fig = pl.figure(active_scroll='wheel_zoom', width=width, height=height)\n",
    "    fig.scatter('x', 'y', size=radius, color='color', alpha=alpha, source=data_source)\n",
    "\n",
    "    fig.add_tools(bm.HoverTool(tooltips=[(key, \"@\" + key) for key in kwargs.keys()]))\n",
    "    if show: pl.show(fig)\n",
    "    return fig"
   ]
  },
  {
   "cell_type": "code",
   "execution_count": null,
   "metadata": {},
   "outputs": [],
   "source": [
    "draw_vectors(word_vectors_pca[:, 0], word_vectors_pca[:, 1], token=words)\n",
    "\n",
    "# hover a mouse over there and see if you can identify the clusters"
   ]
  },
  {
   "cell_type": "markdown",
   "metadata": {},
   "source": [
    "### Visualizing neighbors with t-SNE\n",
    "PCA is nice but it's strictly linear and thus only able to capture coarse high-level structure of the data.\n",
    "\n",
    "If we instead want to focus on keeping neighboring points near, we could use TSNE, which is itself an embedding method. Here you can read __[more on TSNE](https://distill.pub/2016/misread-tsne/)__."
   ]
  },
  {
   "cell_type": "code",
   "execution_count": null,
   "metadata": {},
   "outputs": [],
   "source": [
    "from sklearn.manifold import TSNE\n",
    "\n",
    "# map word vectors onto 2d plane with TSNE. hint: don't panic it may take a minute or two to fit.\n",
    "# normalize them as just lke with pca\n",
    "\n",
    "\n",
    "word_tsne = #YOUR CODE"
   ]
  },
  {
   "cell_type": "code",
   "execution_count": null,
   "metadata": {
    "collapsed": true,
    "scrolled": false
   },
   "outputs": [],
   "source": [
    "draw_vectors(word_tsne[:, 0], word_tsne[:, 1], color='green', token=words)"
   ]
  },
  {
   "cell_type": "markdown",
   "metadata": {},
   "source": [
    "### Visualizing phrases\n",
    "\n",
    "Word embeddings can also be used to represent short phrases. The simplest way is to take __an average__ of vectors for all tokens in the phrase with some weights.\n",
    "\n",
    "This trick is useful to identify what data are you working with: find if there are any outliers, clusters or other artefacts.\n",
    "\n",
    "Let's try this new hammer on our data!\n"
   ]
  },
  {
   "cell_type": "code",
   "execution_count": null,
   "metadata": {
    "collapsed": true
   },
   "outputs": [],
   "source": [
    "def get_phrase_embedding(phrase):\n",
    "    \"\"\"\n",
    "    Convert phrase to a vector by aggregating it's word embeddings. See description above.\n",
    "    \"\"\"\n",
    "    # 1. lowercase phrase\n",
    "    # 2. tokenize phrase\n",
    "    # 3. average word vectors for all words in tokenized phrase\n",
    "    # skip words that are not in model's vocabulary\n",
    "    # if all words are missing from vocabulary, return zeros\n",
    "    \n",
    "    vector = np.zeros([model.vector_size], dtype='float32')\n",
    "    \n",
    "    # YOUR CODE\n",
    "    \n",
    "    return vector\n",
    "        \n",
    "    "
   ]
  },
  {
   "cell_type": "code",
   "execution_count": null,
   "metadata": {
    "collapsed": true
   },
   "outputs": [],
   "source": [
    "vector = get_phrase_embedding(\"I'm very sure. This never happened to me before...\")\n",
    "\n",
    "assert np.allclose(vector[::10],\n",
    "                   np.array([ 0.31807372, -0.02558171,  0.0933293 , -0.1002182 , -1.0278689 ,\n",
    "                             -0.16621883,  0.05083408,  0.17989802,  1.3701859 ,  0.08655966],\n",
    "                              dtype=np.float32))"
   ]
  },
  {
   "cell_type": "code",
   "execution_count": null,
   "metadata": {
    "collapsed": true
   },
   "outputs": [],
   "source": [
    "# let's only consider ~5k phrases for a first run.\n",
    "chosen_phrases = data[::len(data) // 1000]\n",
    "\n",
    "# compute vectors for chosen phrases\n",
    "phrase_vectors = # YOUR CODE"
   ]
  },
  {
   "cell_type": "code",
   "execution_count": null,
   "metadata": {
    "collapsed": true
   },
   "outputs": [],
   "source": [
    "assert isinstance(phrase_vectors, np.ndarray) and np.isfinite(phrase_vectors).all()\n",
    "assert phrase_vectors.shape == (len(chosen_phrases), model.vector_size)"
   ]
  },
  {
   "cell_type": "code",
   "execution_count": null,
   "metadata": {
    "collapsed": true
   },
   "outputs": [],
   "source": [
    "# map vectors into 2d space with pca, tsne or your other method of choice\n",
    "# don't forget to normalize\n",
    "\n",
    "phrase_vectors_2d = TSNE().fit_transform(phrase_vectors)\n",
    "\n",
    "phrase_vectors_2d = (phrase_vectors_2d - phrase_vectors_2d.mean(axis=0)) / phrase_vectors_2d.std(axis=0)"
   ]
  },
  {
   "cell_type": "code",
   "execution_count": null,
   "metadata": {
    "collapsed": true
   },
   "outputs": [],
   "source": [
    "draw_vectors(phrase_vectors_2d[:, 0], phrase_vectors_2d[:, 1],\n",
    "             phrase=[phrase[:50] for phrase in chosen_phrases],\n",
    "             radius=20,)"
   ]
  },
  {
   "cell_type": "markdown",
   "metadata": {},
   "source": [
    "Finally, let's build a simple \"similar question\" engine with phrase embeddings we've built."
   ]
  },
  {
   "cell_type": "code",
   "execution_count": null,
   "metadata": {
    "collapsed": true
   },
   "outputs": [],
   "source": [
    "# compute vector embedding for all lines in data\n",
    "data_vectors = np.array([get_phrase_embedding(l) for l in data])"
   ]
  },
  {
   "cell_type": "code",
   "execution_count": null,
   "metadata": {
    "collapsed": true
   },
   "outputs": [],
   "source": [
    "def find_nearest(query, k=10):\n",
    "    \"\"\"\n",
    "    given text line (query), return k most similar lines from data, sorted from most to least similar\n",
    "    similarity should be measured as cosine between query and line embedding vectors\n",
    "    hint: it's okay to use global variables: data and data_vectors. see also: np.argpartition, np.argsort\n",
    "    \"\"\"\n",
    "    # YOUR CODE\n",
    "    \n",
    "    return <YOUR CODE: top-k lines starting from most similar>"
   ]
  },
  {
   "cell_type": "code",
   "execution_count": null,
   "metadata": {
    "collapsed": true
   },
   "outputs": [],
   "source": [
    "results = find_nearest(query=\"How do i enter the matrix?\", k=10)\n",
    "\n",
    "print(''.join(results))\n",
    "\n",
    "assert len(results) == 10 and isinstance(results[0], str)\n",
    "assert results[0] == 'How do I get to the dark web?\\n'\n",
    "assert results[3] == 'What can I do to save the world?\\n'"
   ]
  },
  {
   "cell_type": "code",
   "execution_count": null,
   "metadata": {
    "collapsed": true
   },
   "outputs": [],
   "source": [
    "find_nearest(query=\"How does Trump?\", k=10)"
   ]
  },
  {
   "cell_type": "code",
   "execution_count": null,
   "metadata": {
    "collapsed": true
   },
   "outputs": [],
   "source": [
    "find_nearest(query=\"Why don't i ask a question myself?\", k=10)"
   ]
  },
  {
   "cell_type": "markdown",
   "metadata": {
    "collapsed": true
   },
   "source": [
    "__Now what?__\n",
    "* Try running TSNE on all data, not just 1000 phrases\n",
    "* See what other embeddings are there in the model zoo: `gensim.downloader.info()`\n",
    "* Take a look at [FastText](https://github.com/facebookresearch/fastText) embeddings\n",
    "* Optimize find_nearest with locality-sensitive hashing: use [nearpy](https://github.com/pixelogik/NearPy) or `sklearn.neighbors`."
   ]
  }
 ],
 "metadata": {
  "kernelspec": {
   "display_name": "Python 3",
   "language": "python",
   "name": "python3"
  },
  "language_info": {
   "codemirror_mode": {
    "name": "ipython",
    "version": 3
   },
   "file_extension": ".py",
   "mimetype": "text/x-python",
   "name": "python",
   "nbconvert_exporter": "python",
   "pygments_lexer": "ipython3",
   "version": "3.5.2"
  }
 },
 "nbformat": 4,
 "nbformat_minor": 2
}
